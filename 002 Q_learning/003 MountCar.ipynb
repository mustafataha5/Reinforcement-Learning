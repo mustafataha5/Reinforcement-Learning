{
 "cells": [
  {
   "cell_type": "code",
   "execution_count": 1,
   "id": "bdee046e",
   "metadata": {},
   "outputs": [],
   "source": [
    "import gymnasium as gym\n",
    "import numpy as np\n",
    "from gymnasium.wrappers import TimeLimit # Add this line\n",
    "import matplotlib.pyplot as plt\n",
    "from IPython.display import  display, clear_output"
   ]
  },
  {
   "cell_type": "code",
   "execution_count": 2,
   "id": "93299004",
   "metadata": {},
   "outputs": [],
   "source": [
    "env = gym.make(\"MountainCar-v0\",render_mode=\"rgb_array\")"
   ]
  },
  {
   "cell_type": "code",
   "execution_count": 3,
   "id": "6e5664b0",
   "metadata": {},
   "outputs": [],
   "source": [
    "state, _ = env.reset()\n",
    "n_bins = 20 \n",
    "\n",
    "q_table = np.zeros((n_bins, n_bins, env.action_space.n))"
   ]
  },
  {
   "cell_type": "code",
   "execution_count": 4,
   "id": "e265a4d6",
   "metadata": {},
   "outputs": [],
   "source": [
    "def discretize_state(state):\n",
    "    position, velocity = state\n",
    "    pos_bin = int(np.digitize(position, np.linspace(-1.2, 0.6, n_bins)) - 1)\n",
    "    vel_bin = int(np.digitize(velocity, np.linspace(-0.07, 0.07, n_bins)) - 1)\n",
    "    return pos_bin, vel_bin"
   ]
  },
  {
   "cell_type": "code",
   "execution_count": 5,
   "id": "41521408",
   "metadata": {},
   "outputs": [],
   "source": [
    "learning_rate = 0.1\n",
    "discount_factor = 0.99\n",
    "exploration_start = 1.0\n",
    "exploration_end = 0.01\n",
    "exploration_decay = 0.9995\n",
    "episodes = 10000\n",
    "epsilon = exploration_start\n",
    "\n",
    "def choose_action(state, epsilon):\n",
    "    if np.random.rand() < epsilon:\n",
    "        return env.action_space.sample()  # Explore\n",
    "    else:\n",
    "        pos_bin, vel_bin = discretize_state(state)\n",
    "        return np.argmax(q_table[pos_bin, vel_bin])  # Exploit"
   ]
  },
  {
   "cell_type": "code",
   "execution_count": 6,
   "id": "3720930f",
   "metadata": {},
   "outputs": [
    {
     "name": "stderr",
     "output_type": "stream",
     "text": [
      " 90%|█████████ | 9007/10000 [04:42<00:32, 31.02it/s]"
     ]
    },
    {
     "name": "stdout",
     "output_type": "stream",
     "text": [
      "Episode 9000, Total Reward: -200.0, Epsilon: 0.0111\n"
     ]
    },
    {
     "name": "stderr",
     "output_type": "stream",
     "text": [
      "100%|██████████| 10000/10000 [05:09<00:00, 32.27it/s]"
     ]
    },
    {
     "name": "stdout",
     "output_type": "stream",
     "text": [
      "Training completed.\n",
      "Final Q-table shape:\n",
      " (20, 20, 3)\n"
     ]
    },
    {
     "name": "stderr",
     "output_type": "stream",
     "text": [
      "\n"
     ]
    }
   ],
   "source": [
    "from tqdm import tqdm\n",
    "for episode in tqdm(range(episodes)):\n",
    "    state, _ = env.reset()\n",
    "    done = False\n",
    "    total_reward = 0\n",
    "\n",
    "    while not done:\n",
    "        pos_bin, vel_bin = discretize_state(state)\n",
    "        action = choose_action(state, epsilon)\n",
    "\n",
    "        next_state, reward, terminated, truncated, info = env.step(action)\n",
    "        next_pos_bin, next_vel_bin = discretize_state(next_state)\n",
    "\n",
    "        total_reward += reward\n",
    "\n",
    "        # Update Q-value\n",
    "        best_next_action = np.argmax(q_table[next_pos_bin, next_vel_bin])\n",
    "        td_target = reward + discount_factor * q_table[next_pos_bin, next_vel_bin, best_next_action]\n",
    "        td_error = td_target - q_table[pos_bin, vel_bin, action]\n",
    "        q_table[pos_bin, vel_bin, action] += learning_rate * td_error\n",
    "\n",
    "        state = next_state\n",
    "        done = terminated or truncated\n",
    "\n",
    "    epsilon = max(exploration_end, epsilon * exploration_decay)\n",
    "    if episode % 1000 == 0:\n",
    "        clear_output(wait=True)\n",
    "        print(f\"Episode {episode}, Total Reward: {total_reward}, Epsilon: {epsilon:.4f}\")\n",
    "\n",
    "print(\"Training completed.\")\n",
    "print(\"Final Q-table shape:\\n\", q_table.shape)\n",
    "env.close()           "
   ]
  },
  {
   "cell_type": "code",
   "execution_count": 10,
   "id": "98fe7e77",
   "metadata": {},
   "outputs": [
    {
     "name": "stdout",
     "output_type": "stream",
     "text": [
      "Total reward during evaluation: -152.0\n"
     ]
    },
    {
     "data": {
      "image/png": "[encoded data removed]",
      "text/plain": [
       "<Figure size 640x480 with 2 Axes>"
      ]
     },
     "metadata": {},
     "output_type": "display_data"
    }
   ],
   "source": [
    "env = gym.make(\"MountainCar-v0\",render_mode=\"human\")\n",
    "state, _ = env.reset()\n",
    "done = False\n",
    "total_reward = 0\n",
    "\n",
    "while not done:\n",
    "    pos_bin, vel_bin = discretize_state(state)\n",
    "    action = np.argmax(q_table[pos_bin, vel_bin])\n",
    "    next_state, reward, terminated, truncated, info = env.step(action)\n",
    "    total_reward += reward\n",
    "    state = next_state\n",
    "    done = terminated or truncated\n",
    "\n",
    "print(f\"Total reward during evaluation: {total_reward}\")\n",
    "\n",
    "env.close()\n",
    "plt.imshow(q_table.max(axis=2), cmap='hot', interpolation='nearest')\n",
    "plt.colorbar()\n",
    "plt.title(\"Max Q-values for each state\")\n",
    "plt.xlabel(\"Velocity Bins\")\n",
    "plt.ylabel(\"Position Bins\")\n",
    "plt.show()\n"
   ]
  },
  {
   "cell_type": "code",
   "execution_count": null,
   "id": "012bac50",
   "metadata": {},
   "outputs": [],
   "source": []
  }
 ],
 "metadata": {
  "kernelspec": {
   "display_name": "ai_env",
   "language": "python",
   "name": "python3"
  },
  "language_info": {
   "codemirror_mode": {
    "name": "ipython",
    "version": 3
   },
   "file_extension": ".py",
   "mimetype": "text/x-python",
   "name": "python",
   "nbconvert_exporter": "python",
   "pygments_lexer": "ipython3",
   "version": "3.10.18"
  }
 },
 "nbformat": 4,
 "nbformat_minor": 5
}
