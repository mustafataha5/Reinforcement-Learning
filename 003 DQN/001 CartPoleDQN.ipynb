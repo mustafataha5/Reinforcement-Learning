{
 "cells": [
  {
   "cell_type": "code",
   "execution_count": 3,
   "id": "b88abe7a",
   "metadata": {},
   "outputs": [],
   "source": [
    "import gymnasium as gym \n",
    "import numpy as np \n",
    "import tensorflow as tf \n",
    "\n"
   ]
  },
  {
   "cell_type": "code",
   "execution_count": 4,
   "id": "6003053d",
   "metadata": {},
   "outputs": [],
   "source": [
    "env = gym.make('CartPole-v1')"
   ]
  },
  {
   "cell_type": "code",
   "execution_count": 5,
   "id": "9cf25c36",
   "metadata": {},
   "outputs": [
    {
     "name": "stdout",
     "output_type": "stream",
     "text": [
      "num of action 2\n",
      "num of space 4\n"
     ]
    }
   ],
   "source": [
    "n_action = env.action_space.n \n",
    "print(f\"num of action {n_action}\")\n",
    "input_space = env.observation_space.shape[0]\n",
    "print(f\"num of space {input_space}\")"
   ]
  },
  {
   "cell_type": "code",
   "execution_count": 6,
   "id": "6cb76b1b",
   "metadata": {},
   "outputs": [],
   "source": [
    "def create_dqn_model (input_space,n_action):\n",
    "\n",
    "    model = tf.keras.Sequential() \n",
    "    model.add( tf.keras.layers.Input(shape=(input_space,)) )\n",
    "    model.add( tf.keras.layers.Dense(24,activation='relu') )\n",
    "    model.add( tf.keras.layers.Dense(24,activation='relu') )\n",
    "    model.add( tf.keras.layers.Dense(n_action,activation='linear') )\n",
    "    \n",
    "    return model \n",
    "\n",
    "\n"
   ]
  },
  {
   "cell_type": "code",
   "execution_count": 7,
   "id": "edcb97ec",
   "metadata": {},
   "outputs": [],
   "source": [
    "agent_dqn = create_dqn_model(input_space,n_action)\n",
    "target_dqn =  create_dqn_model(input_space,n_action)"
   ]
  },
  {
   "cell_type": "code",
   "execution_count": 8,
   "id": "ddec3363",
   "metadata": {},
   "outputs": [],
   "source": [
    "learning_rate = .001 \n",
    "discount = 0.95 \n",
    "\n",
    "epsilon = 1 \n",
    "epsilon_decay = 0.99995 \n",
    "min_epsilon = 0.1 \n",
    "\n",
    "\n",
    "batch_size = 64 \n",
    "\n",
    "\n",
    "\n",
    "\n"
   ]
  },
  {
   "cell_type": "code",
   "execution_count": 10,
   "id": "42688adf",
   "metadata": {},
   "outputs": [],
   "source": [
    "from collections import deque \n",
    "\n",
    "buffer_size = 1_000_000\n",
    "replay_mem = deque(maxlen=buffer_size)\n",
    "\n",
    "\n"
   ]
  },
  {
   "cell_type": "code",
   "execution_count": 11,
   "id": "04860de2",
   "metadata": {},
   "outputs": [],
   "source": [
    "loss_fn = tf.keras.losses.MeanSquaredError() \n",
    "optomizer = tf.keras.optimizers.Adam(learning_rate=learning_rate)"
   ]
  },
  {
   "cell_type": "code",
   "execution_count": 12,
   "id": "d7a46b57",
   "metadata": {},
   "outputs": [],
   "source": [
    "def update_target_network(): \n",
    "    target_dqn.set_weights(agent_dqn.get_weights())"
   ]
  },
  {
   "cell_type": "code",
   "execution_count": null,
   "id": "d5e49b71",
   "metadata": {},
   "outputs": [],
   "source": [
    "episodes = 2000 \n",
    "\n",
    "\n",
    "for episode in "
   ]
  }
 ],
 "metadata": {
  "kernelspec": {
   "display_name": "ai_env",
   "language": "python",
   "name": "python3"
  },
  "language_info": {
   "codemirror_mode": {
    "name": "ipython",
    "version": 3
   },
   "file_extension": ".py",
   "mimetype": "text/x-python",
   "name": "python",
   "nbconvert_exporter": "python",
   "pygments_lexer": "ipython3",
   "version": "3.10.18"
  }
 },
 "nbformat": 4,
 "nbformat_minor": 5
}
