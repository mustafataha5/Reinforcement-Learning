{
 "cells": [
  {
   "cell_type": "code",
   "execution_count": 1,
   "id": "19eddea9",
   "metadata": {},
   "outputs": [],
   "source": [
    "import gymnasium as gym \n",
    "from gymnasium import spaces\n",
    "import numpy as np \n",
    "import random "
   ]
  },
  {
   "cell_type": "code",
   "execution_count": 2,
   "id": "791d6248",
   "metadata": {},
   "outputs": [],
   "source": [
    "import plotly.graph_objects as go\n",
    "from plotly.subplots import make_subplots "
   ]
  },
  {
   "cell_type": "code",
   "execution_count": 3,
   "id": "6a37a8e1",
   "metadata": {},
   "outputs": [],
   "source": [
    "class DroneEnvironment(gym.Env):\n",
    "    \"\"\"\n",
    "    A 3D grid environment for a drone, compatible with Gymnasium.\n",
    "\n",
    "    The drone navigates a grid, avoiding buildings and prohibited zones,\n",
    "    to reach a randomly generated or set goal position.\n",
    "    \"\"\"\n",
    "\n",
    "    def __init__(self, grid_size=10, start_position=None, buildings=None, prohibited_zones=None, max_episode_steps=200):\n",
    "        super().__init__() # Initialize the parent Gym environment\n",
    "\n",
    "        self.grid_size = grid_size\n",
    "        self.start_position = start_position or [0, 0, 0] # Default start position\n",
    "        self.goal_position = [0, 0, 0] # Will be set in reset()\n",
    "        self.buildings = buildings if buildings else []\n",
    "        self.prohibited_zones = prohibited_zones if prohibited_zones else []\n",
    "        self.max_episode_steps = max_episode_steps\n",
    "        self.steps_taken = 0\n",
    "        self.path = []\n",
    "\n",
    "        # Ensure the start position is valid\n",
    "        assert not self._is_invalid_position(self.start_position), \\\n",
    "            f\"Start position {self.start_position} is invalid (in building or prohibited zone).\"\n",
    "\n",
    "        # Define possible actions (6 directions: +X, -X, +Y, -Y, +Z, -Z)\n",
    "        self.actions = [(1, 0, 0), (-1, 0, 0), (0, 1, 0), (0, -1, 0), (0, 0, 1), (0, 0, -1)]\n",
    "        self.action_space = spaces.Discrete(len(self.actions))\n",
    "\n",
    "        # Observation space represents the combined state of drone position and goal position\n",
    "        # Each position has grid_size^3 possible states, so combined is (grid_size^3)^2 = grid_size^6\n",
    "        self.observation_space = spaces.Discrete(self.grid_size**6)\n",
    "\n",
    "        self.current_state = self.position_to_state(self.start_position) # Initial state\n",
    "        self.fig = make_subplots(rows=1, cols=1, specs=[[{'type': 'scatter3d'}]]) # Plotly figure for rendering\n",
    "\n",
    "    def position_to_state(self, position):\n",
    "        \"\"\"Converts a 3D position and the goal's position into a unique integer state.\"\"\"\n",
    "        x1, y1, z1 = position\n",
    "        x2, y2, z2 = self.goal_position\n",
    "\n",
    "        # Encode current position\n",
    "        state1 = x1 * self.grid_size**2 + y1 * self.grid_size + z1\n",
    "        # Encode goal position\n",
    "        state2 = x2 * self.grid_size**2 + y2 * self.grid_size + z2\n",
    "\n",
    "        # Combine both into a single unique state\n",
    "        state = state1 * (self.grid_size**3) + state2\n",
    "        return state\n",
    "\n",
    "    def state_to_position(self, state):\n",
    "        \"\"\"Converts an integer state back to the drone's 3D position.\"\"\"\n",
    "        # Extract state1 (drone's position part) from the combined state\n",
    "        state1 = state // (self.grid_size**3)\n",
    "\n",
    "        # Decode drone's x, y, z coordinates\n",
    "        x1 = state1 // (self.grid_size**2)\n",
    "        y1 = (state1 % (self.grid_size**2)) // self.grid_size\n",
    "        z1 = state1 % self.grid_size\n",
    "        return [x1, y1, z1]\n",
    "\n",
    "    def _is_in_box(self, position, box):\n",
    "        \"\"\"Helper to check if a position is inside a given rectangular box.\"\"\"\n",
    "        px, py, pz = position\n",
    "        bx, by, bz = box['pos']\n",
    "        sx, sy, sz = box['size']\n",
    "        return bx <= px <= bx + sx and \\\n",
    "               by <= py <= by + sy and \\\n",
    "               bz <= pz <= bz + sz\n",
    "\n",
    "    def _is_invalid_position(self, position):\n",
    "        \"\"\"Checks if a position is inside any building or prohibited zone.\"\"\"\n",
    "        # Check against buildings\n",
    "        if any(self._is_in_box(position, b) for b in self.buildings):\n",
    "            return True\n",
    "        # Check against prohibited zones\n",
    "        if any(self._is_in_box(position, z) for z in self.prohibited_zones):\n",
    "            return True\n",
    "        return False\n",
    "\n",
    "    def step(self, action):\n",
    "        \"\"\"\n",
    "        Executes one step in the environment given an action.\n",
    "\n",
    "        Returns:\n",
    "            observation (object): The new state of the environment.\n",
    "            reward (float): The reward obtained from the action.\n",
    "            terminated (bool): Whether the episode has ended (e.g., reached goal, hit obstacle).\n",
    "            truncated (bool): Whether the episode has been truncated (e.g., max steps reached).\n",
    "            info (dict): A dictionary containing additional debug information.\n",
    "        \"\"\"\n",
    "        self.steps_taken += 1\n",
    "        terminated = False\n",
    "        truncated = False\n",
    "        reward = -1 # Default penalty for each step\n",
    "\n",
    "        x, y, z = self.state_to_position(self.current_state)\n",
    "        dx, dy, dz = self.actions[action]\n",
    "        next_position = [x + dx, y + dy, z + dz]\n",
    "\n",
    "        # Check for truncation due to maximum steps\n",
    "        if self.steps_taken > self.max_episode_steps:\n",
    "            reward = -100\n",
    "            truncated = True\n",
    "            info = {\"info\": \"Max steps exceeded\"}\n",
    "            return self.current_state, reward, terminated, truncated, info\n",
    "\n",
    "        # Check for out of bounds (typically terminates the episode)\n",
    "        if not all(0 <= c < self.grid_size for c in next_position):\n",
    "            reward = -100\n",
    "            terminated = True\n",
    "            info = {\"info\": \"Out of bounds\"}\n",
    "            return self.current_state, reward, terminated, truncated, info\n",
    "\n",
    "        # Check for collisions with buildings (terminates the episode)\n",
    "        if any(self._is_in_box(next_position, b) for b in self.buildings):\n",
    "            reward = -50\n",
    "            terminated = True\n",
    "            info = {\"info\": \"Hit building\"}\n",
    "            return self.current_state, reward, terminated, truncated, info\n",
    "\n",
    "        # Check for entering a prohibited zone (terminates the episode)\n",
    "        if any(self._is_in_box(next_position, z) for z in self.prohibited_zones):\n",
    "            reward = -50\n",
    "            terminated = True\n",
    "            info = {\"info\": \"In prohibited zone\"}\n",
    "            return self.current_state, reward, terminated, truncated, info\n",
    "\n",
    "        # Check if the goal is reached (terminates successfully)\n",
    "        if next_position == self.goal_position:\n",
    "            self.path.append(next_position)\n",
    "            self.current_state = self.position_to_state(next_position) # Update state before returning\n",
    "            reward = 1000\n",
    "            terminated = True\n",
    "            info = {\"info\": \"Goal reached\"}\n",
    "            return self.current_state, reward, terminated, truncated, info\n",
    "\n",
    "        # If none of the above, it's a normal step\n",
    "        self.current_state = self.position_to_state(next_position)\n",
    "        self.path.append(next_position)\n",
    "        info = {} # No special info for normal steps\n",
    "        return self.current_state, reward, terminated, truncated, info\n",
    "\n",
    "    def reset(self, *, seed=None, options=None):\n",
    "        \"\"\"\n",
    "        Resets the environment to an initial state and generates a new random goal.\n",
    "\n",
    "        Returns:\n",
    "            observation (object): The initial state of the environment.\n",
    "            info (dict): A dictionary containing additional debug information.\n",
    "        \"\"\"\n",
    "        super().reset(seed=seed) # Important for reproducible random numbers\n",
    "\n",
    "        self.steps_taken = 0\n",
    "        self.path = [self.start_position]\n",
    "        self.current_state = self.position_to_state(self.start_position)\n",
    "\n",
    "        # Generate a new random goal position that is not in a building or prohibited zone\n",
    "        while True:\n",
    "            pos = [random.randint(0, self.grid_size - 1) for _ in range(3)]\n",
    "            if not self._is_invalid_position(pos):\n",
    "                self.goal_position = pos\n",
    "                break\n",
    "\n",
    "        # Update the current state to include the new goal for proper observation\n",
    "        self.current_state = self.position_to_state(self.start_position)\n",
    "\n",
    "        return self.current_state, {}\n",
    "\n",
    "    def set_goal(self, goal_position):\n",
    "        \"\"\"Sets a specific goal position for the drone.\"\"\"\n",
    "        assert not self._is_invalid_position(goal_position), \\\n",
    "            f\"Goal position {goal_position} is invalid (in building or prohibited zone).\"\n",
    "        self.goal_position = goal_position\n",
    "        # Update current state if necessary to reflect new goal in observation space\n",
    "        self.current_state = self.position_to_state(self.state_to_position(self.current_state))\n",
    "\n",
    "    def _draw_point(self, position, color, name, size=6):\n",
    "        \"\"\"Helper to draw a single point on the 3D plot.\"\"\"\n",
    "        self.fig.add_trace(go.Scatter3d(\n",
    "            x=[position[0]], y=[position[1]], z=[position[2]],\n",
    "            mode='markers', marker=dict(size=size, color=color),\n",
    "            name=name, showlegend=False\n",
    "        ))\n",
    "\n",
    "    def _draw_box(self, position, size, color):\n",
    "        \"\"\"Helper to draw a 3D rectangular prism (box) on the plot.\"\"\"\n",
    "        x, y, z = position\n",
    "        dx, dy, dz = size\n",
    "        corners = np.array([\n",
    "            [x, y, z],\n",
    "            [x + dx, y, z],\n",
    "            [x + dx, y + dy, z],\n",
    "            [x, y + dy, z],\n",
    "            [x, y, z + dz],\n",
    "            [x + dx, y, z + dz],\n",
    "            [x + dx, y + dy, z + dz],\n",
    "            [x, y + dy, z + dz]\n",
    "        ])\n",
    "\n",
    "        # Define faces by corner indices\n",
    "        faces = [\n",
    "            [0, 1, 2, 3], # Bottom face\n",
    "            [4, 5, 6, 7], # Top face\n",
    "            [0, 1, 5, 4], # Front face\n",
    "            [2, 3, 7, 6], # Back face\n",
    "            [1, 2, 6, 5], # Right face\n",
    "            [0, 3, 7, 4]  # Left face\n",
    "        ]\n",
    "\n",
    "        for face_indices in faces:\n",
    "            f = corners[face_indices]\n",
    "            self.fig.add_trace(go.Scatter3d(\n",
    "                x=f[:, 0], y=f[:, 1], z=f[:, 2],\n",
    "                mode='lines',\n",
    "                line=dict(color=color, width=4),\n",
    "                showlegend=False\n",
    "            ))\n",
    "\n",
    "    def render(self):\n",
    "        \"\"\"Renders the 3D environment visualization using Plotly.\"\"\"\n",
    "        self.fig.data = [] # Clear any previous plot data\n",
    "\n",
    "        # Setup layout for the 3D scene\n",
    "        self.fig.update_layout(\n",
    "            scene=dict(\n",
    "                # Set axis ranges to include the full grid\n",
    "                xaxis=dict(range=[0, self.grid_size], title='X'),\n",
    "                yaxis=dict(range=[0, self.grid_size], title='Y'),\n",
    "                zaxis=dict(range=[0, self.grid_size], title='Z')\n",
    "            ),\n",
    "            title=\"Drone Environment\"\n",
    "        )\n",
    "\n",
    "        # Draw buildings\n",
    "        for box in self.buildings:\n",
    "            self._draw_box(box['pos'], box['size'], color='yellow')\n",
    "\n",
    "        # Draw prohibited zones\n",
    "        for zone in self.prohibited_zones:\n",
    "            self._draw_box(zone['pos'], zone['size'], color='red')\n",
    "\n",
    "        # Draw start and goal points\n",
    "        self._draw_point(self.start_position, 'green', 'Start', size=10)\n",
    "        self._draw_point(self.goal_position, 'blue', 'Goal', size=10)\n",
    "\n",
    "        # Draw drone path\n",
    "        if self.path:\n",
    "            xs, ys, zs = zip(*self.path)\n",
    "            self.fig.add_trace(go.Scatter3d(\n",
    "                x=xs, y=ys, z=zs,\n",
    "                mode='lines+markers',\n",
    "                line=dict(color='black', width=2),\n",
    "                marker=dict(size=2, color='red'),\n",
    "                name='Drone Path', showlegend=False\n",
    "            ))\n",
    "\n",
    "        # Draw current drone position\n",
    "        current_drone_pos = self.state_to_position(self.current_state)\n",
    "        self._draw_point(current_drone_pos, 'red', 'Drone', size=5)\n",
    "\n",
    "        self.fig.show()\n",
    "\n",
    "    def close(self):\n",
    "        \"\"\"Cleans up the environment, usually by clearing plot data.\"\"\"\n",
    "        self.fig.data = []"
   ]
  },
  {
   "cell_type": "code",
   "execution_count": 4,
   "id": "5ee22d47",
   "metadata": {},
   "outputs": [],
   "source": [
    "\n",
    "\n",
    "class DroneEnvironment_v1(gym.Env):\n",
    "\n",
    "    def __init__(self, grid_size=10, start_position=None, buildings=None, prohibited_zones=None, max_episode_steps=200):\n",
    "        super(DroneEnvironment_v1, self).__init__()\n",
    "        \n",
    "        # حجم الشبكة ثلاثية الأبعاد\n",
    "        self.grid_size = grid_size\n",
    "\n",
    "        # الأبنية التي يجب على الطائرة تجنبها\n",
    "        self.buildings = buildings if buildings else []\n",
    "\n",
    "        # المناطق الممنوعة (مثلاً مناطق عسكرية)\n",
    "        self.prohibited_zones = prohibited_zones if prohibited_zones else []\n",
    "\n",
    "        # الحد الأقصى لعدد الخطوات لكل حلقة\n",
    "        self.max_episode_steps = max_episode_steps\n",
    "\n",
    "        # الحركات المسموحة (ستة اتجاهات في الفضاء)\n",
    "        self.actions = [(1, 0, 0), (-1, 0, 0), \n",
    "                        (0, 1, 0), (0, -1, 0), \n",
    "                        (0, 0, 1), (0, 0, -1)]\n",
    "\n",
    "        # فضاء الأفعال\n",
    "        self.action_space = spaces.Discrete(len(self.actions))\n",
    "\n",
    "        # فضاء الحالات (يمثل الموضع والهدف معًا)\n",
    "        self.observation_space = spaces.Discrete(grid_size**6)\n",
    "\n",
    "        # الموضع الابتدائي للطائرة\n",
    "        self.start_position = start_position or [0, 0, 0]\n",
    "\n",
    "        # موضع الهدف (سيتم تعيينه لاحقًا)\n",
    "        self.goal_position = [0, 0, 0]\n",
    "\n",
    "        # مسار الطائرة\n",
    "        self.path = []\n",
    "\n",
    "        # عدد الخطوات المنفذة\n",
    "        self.steps_taken = 0\n",
    "\n",
    "        # إنشاء الرسم\n",
    "        self.fig = make_subplots(rows=1, cols=1, specs=[[{'type': 'scatter3d'}]])\n",
    "\n",
    "        # التأكد أن الموضع الابتدائي غير محظور\n",
    "        assert not self._is_invalid_position(self.start_position), \"Start position is invalid\"\n",
    "\n",
    "        # الحالة الابتدائية\n",
    "        self.current_state = self.position_to_state(self.start_position)\n",
    "\n",
    "    # تحويل الموضع إلى رقم حالة فريد باستخدام إحداثيات الهدف\n",
    "    def position_to_state(self, position):\n",
    "        x1, y1, z1 = position\n",
    "        x2, y2, z2 = self.goal_position\n",
    "        state1 = x1 * self.grid_size**2 + y1 * self.grid_size + z1\n",
    "        state2 = x2 * self.grid_size**2 + y2 * self.grid_size + z2\n",
    "        return state1 * (self.grid_size**3) + state2\n",
    "\n",
    "    # تحويل رقم الحالة إلى موضع\n",
    "    def state_to_position(self, state):\n",
    "        state1 = state // (self.grid_size**3)\n",
    "        x1 = state1 // (self.grid_size**2)\n",
    "        y1 = (state1 % (self.grid_size**2)) // self.grid_size\n",
    "        z1 = state1 % self.grid_size\n",
    "        return [x1, y1, z1]\n",
    "\n",
    "    # اختبار إذا كان الموضع داخل بناء أو منطقة محظورة\n",
    "    def _is_in_box(self, position, box):\n",
    "        px, py, pz = position\n",
    "        bx, by, bz = box['pos']\n",
    "        sx, sy, sz = box['size']\n",
    "        return bx <= px <= bx + sx and by <= py <= by + sy and bz <= pz <= bz + sz\n",
    "\n",
    "    # التحقق من أن الموضع غير مسموح (داخل بناء أو منطقة محظورة)\n",
    "    def _is_invalid_position(self, position):\n",
    "        return any(self._is_in_box(position, b) for b in self.buildings + self.prohibited_zones)\n",
    "\n",
    "    # تنفيذ خطوة واحدة (action) في البيئة\n",
    "    def step(self, action):\n",
    "        # زيادة عداد الخطوات\n",
    "        self.steps_taken += 1\n",
    "\n",
    "        # إذا تم تجاوز الحد الأقصى\n",
    "        if self.steps_taken > self.max_episode_steps:\n",
    "            return self.current_state, -100, True, {\"info\": \"Max steps exceeded\"}\n",
    "\n",
    "        # استخراج الموضع الحالي من رقم الحالة\n",
    "        x, y, z = self.state_to_position(self.current_state)\n",
    "        dx, dy, dz = self.actions[action]\n",
    "        next_position = [x + dx, y + dy, z + dz]\n",
    "\n",
    "        # التحقق من الخروج من الشبكة\n",
    "        if not all(0 <= c < self.grid_size for c in next_position):\n",
    "            return self.current_state, -100, False, {\"info\": \"Out of bounds\"}\n",
    "\n",
    "        # الاصطدام ببناء\n",
    "        if any(self._is_in_box(next_position, b) for b in self.buildings):\n",
    "            return self.current_state, -50, False, {\"info\": \"Hit building\"}\n",
    "\n",
    "        # الوقوع في منطقة ممنوعة\n",
    "        if any(self._is_in_box(next_position, z) for z in self.prohibited_zones):\n",
    "            return self.current_state, -50, False, {\"info\": \"In prohibited zone\"}\n",
    "\n",
    "        # الوصول إلى الهدف\n",
    "        if next_position == self.goal_position:\n",
    "            self.path.append(next_position)\n",
    "            state = self.position_to_state(next_position)\n",
    "            return state, 1000, True, {\"info\": \"Goal reached\"}\n",
    "\n",
    "        # التحديث إلى الحالة الجديدة\n",
    "        self.current_state = self.position_to_state(next_position)\n",
    "        self.path.append(next_position)\n",
    "        return self.current_state, -1, False, {}\n",
    "\n",
    "    # إعادة تهيئة البيئة\n",
    "    def reset(self, seed=None, return_info=False, options=None):\n",
    "        super().reset(seed=seed)\n",
    "        self.steps_taken = 0\n",
    "        self.path = [self.start_position]\n",
    "        self.current_state = self.position_to_state(self.start_position)\n",
    "\n",
    "        # توليد موضع عشوائي للهدف لا يتداخل مع الأبنية أو المناطق الممنوعة\n",
    "        while True:\n",
    "            pos = [random.randint(0, self.grid_size-1) for _ in range(3)]\n",
    "            if not self._is_invalid_position(pos):\n",
    "                self.goal_position = pos\n",
    "                break\n",
    "\n",
    "        return (self.current_state, {}) if return_info else self.current_state\n",
    "\n",
    "    # تعيين موضع معين للهدف\n",
    "    def set_goal(self, goal_position):\n",
    "        assert not self._is_invalid_position(goal_position), \"Invalid goal position\"\n",
    "        self.goal_position = goal_position\n",
    "\n",
    "    # إظهار البيئة باستخدام الرسم ثلاثي الأبعاد\n",
    "    def render(self):\n",
    "        # مسح أي رسومات قديمة\n",
    "        self.fig.data = []\n",
    "\n",
    "        # إعداد الرسم\n",
    "        self.fig.update_layout(\n",
    "            scene=dict(\n",
    "                xaxis=dict(range=[0, self.grid_size], title='X'),\n",
    "                yaxis=dict(range=[0, self.grid_size], title='Y'),\n",
    "                zaxis=dict(range=[0, self.grid_size], title='Z')\n",
    "            ),\n",
    "            title=\"Drone Environment\"\n",
    "        )\n",
    "\n",
    "        # رسم الأبنية\n",
    "        for box in self.buildings:\n",
    "            self._draw_box(box['pos'], box['size'], color='yellow')\n",
    "\n",
    "        # رسم المناطق الممنوعة\n",
    "        for zone in self.prohibited_zones:\n",
    "            self._draw_box(zone['pos'], zone['size'], color='red')\n",
    "\n",
    "        # البداية والنهاية\n",
    "        self._draw_point(self.start_position, 'green', 'Start')\n",
    "        self._draw_point(self.goal_position, 'blue', 'Goal')\n",
    "\n",
    "        # مسار الدرون\n",
    "        if self.path:\n",
    "            xs, ys, zs = zip(*self.path)\n",
    "            self.fig.add_trace(go.Scatter3d(\n",
    "                x=xs, y=ys, z=zs,\n",
    "                mode='lines+markers',\n",
    "                line=dict(color='black', width=2),\n",
    "                marker=dict(size=2, color='red'),\n",
    "                name='Drone Path', showlegend=False\n",
    "            ))\n",
    "\n",
    "        # الموضع الحالي\n",
    "        x, y, z = self.state_to_position(self.current_state)\n",
    "        self._draw_point([x, y, z], 'red', 'Drone')\n",
    "\n",
    "        # عرض الشكل النهائي\n",
    "        self.fig.show()\n",
    "\n",
    "    # رسم نقطة واحدة في الفراغ (مثل البداية أو الهدف)\n",
    "    def _draw_point(self, position, color, name):\n",
    "        self.fig.add_trace(go.Scatter3d(\n",
    "            x=[position[0]], y=[position[1]], z=[position[2]],\n",
    "            mode='markers', marker=dict(size=6, color=color),\n",
    "            name=name, showlegend=False\n",
    "        ))\n",
    "\n",
    "    # رسم متوازي مستطيلات (لبناء أو منطقة ممنوعة)\n",
    "    def _draw_box(self, position, size, color):\n",
    "        x, y, z = position\n",
    "        dx, dy, dz = size\n",
    "        corners = np.array([\n",
    "            [x, y, z],\n",
    "            [x + dx, y, z],\n",
    "            [x + dx, y + dy, z],\n",
    "            [x, y + dy, z],\n",
    "            [x, y, z + dz],\n",
    "            [x + dx, y, z + dz],\n",
    "            [x + dx, y + dy, z + dz],\n",
    "            [x, y + dy, z + dz]\n",
    "        ])\n",
    "\n",
    "        faces = [\n",
    "            [0, 1, 2, 3],\n",
    "            [4, 5, 6, 7],\n",
    "            [0, 1, 5, 4],\n",
    "            [2, 3, 7, 6],\n",
    "            [1, 2, 6, 5],\n",
    "            [0, 3, 7, 4]\n",
    "        ]\n",
    "\n",
    "        for face in faces:\n",
    "            f = corners[face]\n",
    "            self.fig.add_trace(go.Scatter3d(\n",
    "                x=f[:, 0], y=f[:, 1], z=f[:, 2],\n",
    "                mode='lines',\n",
    "                line=dict(color=color, width=4),\n",
    "                showlegend=False\n",
    "            ))\n",
    "\n",
    "    # إغلاق البيئة\n",
    "    def close(self):\n",
    "        self.fig.data = []\n"
   ]
  },
  {
   "cell_type": "code",
   "execution_count": 6,
   "id": "e324c8be",
   "metadata": {},
   "outputs": [],
   "source": [
    "# تسجيل البيئة\n",
    "gym.register(\n",
    "    id=\"Drone-v0\",\n",
    "    entry_point=DroneEnvironment\n",
    ")\n",
    "gym.register(\n",
    "    id=\"Drone-v1\",\n",
    "    entry_point=DroneEnvironment_v1\n",
    ")"
   ]
  },
  {
   "cell_type": "code",
   "execution_count": 7,
   "id": "bee8e773",
   "metadata": {},
   "outputs": [
    {
     "name": "stderr",
     "output_type": "stream",
     "text": [
      "c:\\Users\\user\\anaconda3\\envs\\ai_env\\lib\\site-packages\\gymnasium\\envs\\registration.py:512: DeprecationWarning: \u001b[33mWARN: The environment Drone-v0 is out of date. You should consider upgrading to version `v1`.\u001b[0m\n",
      "  logger.deprecation(\n"
     ]
    },
    {
     "data": {
      "application/vnd.plotly.v1+json": {
       "config": {
        "plotlyServerURL": "https://plot.ly"
       },
       "data": [
        {
         "line": {
          "color": "yellow",
          "width": 4
         },
         "mode": "lines",
         "showlegend": false,
         "type": "scatter3d",
         "x": {
          "bdata": "AwgIAw==",
          "dtype": "i1"
         },
         "y": {
          "bdata": "AwMICA==",
          "dtype": "i1"
         },
         "z": {
          "bdata": "AAAAAA==",
          "dtype": "i1"
         }
        },
        {
         "line": {
          "color": "yellow",
          "width": 4
         },
         "mode": "lines",
         "showlegend": false,
         "type": "scatter3d",
         "x": {
          "bdata": "AwgIAw==",
          "dtype": "i1"
         },
         "y": {
          "bdata": "AwMICA==",
          "dtype": "i1"
         },
         "z": {
          "bdata": "BQUFBQ==",
          "dtype": "i1"
         }
        },
        {
         "line": {
          "color": "yellow",
          "width": 4
         },
         "mode": "lines",
         "showlegend": false,
         "type": "scatter3d",
         "x": {
          "bdata": "AwgIAw==",
          "dtype": "i1"
         },
         "y": {
          "bdata": "AwMDAw==",
          "dtype": "i1"
         },
         "z": {
          "bdata": "AAAFBQ==",
          "dtype": "i1"
         }
        },
        {
         "line": {
          "color": "yellow",
          "width": 4
         },
         "mode": "lines",
         "showlegend": false,
         "type": "scatter3d",
         "x": {
          "bdata": "CAMDCA==",
          "dtype": "i1"
         },
         "y": {
          "bdata": "CAgICA==",
          "dtype": "i1"
         },
         "z": {
          "bdata": "AAAFBQ==",
          "dtype": "i1"
         }
        },
        {
         "line": {
          "color": "yellow",
          "width": 4
         },
         "mode": "lines",
         "showlegend": false,
         "type": "scatter3d",
         "x": {
          "bdata": "CAgICA==",
          "dtype": "i1"
         },
         "y": {
          "bdata": "AwgIAw==",
          "dtype": "i1"
         },
         "z": {
          "bdata": "AAAFBQ==",
          "dtype": "i1"
         }
        },
        {
         "line": {
          "color": "yellow",
          "width": 4
         },
         "mode": "lines",
         "showlegend": false,
         "type": "scatter3d",
         "x": {
          "bdata": "AwMDAw==",
          "dtype": "i1"
         },
         "y": {
          "bdata": "AwgIAw==",
          "dtype": "i1"
         },
         "z": {
          "bdata": "AAAFBQ==",
          "dtype": "i1"
         }
        },
        {
         "line": {
          "color": "yellow",
          "width": 4
         },
         "mode": "lines",
         "showlegend": false,
         "type": "scatter3d",
         "x": {
          "bdata": "CAkJCA==",
          "dtype": "i1"
         },
         "y": {
          "bdata": "CAgJCQ==",
          "dtype": "i1"
         },
         "z": {
          "bdata": "AAAAAA==",
          "dtype": "i1"
         }
        },
        {
         "line": {
          "color": "yellow",
          "width": 4
         },
         "mode": "lines",
         "showlegend": false,
         "type": "scatter3d",
         "x": {
          "bdata": "CAkJCA==",
          "dtype": "i1"
         },
         "y": {
          "bdata": "CAgJCQ==",
          "dtype": "i1"
         },
         "z": {
          "bdata": "AQEBAQ==",
          "dtype": "i1"
         }
        },
        {
         "line": {
          "color": "yellow",
          "width": 4
         },
         "mode": "lines",
         "showlegend": false,
         "type": "scatter3d",
         "x": {
          "bdata": "CAkJCA==",
          "dtype": "i1"
         },
         "y": {
          "bdata": "CAgICA==",
          "dtype": "i1"
         },
         "z": {
          "bdata": "AAABAQ==",
          "dtype": "i1"
         }
        },
        {
         "line": {
          "color": "yellow",
          "width": 4
         },
         "mode": "lines",
         "showlegend": false,
         "type": "scatter3d",
         "x": {
          "bdata": "CQgICQ==",
          "dtype": "i1"
         },
         "y": {
          "bdata": "CQkJCQ==",
          "dtype": "i1"
         },
         "z": {
          "bdata": "AAABAQ==",
          "dtype": "i1"
         }
        },
        {
         "line": {
          "color": "yellow",
          "width": 4
         },
         "mode": "lines",
         "showlegend": false,
         "type": "scatter3d",
         "x": {
          "bdata": "CQkJCQ==",
          "dtype": "i1"
         },
         "y": {
          "bdata": "CAkJCA==",
          "dtype": "i1"
         },
         "z": {
          "bdata": "AAABAQ==",
          "dtype": "i1"
         }
        },
        {
         "line": {
          "color": "yellow",
          "width": 4
         },
         "mode": "lines",
         "showlegend": false,
         "type": "scatter3d",
         "x": {
          "bdata": "CAgICA==",
          "dtype": "i1"
         },
         "y": {
          "bdata": "CAkJCA==",
          "dtype": "i1"
         },
         "z": {
          "bdata": "AAABAQ==",
          "dtype": "i1"
         }
        },
        {
         "line": {
          "color": "red",
          "width": 4
         },
         "mode": "lines",
         "showlegend": false,
         "type": "scatter3d",
         "x": {
          "bdata": "AAICAA==",
          "dtype": "i1"
         },
         "y": {
          "bdata": "AgIGBg==",
          "dtype": "i1"
         },
         "z": {
          "bdata": "AAAAAA==",
          "dtype": "i1"
         }
        },
        {
         "line": {
          "color": "red",
          "width": 4
         },
         "mode": "lines",
         "showlegend": false,
         "type": "scatter3d",
         "x": {
          "bdata": "AAICAA==",
          "dtype": "i1"
         },
         "y": {
          "bdata": "AgIGBg==",
          "dtype": "i1"
         },
         "z": {
          "bdata": "BAQEBA==",
          "dtype": "i1"
         }
        },
        {
         "line": {
          "color": "red",
          "width": 4
         },
         "mode": "lines",
         "showlegend": false,
         "type": "scatter3d",
         "x": {
          "bdata": "AAICAA==",
          "dtype": "i1"
         },
         "y": {
          "bdata": "AgICAg==",
          "dtype": "i1"
         },
         "z": {
          "bdata": "AAAEBA==",
          "dtype": "i1"
         }
        },
        {
         "line": {
          "color": "red",
          "width": 4
         },
         "mode": "lines",
         "showlegend": false,
         "type": "scatter3d",
         "x": {
          "bdata": "AgAAAg==",
          "dtype": "i1"
         },
         "y": {
          "bdata": "BgYGBg==",
          "dtype": "i1"
         },
         "z": {
          "bdata": "AAAEBA==",
          "dtype": "i1"
         }
        },
        {
         "line": {
          "color": "red",
          "width": 4
         },
         "mode": "lines",
         "showlegend": false,
         "type": "scatter3d",
         "x": {
          "bdata": "AgICAg==",
          "dtype": "i1"
         },
         "y": {
          "bdata": "AgYGAg==",
          "dtype": "i1"
         },
         "z": {
          "bdata": "AAAEBA==",
          "dtype": "i1"
         }
        },
        {
         "line": {
          "color": "red",
          "width": 4
         },
         "mode": "lines",
         "showlegend": false,
         "type": "scatter3d",
         "x": {
          "bdata": "AAAAAA==",
          "dtype": "i1"
         },
         "y": {
          "bdata": "AgYGAg==",
          "dtype": "i1"
         },
         "z": {
          "bdata": "AAAEBA==",
          "dtype": "i1"
         }
        },
        {
         "line": {
          "color": "red",
          "width": 4
         },
         "mode": "lines",
         "showlegend": false,
         "type": "scatter3d",
         "x": {
          "bdata": "CAoKCA==",
          "dtype": "i1"
         },
         "y": {
          "bdata": "AQEDAw==",
          "dtype": "i1"
         },
         "z": {
          "bdata": "AAAAAA==",
          "dtype": "i1"
         }
        },
        {
         "line": {
          "color": "red",
          "width": 4
         },
         "mode": "lines",
         "showlegend": false,
         "type": "scatter3d",
         "x": {
          "bdata": "CAoKCA==",
          "dtype": "i1"
         },
         "y": {
          "bdata": "AQEDAw==",
          "dtype": "i1"
         },
         "z": {
          "bdata": "BQUFBQ==",
          "dtype": "i1"
         }
        },
        {
         "line": {
          "color": "red",
          "width": 4
         },
         "mode": "lines",
         "showlegend": false,
         "type": "scatter3d",
         "x": {
          "bdata": "CAoKCA==",
          "dtype": "i1"
         },
         "y": {
          "bdata": "AQEBAQ==",
          "dtype": "i1"
         },
         "z": {
          "bdata": "AAAFBQ==",
          "dtype": "i1"
         }
        },
        {
         "line": {
          "color": "red",
          "width": 4
         },
         "mode": "lines",
         "showlegend": false,
         "type": "scatter3d",
         "x": {
          "bdata": "CggICg==",
          "dtype": "i1"
         },
         "y": {
          "bdata": "AwMDAw==",
          "dtype": "i1"
         },
         "z": {
          "bdata": "AAAFBQ==",
          "dtype": "i1"
         }
        },
        {
         "line": {
          "color": "red",
          "width": 4
         },
         "mode": "lines",
         "showlegend": false,
         "type": "scatter3d",
         "x": {
          "bdata": "CgoKCg==",
          "dtype": "i1"
         },
         "y": {
          "bdata": "AQMDAQ==",
          "dtype": "i1"
         },
         "z": {
          "bdata": "AAAFBQ==",
          "dtype": "i1"
         }
        },
        {
         "line": {
          "color": "red",
          "width": 4
         },
         "mode": "lines",
         "showlegend": false,
         "type": "scatter3d",
         "x": {
          "bdata": "CAgICA==",
          "dtype": "i1"
         },
         "y": {
          "bdata": "AQMDAQ==",
          "dtype": "i1"
         },
         "z": {
          "bdata": "AAAFBQ==",
          "dtype": "i1"
         }
        },
        {
         "marker": {
          "color": "green",
          "size": 10
         },
         "mode": "markers",
         "name": "Start",
         "showlegend": false,
         "type": "scatter3d",
         "x": [
          1
         ],
         "y": [
          9
         ],
         "z": [
          0
         ]
        },
        {
         "marker": {
          "color": "blue",
          "size": 10
         },
         "mode": "markers",
         "name": "Goal",
         "showlegend": false,
         "type": "scatter3d",
         "x": [
          9
         ],
         "y": [
          0
         ],
         "z": [
          8
         ]
        },
        {
         "line": {
          "color": "black",
          "width": 2
         },
         "marker": {
          "color": "red",
          "size": 2
         },
         "mode": "lines+markers",
         "name": "Drone Path",
         "showlegend": false,
         "type": "scatter3d",
         "x": [
          1
         ],
         "y": [
          9
         ],
         "z": [
          0
         ]
        },
        {
         "marker": {
          "color": "red",
          "size": 5
         },
         "mode": "markers",
         "name": "Drone",
         "showlegend": false,
         "type": "scatter3d",
         "x": [
          1
         ],
         "y": [
          9
         ],
         "z": [
          0
         ]
        }
       ],
       "layout": {
        "scene": {
         "domain": {
          "x": [
           0,
           1
          ],
          "y": [
           0,
           1
          ]
         },
         "xaxis": {
          "range": [
           0,
           10
          ],
          "title": {
           "text": "X"
          }
         },
         "yaxis": {
          "range": [
           0,
           10
          ],
          "title": {
           "text": "Y"
          }
         },
         "zaxis": {
          "range": [
           0,
           10
          ],
          "title": {
           "text": "Z"
          }
         }
        },
        "template": {
         "data": {
          "bar": [
           {
            "error_x": {
             "color": "#2a3f5f"
            },
            "error_y": {
             "color": "#2a3f5f"
            },
            "marker": {
             "line": {
              "color": "#E5ECF6",
              "width": 0.5
             },
             "pattern": {
              "fillmode": "overlay",
              "size": 10,
              "solidity": 0.2
             }
            },
            "type": "bar"
           }
          ],
          "barpolar": [
           {
            "marker": {
             "line": {
              "color": "#E5ECF6",
              "width": 0.5
             },
             "pattern": {
              "fillmode": "overlay",
              "size": 10,
              "solidity": 0.2
             }
            },
            "type": "barpolar"
           }
          ],
          "carpet": [
           {
            "aaxis": {
             "endlinecolor": "#2a3f5f",
             "gridcolor": "white",
             "linecolor": "white",
             "minorgridcolor": "white",
             "startlinecolor": "#2a3f5f"
            },
            "baxis": {
             "endlinecolor": "#2a3f5f",
             "gridcolor": "white",
             "linecolor": "white",
             "minorgridcolor": "white",
             "startlinecolor": "#2a3f5f"
            },
            "type": "carpet"
           }
          ],
          "choropleth": [
           {
            "colorbar": {
             "outlinewidth": 0,
             "ticks": ""
            },
            "type": "choropleth"
           }
          ],
          "contour": [
           {
            "colorbar": {
             "outlinewidth": 0,
             "ticks": ""
            },
            "colorscale": [
             [
              0,
              "#0d0887"
             ],
             [
              0.1111111111111111,
              "#46039f"
             ],
             [
              0.2222222222222222,
              "#7201a8"
             ],
             [
              0.3333333333333333,
              "#9c179e"
             ],
             [
              0.4444444444444444,
              "#bd3786"
             ],
             [
              0.5555555555555556,
              "#d8576b"
             ],
             [
              0.6666666666666666,
              "#ed7953"
             ],
             [
              0.7777777777777778,
              "#fb9f3a"
             ],
             [
              0.8888888888888888,
              "#fdca26"
             ],
             [
              1,
              "#f0f921"
             ]
            ],
            "type": "contour"
           }
          ],
          "contourcarpet": [
           {
            "colorbar": {
             "outlinewidth": 0,
             "ticks": ""
            },
            "type": "contourcarpet"
           }
          ],
          "heatmap": [
           {
            "colorbar": {
             "outlinewidth": 0,
             "ticks": ""
            },
            "colorscale": [
             [
              0,
              "#0d0887"
             ],
             [
              0.1111111111111111,
              "#46039f"
             ],
             [
              0.2222222222222222,
              "#7201a8"
             ],
             [
              0.3333333333333333,
              "#9c179e"
             ],
             [
              0.4444444444444444,
              "#bd3786"
             ],
             [
              0.5555555555555556,
              "#d8576b"
             ],
             [
              0.6666666666666666,
              "#ed7953"
             ],
             [
              0.7777777777777778,
              "#fb9f3a"
             ],
             [
              0.8888888888888888,
              "#fdca26"
             ],
             [
              1,
              "#f0f921"
             ]
            ],
            "type": "heatmap"
           }
          ],
          "histogram": [
           {
            "marker": {
             "pattern": {
              "fillmode": "overlay",
              "size": 10,
              "solidity": 0.2
             }
            },
            "type": "histogram"
           }
          ],
          "histogram2d": [
           {
            "colorbar": {
             "outlinewidth": 0,
             "ticks": ""
            },
            "colorscale": [
             [
              0,
              "#0d0887"
             ],
             [
              0.1111111111111111,
              "#46039f"
             ],
             [
              0.2222222222222222,
              "#7201a8"
             ],
             [
              0.3333333333333333,
              "#9c179e"
             ],
             [
              0.4444444444444444,
              "#bd3786"
             ],
             [
              0.5555555555555556,
              "#d8576b"
             ],
             [
              0.6666666666666666,
              "#ed7953"
             ],
             [
              0.7777777777777778,
              "#fb9f3a"
             ],
             [
              0.8888888888888888,
              "#fdca26"
             ],
             [
              1,
              "#f0f921"
             ]
            ],
            "type": "histogram2d"
           }
          ],
          "histogram2dcontour": [
           {
            "colorbar": {
             "outlinewidth": 0,
             "ticks": ""
            },
            "colorscale": [
             [
              0,
              "#0d0887"
             ],
             [
              0.1111111111111111,
              "#46039f"
             ],
             [
              0.2222222222222222,
              "#7201a8"
             ],
             [
              0.3333333333333333,
              "#9c179e"
             ],
             [
              0.4444444444444444,
              "#bd3786"
             ],
             [
              0.5555555555555556,
              "#d8576b"
             ],
             [
              0.6666666666666666,
              "#ed7953"
             ],
             [
              0.7777777777777778,
              "#fb9f3a"
             ],
             [
              0.8888888888888888,
              "#fdca26"
             ],
             [
              1,
              "#f0f921"
             ]
            ],
            "type": "histogram2dcontour"
           }
          ],
          "mesh3d": [
           {
            "colorbar": {
             "outlinewidth": 0,
             "ticks": ""
            },
            "type": "mesh3d"
           }
          ],
          "parcoords": [
           {
            "line": {
             "colorbar": {
              "outlinewidth": 0,
              "ticks": ""
             }
            },
            "type": "parcoords"
           }
          ],
          "pie": [
           {
            "automargin": true,
            "type": "pie"
           }
          ],
          "scatter": [
           {
            "fillpattern": {
             "fillmode": "overlay",
             "size": 10,
             "solidity": 0.2
            },
            "type": "scatter"
           }
          ],
          "scatter3d": [
           {
            "line": {
             "colorbar": {
              "outlinewidth": 0,
              "ticks": ""
             }
            },
            "marker": {
             "colorbar": {
              "outlinewidth": 0,
              "ticks": ""
             }
            },
            "type": "scatter3d"
           }
          ],
          "scattercarpet": [
           {
            "marker": {
             "colorbar": {
              "outlinewidth": 0,
              "ticks": ""
             }
            },
            "type": "scattercarpet"
           }
          ],
          "scattergeo": [
           {
            "marker": {
             "colorbar": {
              "outlinewidth": 0,
              "ticks": ""
             }
            },
            "type": "scattergeo"
           }
          ],
          "scattergl": [
           {
            "marker": {
             "colorbar": {
              "outlinewidth": 0,
              "ticks": ""
             }
            },
            "type": "scattergl"
           }
          ],
          "scattermap": [
           {
            "marker": {
             "colorbar": {
              "outlinewidth": 0,
              "ticks": ""
             }
            },
            "type": "scattermap"
           }
          ],
          "scattermapbox": [
           {
            "marker": {
             "colorbar": {
              "outlinewidth": 0,
              "ticks": ""
             }
            },
            "type": "scattermapbox"
           }
          ],
          "scatterpolar": [
           {
            "marker": {
             "colorbar": {
              "outlinewidth": 0,
              "ticks": ""
             }
            },
            "type": "scatterpolar"
           }
          ],
          "scatterpolargl": [
           {
            "marker": {
             "colorbar": {
              "outlinewidth": 0,
              "ticks": ""
             }
            },
            "type": "scatterpolargl"
           }
          ],
          "scatterternary": [
           {
            "marker": {
             "colorbar": {
              "outlinewidth": 0,
              "ticks": ""
             }
            },
            "type": "scatterternary"
           }
          ],
          "surface": [
           {
            "colorbar": {
             "outlinewidth": 0,
             "ticks": ""
            },
            "colorscale": [
             [
              0,
              "#0d0887"
             ],
             [
              0.1111111111111111,
              "#46039f"
             ],
             [
              0.2222222222222222,
              "#7201a8"
             ],
             [
              0.3333333333333333,
              "#9c179e"
             ],
             [
              0.4444444444444444,
              "#bd3786"
             ],
             [
              0.5555555555555556,
              "#d8576b"
             ],
             [
              0.6666666666666666,
              "#ed7953"
             ],
             [
              0.7777777777777778,
              "#fb9f3a"
             ],
             [
              0.8888888888888888,
              "#fdca26"
             ],
             [
              1,
              "#f0f921"
             ]
            ],
            "type": "surface"
           }
          ],
          "table": [
           {
            "cells": {
             "fill": {
              "color": "#EBF0F8"
             },
             "line": {
              "color": "white"
             }
            },
            "header": {
             "fill": {
              "color": "#C8D4E3"
             },
             "line": {
              "color": "white"
             }
            },
            "type": "table"
           }
          ]
         },
         "layout": {
          "annotationdefaults": {
           "arrowcolor": "#2a3f5f",
           "arrowhead": 0,
           "arrowwidth": 1
          },
          "autotypenumbers": "strict",
          "coloraxis": {
           "colorbar": {
            "outlinewidth": 0,
            "ticks": ""
           }
          },
          "colorscale": {
           "diverging": [
            [
             0,
             "#8e0152"
            ],
            [
             0.1,
             "#c51b7d"
            ],
            [
             0.2,
             "#de77ae"
            ],
            [
             0.3,
             "#f1b6da"
            ],
            [
             0.4,
             "#fde0ef"
            ],
            [
             0.5,
             "#f7f7f7"
            ],
            [
             0.6,
             "#e6f5d0"
            ],
            [
             0.7,
             "#b8e186"
            ],
            [
             0.8,
             "#7fbc41"
            ],
            [
             0.9,
             "#4d9221"
            ],
            [
             1,
             "#276419"
            ]
           ],
           "sequential": [
            [
             0,
             "#0d0887"
            ],
            [
             0.1111111111111111,
             "#46039f"
            ],
            [
             0.2222222222222222,
             "#7201a8"
            ],
            [
             0.3333333333333333,
             "#9c179e"
            ],
            [
             0.4444444444444444,
             "#bd3786"
            ],
            [
             0.5555555555555556,
             "#d8576b"
            ],
            [
             0.6666666666666666,
             "#ed7953"
            ],
            [
             0.7777777777777778,
             "#fb9f3a"
            ],
            [
             0.8888888888888888,
             "#fdca26"
            ],
            [
             1,
             "#f0f921"
            ]
           ],
           "sequentialminus": [
            [
             0,
             "#0d0887"
            ],
            [
             0.1111111111111111,
             "#46039f"
            ],
            [
             0.2222222222222222,
             "#7201a8"
            ],
            [
             0.3333333333333333,
             "#9c179e"
            ],
            [
             0.4444444444444444,
             "#bd3786"
            ],
            [
             0.5555555555555556,
             "#d8576b"
            ],
            [
             0.6666666666666666,
             "#ed7953"
            ],
            [
             0.7777777777777778,
             "#fb9f3a"
            ],
            [
             0.8888888888888888,
             "#fdca26"
            ],
            [
             1,
             "#f0f921"
            ]
           ]
          },
          "colorway": [
           "#636efa",
           "#EF553B",
           "#00cc96",
           "#ab63fa",
           "#FFA15A",
           "#19d3f3",
           "#FF6692",
           "#B6E880",
           "#FF97FF",
           "#FECB52"
          ],
          "font": {
           "color": "#2a3f5f"
          },
          "geo": {
           "bgcolor": "white",
           "lakecolor": "white",
           "landcolor": "#E5ECF6",
           "showlakes": true,
           "showland": true,
           "subunitcolor": "white"
          },
          "hoverlabel": {
           "align": "left"
          },
          "hovermode": "closest",
          "mapbox": {
           "style": "light"
          },
          "paper_bgcolor": "white",
          "plot_bgcolor": "#E5ECF6",
          "polar": {
           "angularaxis": {
            "gridcolor": "white",
            "linecolor": "white",
            "ticks": ""
           },
           "bgcolor": "#E5ECF6",
           "radialaxis": {
            "gridcolor": "white",
            "linecolor": "white",
            "ticks": ""
           }
          },
          "scene": {
           "xaxis": {
            "backgroundcolor": "#E5ECF6",
            "gridcolor": "white",
            "gridwidth": 2,
            "linecolor": "white",
            "showbackground": true,
            "ticks": "",
            "zerolinecolor": "white"
           },
           "yaxis": {
            "backgroundcolor": "#E5ECF6",
            "gridcolor": "white",
            "gridwidth": 2,
            "linecolor": "white",
            "showbackground": true,
            "ticks": "",
            "zerolinecolor": "white"
           },
           "zaxis": {
            "backgroundcolor": "#E5ECF6",
            "gridcolor": "white",
            "gridwidth": 2,
            "linecolor": "white",
            "showbackground": true,
            "ticks": "",
            "zerolinecolor": "white"
           }
          },
          "shapedefaults": {
           "line": {
            "color": "#2a3f5f"
           }
          },
          "ternary": {
           "aaxis": {
            "gridcolor": "white",
            "linecolor": "white",
            "ticks": ""
           },
           "baxis": {
            "gridcolor": "white",
            "linecolor": "white",
            "ticks": ""
           },
           "bgcolor": "#E5ECF6",
           "caxis": {
            "gridcolor": "white",
            "linecolor": "white",
            "ticks": ""
           }
          },
          "title": {
           "x": 0.05
          },
          "xaxis": {
           "automargin": true,
           "gridcolor": "white",
           "linecolor": "white",
           "ticks": "",
           "title": {
            "standoff": 15
           },
           "zerolinecolor": "white",
           "zerolinewidth": 2
          },
          "yaxis": {
           "automargin": true,
           "gridcolor": "white",
           "linecolor": "white",
           "ticks": "",
           "title": {
            "standoff": 15
           },
           "zerolinecolor": "white",
           "zerolinewidth": 2
          }
         }
        },
        "title": {
         "text": "Drone Environment"
        }
       }
      }
     },
     "metadata": {},
     "output_type": "display_data"
    }
   ],
   "source": [
    "# مثال\n",
    "# الأبنية\n",
    "buildings = [\n",
    "    {'pos': [3, 3, 0], 'size': [5, 5, 5]},\n",
    "    {'pos': [8, 8, 0], 'size': [1, 1, 1]}\n",
    "]\n",
    "# المناطق الممنوعة\n",
    "prohibited_zones = [\n",
    "    {'pos': [0, 2, 0], 'size': [2, 4, 4]},\n",
    "    {'pos': [8, 1, 0], 'size': [2, 2, 5]}\n",
    "]\n",
    "# البداية\n",
    "start_position = [1, 9, 0]\n",
    "# الهدف\n",
    "goal_position = [9, 0, 8]\n",
    "\n",
    "# إنشاء البيئة\n",
    "env = gym.make(\"Drone-v0\", grid_size=10, start_position=start_position,buildings=buildings, prohibited_zones=prohibited_zones , max_episode_steps=40)\n",
    "\n",
    "env.reset()\n",
    "raw_env = env.unwrapped\n",
    "raw_env.set_goal(goal_position )\n",
    "\n",
    "\n",
    "\n",
    "# الإظهار\n",
    "env.render()"
   ]
  },
  {
   "cell_type": "code",
   "execution_count": null,
   "id": "ac5fa395",
   "metadata": {},
   "outputs": [
    {
     "data": {
      "application/vnd.plotly.v1+json": {
       "config": {
        "plotlyServerURL": "https://plot.ly"
       },
       "data": [
        {
         "line": {
          "color": "yellow",
          "width": 4
         },
         "mode": "lines",
         "showlegend": false,
         "type": "scatter3d",
         "x": {
          "bdata": "AwgIAw==",
          "dtype": "i1"
         },
         "y": {
          "bdata": "AwMICA==",
          "dtype": "i1"
         },
         "z": {
          "bdata": "AAAAAA==",
          "dtype": "i1"
         }
        },
        {
         "line": {
          "color": "yellow",
          "width": 4
         },
         "mode": "lines",
         "showlegend": false,
         "type": "scatter3d",
         "x": {
          "bdata": "AwgIAw==",
          "dtype": "i1"
         },
         "y": {
          "bdata": "AwMICA==",
          "dtype": "i1"
         },
         "z": {
          "bdata": "BQUFBQ==",
          "dtype": "i1"
         }
        },
        {
         "line": {
          "color": "yellow",
          "width": 4
         },
         "mode": "lines",
         "showlegend": false,
         "type": "scatter3d",
         "x": {
          "bdata": "AwgIAw==",
          "dtype": "i1"
         },
         "y": {
          "bdata": "AwMDAw==",
          "dtype": "i1"
         },
         "z": {
          "bdata": "AAAFBQ==",
          "dtype": "i1"
         }
        },
        {
         "line": {
          "color": "yellow",
          "width": 4
         },
         "mode": "lines",
         "showlegend": false,
         "type": "scatter3d",
         "x": {
          "bdata": "CAMDCA==",
          "dtype": "i1"
         },
         "y": {
          "bdata": "CAgICA==",
          "dtype": "i1"
         },
         "z": {
          "bdata": "AAAFBQ==",
          "dtype": "i1"
         }
        },
        {
         "line": {
          "color": "yellow",
          "width": 4
         },
         "mode": "lines",
         "showlegend": false,
         "type": "scatter3d",
         "x": {
          "bdata": "CAgICA==",
          "dtype": "i1"
         },
         "y": {
          "bdata": "AwgIAw==",
          "dtype": "i1"
         },
         "z": {
          "bdata": "AAAFBQ==",
          "dtype": "i1"
         }
        },
        {
         "line": {
          "color": "yellow",
          "width": 4
         },
         "mode": "lines",
         "showlegend": false,
         "type": "scatter3d",
         "x": {
          "bdata": "AwMDAw==",
          "dtype": "i1"
         },
         "y": {
          "bdata": "AwgIAw==",
          "dtype": "i1"
         },
         "z": {
          "bdata": "AAAFBQ==",
          "dtype": "i1"
         }
        },
        {
         "line": {
          "color": "yellow",
          "width": 4
         },
         "mode": "lines",
         "showlegend": false,
         "type": "scatter3d",
         "x": {
          "bdata": "CAkJCA==",
          "dtype": "i1"
         },
         "y": {
          "bdata": "CAgJCQ==",
          "dtype": "i1"
         },
         "z": {
          "bdata": "AAAAAA==",
          "dtype": "i1"
         }
        },
        {
         "line": {
          "color": "yellow",
          "width": 4
         },
         "mode": "lines",
         "showlegend": false,
         "type": "scatter3d",
         "x": {
          "bdata": "CAkJCA==",
          "dtype": "i1"
         },
         "y": {
          "bdata": "CAgJCQ==",
          "dtype": "i1"
         },
         "z": {
          "bdata": "AQEBAQ==",
          "dtype": "i1"
         }
        },
        {
         "line": {
          "color": "yellow",
          "width": 4
         },
         "mode": "lines",
         "showlegend": false,
         "type": "scatter3d",
         "x": {
          "bdata": "CAkJCA==",
          "dtype": "i1"
         },
         "y": {
          "bdata": "CAgICA==",
          "dtype": "i1"
         },
         "z": {
          "bdata": "AAABAQ==",
          "dtype": "i1"
         }
        },
        {
         "line": {
          "color": "yellow",
          "width": 4
         },
         "mode": "lines",
         "showlegend": false,
         "type": "scatter3d",
         "x": {
          "bdata": "CQgICQ==",
          "dtype": "i1"
         },
         "y": {
          "bdata": "CQkJCQ==",
          "dtype": "i1"
         },
         "z": {
          "bdata": "AAABAQ==",
          "dtype": "i1"
         }
        },
        {
         "line": {
          "color": "yellow",
          "width": 4
         },
         "mode": "lines",
         "showlegend": false,
         "type": "scatter3d",
         "x": {
          "bdata": "CQkJCQ==",
          "dtype": "i1"
         },
         "y": {
          "bdata": "CAkJCA==",
          "dtype": "i1"
         },
         "z": {
          "bdata": "AAABAQ==",
          "dtype": "i1"
         }
        },
        {
         "line": {
          "color": "yellow",
          "width": 4
         },
         "mode": "lines",
         "showlegend": false,
         "type": "scatter3d",
         "x": {
          "bdata": "CAgICA==",
          "dtype": "i1"
         },
         "y": {
          "bdata": "CAkJCA==",
          "dtype": "i1"
         },
         "z": {
          "bdata": "AAABAQ==",
          "dtype": "i1"
         }
        },
        {
         "line": {
          "color": "red",
          "width": 4
         },
         "mode": "lines",
         "showlegend": false,
         "type": "scatter3d",
         "x": {
          "bdata": "AAICAA==",
          "dtype": "i1"
         },
         "y": {
          "bdata": "AgIGBg==",
          "dtype": "i1"
         },
         "z": {
          "bdata": "AAAAAA==",
          "dtype": "i1"
         }
        },
        {
         "line": {
          "color": "red",
          "width": 4
         },
         "mode": "lines",
         "showlegend": false,
         "type": "scatter3d",
         "x": {
          "bdata": "AAICAA==",
          "dtype": "i1"
         },
         "y": {
          "bdata": "AgIGBg==",
          "dtype": "i1"
         },
         "z": {
          "bdata": "BAQEBA==",
          "dtype": "i1"
         }
        },
        {
         "line": {
          "color": "red",
          "width": 4
         },
         "mode": "lines",
         "showlegend": false,
         "type": "scatter3d",
         "x": {
          "bdata": "AAICAA==",
          "dtype": "i1"
         },
         "y": {
          "bdata": "AgICAg==",
          "dtype": "i1"
         },
         "z": {
          "bdata": "AAAEBA==",
          "dtype": "i1"
         }
        },
        {
         "line": {
          "color": "red",
          "width": 4
         },
         "mode": "lines",
         "showlegend": false,
         "type": "scatter3d",
         "x": {
          "bdata": "AgAAAg==",
          "dtype": "i1"
         },
         "y": {
          "bdata": "BgYGBg==",
          "dtype": "i1"
         },
         "z": {
          "bdata": "AAAEBA==",
          "dtype": "i1"
         }
        },
        {
         "line": {
          "color": "red",
          "width": 4
         },
         "mode": "lines",
         "showlegend": false,
         "type": "scatter3d",
         "x": {
          "bdata": "AgICAg==",
          "dtype": "i1"
         },
         "y": {
          "bdata": "AgYGAg==",
          "dtype": "i1"
         },
         "z": {
          "bdata": "AAAEBA==",
          "dtype": "i1"
         }
        },
        {
         "line": {
          "color": "red",
          "width": 4
         },
         "mode": "lines",
         "showlegend": false,
         "type": "scatter3d",
         "x": {
          "bdata": "AAAAAA==",
          "dtype": "i1"
         },
         "y": {
          "bdata": "AgYGAg==",
          "dtype": "i1"
         },
         "z": {
          "bdata": "AAAEBA==",
          "dtype": "i1"
         }
        },
        {
         "line": {
          "color": "red",
          "width": 4
         },
         "mode": "lines",
         "showlegend": false,
         "type": "scatter3d",
         "x": {
          "bdata": "CAoKCA==",
          "dtype": "i1"
         },
         "y": {
          "bdata": "AQEDAw==",
          "dtype": "i1"
         },
         "z": {
          "bdata": "AAAAAA==",
          "dtype": "i1"
         }
        },
        {
         "line": {
          "color": "red",
          "width": 4
         },
         "mode": "lines",
         "showlegend": false,
         "type": "scatter3d",
         "x": {
          "bdata": "CAoKCA==",
          "dtype": "i1"
         },
         "y": {
          "bdata": "AQEDAw==",
          "dtype": "i1"
         },
         "z": {
          "bdata": "BQUFBQ==",
          "dtype": "i1"
         }
        },
        {
         "line": {
          "color": "red",
          "width": 4
         },
         "mode": "lines",
         "showlegend": false,
         "type": "scatter3d",
         "x": {
          "bdata": "CAoKCA==",
          "dtype": "i1"
         },
         "y": {
          "bdata": "AQEBAQ==",
          "dtype": "i1"
         },
         "z": {
          "bdata": "AAAFBQ==",
          "dtype": "i1"
         }
        },
        {
         "line": {
          "color": "red",
          "width": 4
         },
         "mode": "lines",
         "showlegend": false,
         "type": "scatter3d",
         "x": {
          "bdata": "CggICg==",
          "dtype": "i1"
         },
         "y": {
          "bdata": "AwMDAw==",
          "dtype": "i1"
         },
         "z": {
          "bdata": "AAAFBQ==",
          "dtype": "i1"
         }
        },
        {
         "line": {
          "color": "red",
          "width": 4
         },
         "mode": "lines",
         "showlegend": false,
         "type": "scatter3d",
         "x": {
          "bdata": "CgoKCg==",
          "dtype": "i1"
         },
         "y": {
          "bdata": "AQMDAQ==",
          "dtype": "i1"
         },
         "z": {
          "bdata": "AAAFBQ==",
          "dtype": "i1"
         }
        },
        {
         "line": {
          "color": "red",
          "width": 4
         },
         "mode": "lines",
         "showlegend": false,
         "type": "scatter3d",
         "x": {
          "bdata": "CAgICA==",
          "dtype": "i1"
         },
         "y": {
          "bdata": "AQMDAQ==",
          "dtype": "i1"
         },
         "z": {
          "bdata": "AAAFBQ==",
          "dtype": "i1"
         }
        },
        {
         "marker": {
          "color": "green",
          "size": 6
         },
         "mode": "markers",
         "name": "Start",
         "showlegend": false,
         "type": "scatter3d",
         "x": [
          1
         ],
         "y": [
          9
         ],
         "z": [
          0
         ]
        },
        {
         "marker": {
          "color": "blue",
          "size": 6
         },
         "mode": "markers",
         "name": "Goal",
         "showlegend": false,
         "type": "scatter3d",
         "x": [
          9
         ],
         "y": [
          0
         ],
         "z": [
          8
         ]
        },
        {
         "line": {
          "color": "black",
          "width": 2
         },
         "marker": {
          "color": "red",
          "size": 2
         },
         "mode": "lines+markers",
         "name": "Drone Path",
         "showlegend": false,
         "type": "scatter3d",
         "x": [
          1
         ],
         "y": [
          9
         ],
         "z": [
          0
         ]
        },
        {
         "marker": {
          "color": "red",
          "size": 6
         },
         "mode": "markers",
         "name": "Drone",
         "showlegend": false,
         "type": "scatter3d",
         "x": [
          1
         ],
         "y": [
          9
         ],
         "z": [
          0
         ]
        }
       ],
       "layout": {
        "scene": {
         "domain": {
          "x": [
           0,
           1
          ],
          "y": [
           0,
           1
          ]
         },
         "xaxis": {
          "range": [
           0,
           10
          ],
          "title": {
           "text": "X"
          }
         },
         "yaxis": {
          "range": [
           0,
           10
          ],
          "title": {
           "text": "Y"
          }
         },
         "zaxis": {
          "range": [
           0,
           10
          ],
          "title": {
           "text": "Z"
          }
         }
        },
        "template": {
         "data": {
          "bar": [
           {
            "error_x": {
             "color": "#2a3f5f"
            },
            "error_y": {
             "color": "#2a3f5f"
            },
            "marker": {
             "line": {
              "color": "#E5ECF6",
              "width": 0.5
             },
             "pattern": {
              "fillmode": "overlay",
              "size": 10,
              "solidity": 0.2
             }
            },
            "type": "bar"
           }
          ],
          "barpolar": [
           {
            "marker": {
             "line": {
              "color": "#E5ECF6",
              "width": 0.5
             },
             "pattern": {
              "fillmode": "overlay",
              "size": 10,
              "solidity": 0.2
             }
            },
            "type": "barpolar"
           }
          ],
          "carpet": [
           {
            "aaxis": {
             "endlinecolor": "#2a3f5f",
             "gridcolor": "white",
             "linecolor": "white",
             "minorgridcolor": "white",
             "startlinecolor": "#2a3f5f"
            },
            "baxis": {
             "endlinecolor": "#2a3f5f",
             "gridcolor": "white",
             "linecolor": "white",
             "minorgridcolor": "white",
             "startlinecolor": "#2a3f5f"
            },
            "type": "carpet"
           }
          ],
          "choropleth": [
           {
            "colorbar": {
             "outlinewidth": 0,
             "ticks": ""
            },
            "type": "choropleth"
           }
          ],
          "contour": [
           {
            "colorbar": {
             "outlinewidth": 0,
             "ticks": ""
            },
            "colorscale": [
             [
              0,
              "#0d0887"
             ],
             [
              0.1111111111111111,
              "#46039f"
             ],
             [
              0.2222222222222222,
              "#7201a8"
             ],
             [
              0.3333333333333333,
              "#9c179e"
             ],
             [
              0.4444444444444444,
              "#bd3786"
             ],
             [
              0.5555555555555556,
              "#d8576b"
             ],
             [
              0.6666666666666666,
              "#ed7953"
             ],
             [
              0.7777777777777778,
              "#fb9f3a"
             ],
             [
              0.8888888888888888,
              "#fdca26"
             ],
             [
              1,
              "#f0f921"
             ]
            ],
            "type": "contour"
           }
          ],
          "contourcarpet": [
           {
            "colorbar": {
             "outlinewidth": 0,
             "ticks": ""
            },
            "type": "contourcarpet"
           }
          ],
          "heatmap": [
           {
            "colorbar": {
             "outlinewidth": 0,
             "ticks": ""
            },
            "colorscale": [
             [
              0,
              "#0d0887"
             ],
             [
              0.1111111111111111,
              "#46039f"
             ],
             [
              0.2222222222222222,
              "#7201a8"
             ],
             [
              0.3333333333333333,
              "#9c179e"
             ],
             [
              0.4444444444444444,
              "#bd3786"
             ],
             [
              0.5555555555555556,
              "#d8576b"
             ],
             [
              0.6666666666666666,
              "#ed7953"
             ],
             [
              0.7777777777777778,
              "#fb9f3a"
             ],
             [
              0.8888888888888888,
              "#fdca26"
             ],
             [
              1,
              "#f0f921"
             ]
            ],
            "type": "heatmap"
           }
          ],
          "histogram": [
           {
            "marker": {
             "pattern": {
              "fillmode": "overlay",
              "size": 10,
              "solidity": 0.2
             }
            },
            "type": "histogram"
           }
          ],
          "histogram2d": [
           {
            "colorbar": {
             "outlinewidth": 0,
             "ticks": ""
            },
            "colorscale": [
             [
              0,
              "#0d0887"
             ],
             [
              0.1111111111111111,
              "#46039f"
             ],
             [
              0.2222222222222222,
              "#7201a8"
             ],
             [
              0.3333333333333333,
              "#9c179e"
             ],
             [
              0.4444444444444444,
              "#bd3786"
             ],
             [
              0.5555555555555556,
              "#d8576b"
             ],
             [
              0.6666666666666666,
              "#ed7953"
             ],
             [
              0.7777777777777778,
              "#fb9f3a"
             ],
             [
              0.8888888888888888,
              "#fdca26"
             ],
             [
              1,
              "#f0f921"
             ]
            ],
            "type": "histogram2d"
           }
          ],
          "histogram2dcontour": [
           {
            "colorbar": {
             "outlinewidth": 0,
             "ticks": ""
            },
            "colorscale": [
             [
              0,
              "#0d0887"
             ],
             [
              0.1111111111111111,
              "#46039f"
             ],
             [
              0.2222222222222222,
              "#7201a8"
             ],
             [
              0.3333333333333333,
              "#9c179e"
             ],
             [
              0.4444444444444444,
              "#bd3786"
             ],
             [
              0.5555555555555556,
              "#d8576b"
             ],
             [
              0.6666666666666666,
              "#ed7953"
             ],
             [
              0.7777777777777778,
              "#fb9f3a"
             ],
             [
              0.8888888888888888,
              "#fdca26"
             ],
             [
              1,
              "#f0f921"
             ]
            ],
            "type": "histogram2dcontour"
           }
          ],
          "mesh3d": [
           {
            "colorbar": {
             "outlinewidth": 0,
             "ticks": ""
            },
            "type": "mesh3d"
           }
          ],
          "parcoords": [
           {
            "line": {
             "colorbar": {
              "outlinewidth": 0,
              "ticks": ""
             }
            },
            "type": "parcoords"
           }
          ],
          "pie": [
           {
            "automargin": true,
            "type": "pie"
           }
          ],
          "scatter": [
           {
            "fillpattern": {
             "fillmode": "overlay",
             "size": 10,
             "solidity": 0.2
            },
            "type": "scatter"
           }
          ],
          "scatter3d": [
           {
            "line": {
             "colorbar": {
              "outlinewidth": 0,
              "ticks": ""
             }
            },
            "marker": {
             "colorbar": {
              "outlinewidth": 0,
              "ticks": ""
             }
            },
            "type": "scatter3d"
           }
          ],
          "scattercarpet": [
           {
            "marker": {
             "colorbar": {
              "outlinewidth": 0,
              "ticks": ""
             }
            },
            "type": "scattercarpet"
           }
          ],
          "scattergeo": [
           {
            "marker": {
             "colorbar": {
              "outlinewidth": 0,
              "ticks": ""
             }
            },
            "type": "scattergeo"
           }
          ],
          "scattergl": [
           {
            "marker": {
             "colorbar": {
              "outlinewidth": 0,
              "ticks": ""
             }
            },
            "type": "scattergl"
           }
          ],
          "scattermap": [
           {
            "marker": {
             "colorbar": {
              "outlinewidth": 0,
              "ticks": ""
             }
            },
            "type": "scattermap"
           }
          ],
          "scattermapbox": [
           {
            "marker": {
             "colorbar": {
              "outlinewidth": 0,
              "ticks": ""
             }
            },
            "type": "scattermapbox"
           }
          ],
          "scatterpolar": [
           {
            "marker": {
             "colorbar": {
              "outlinewidth": 0,
              "ticks": ""
             }
            },
            "type": "scatterpolar"
           }
          ],
          "scatterpolargl": [
           {
            "marker": {
             "colorbar": {
              "outlinewidth": 0,
              "ticks": ""
             }
            },
            "type": "scatterpolargl"
           }
          ],
          "scatterternary": [
           {
            "marker": {
             "colorbar": {
              "outlinewidth": 0,
              "ticks": ""
             }
            },
            "type": "scatterternary"
           }
          ],
          "surface": [
           {
            "colorbar": {
             "outlinewidth": 0,
             "ticks": ""
            },
            "colorscale": [
             [
              0,
              "#0d0887"
             ],
             [
              0.1111111111111111,
              "#46039f"
             ],
             [
              0.2222222222222222,
              "#7201a8"
             ],
             [
              0.3333333333333333,
              "#9c179e"
             ],
             [
              0.4444444444444444,
              "#bd3786"
             ],
             [
              0.5555555555555556,
              "#d8576b"
             ],
             [
              0.6666666666666666,
              "#ed7953"
             ],
             [
              0.7777777777777778,
              "#fb9f3a"
             ],
             [
              0.8888888888888888,
              "#fdca26"
             ],
             [
              1,
              "#f0f921"
             ]
            ],
            "type": "surface"
           }
          ],
          "table": [
           {
            "cells": {
             "fill": {
              "color": "#EBF0F8"
             },
             "line": {
              "color": "white"
             }
            },
            "header": {
             "fill": {
              "color": "#C8D4E3"
             },
             "line": {
              "color": "white"
             }
            },
            "type": "table"
           }
          ]
         },
         "layout": {
          "annotationdefaults": {
           "arrowcolor": "#2a3f5f",
           "arrowhead": 0,
           "arrowwidth": 1
          },
          "autotypenumbers": "strict",
          "coloraxis": {
           "colorbar": {
            "outlinewidth": 0,
            "ticks": ""
           }
          },
          "colorscale": {
           "diverging": [
            [
             0,
             "#8e0152"
            ],
            [
             0.1,
             "#c51b7d"
            ],
            [
             0.2,
             "#de77ae"
            ],
            [
             0.3,
             "#f1b6da"
            ],
            [
             0.4,
             "#fde0ef"
            ],
            [
             0.5,
             "#f7f7f7"
            ],
            [
             0.6,
             "#e6f5d0"
            ],
            [
             0.7,
             "#b8e186"
            ],
            [
             0.8,
             "#7fbc41"
            ],
            [
             0.9,
             "#4d9221"
            ],
            [
             1,
             "#276419"
            ]
           ],
           "sequential": [
            [
             0,
             "#0d0887"
            ],
            [
             0.1111111111111111,
             "#46039f"
            ],
            [
             0.2222222222222222,
             "#7201a8"
            ],
            [
             0.3333333333333333,
             "#9c179e"
            ],
            [
             0.4444444444444444,
             "#bd3786"
            ],
            [
             0.5555555555555556,
             "#d8576b"
            ],
            [
             0.6666666666666666,
             "#ed7953"
            ],
            [
             0.7777777777777778,
             "#fb9f3a"
            ],
            [
             0.8888888888888888,
             "#fdca26"
            ],
            [
             1,
             "#f0f921"
            ]
           ],
           "sequentialminus": [
            [
             0,
             "#0d0887"
            ],
            [
             0.1111111111111111,
             "#46039f"
            ],
            [
             0.2222222222222222,
             "#7201a8"
            ],
            [
             0.3333333333333333,
             "#9c179e"
            ],
            [
             0.4444444444444444,
             "#bd3786"
            ],
            [
             0.5555555555555556,
             "#d8576b"
            ],
            [
             0.6666666666666666,
             "#ed7953"
            ],
            [
             0.7777777777777778,
             "#fb9f3a"
            ],
            [
             0.8888888888888888,
             "#fdca26"
            ],
            [
             1,
             "#f0f921"
            ]
           ]
          },
          "colorway": [
           "#636efa",
           "#EF553B",
           "#00cc96",
           "#ab63fa",
           "#FFA15A",
           "#19d3f3",
           "#FF6692",
           "#B6E880",
           "#FF97FF",
           "#FECB52"
          ],
          "font": {
           "color": "#2a3f5f"
          },
          "geo": {
           "bgcolor": "white",
           "lakecolor": "white",
           "landcolor": "#E5ECF6",
           "showlakes": true,
           "showland": true,
           "subunitcolor": "white"
          },
          "hoverlabel": {
           "align": "left"
          },
          "hovermode": "closest",
          "mapbox": {
           "style": "light"
          },
          "paper_bgcolor": "white",
          "plot_bgcolor": "#E5ECF6",
          "polar": {
           "angularaxis": {
            "gridcolor": "white",
            "linecolor": "white",
            "ticks": ""
           },
           "bgcolor": "#E5ECF6",
           "radialaxis": {
            "gridcolor": "white",
            "linecolor": "white",
            "ticks": ""
           }
          },
          "scene": {
           "xaxis": {
            "backgroundcolor": "#E5ECF6",
            "gridcolor": "white",
            "gridwidth": 2,
            "linecolor": "white",
            "showbackground": true,
            "ticks": "",
            "zerolinecolor": "white"
           },
           "yaxis": {
            "backgroundcolor": "#E5ECF6",
            "gridcolor": "white",
            "gridwidth": 2,
            "linecolor": "white",
            "showbackground": true,
            "ticks": "",
            "zerolinecolor": "white"
           },
           "zaxis": {
            "backgroundcolor": "#E5ECF6",
            "gridcolor": "white",
            "gridwidth": 2,
            "linecolor": "white",
            "showbackground": true,
            "ticks": "",
            "zerolinecolor": "white"
           }
          },
          "shapedefaults": {
           "line": {
            "color": "#2a3f5f"
           }
          },
          "ternary": {
           "aaxis": {
            "gridcolor": "white",
            "linecolor": "white",
            "ticks": ""
           },
           "baxis": {
            "gridcolor": "white",
            "linecolor": "white",
            "ticks": ""
           },
           "bgcolor": "#E5ECF6",
           "caxis": {
            "gridcolor": "white",
            "linecolor": "white",
            "ticks": ""
           }
          },
          "title": {
           "x": 0.05
          },
          "xaxis": {
           "automargin": true,
           "gridcolor": "white",
           "linecolor": "white",
           "ticks": "",
           "title": {
            "standoff": 15
           },
           "zerolinecolor": "white",
           "zerolinewidth": 2
          },
          "yaxis": {
           "automargin": true,
           "gridcolor": "white",
           "linecolor": "white",
           "ticks": "",
           "title": {
            "standoff": 15
           },
           "zerolinecolor": "white",
           "zerolinewidth": 2
          }
         }
        },
        "title": {
         "text": "Drone Environment"
        }
       }
      }
     },
     "metadata": {},
     "output_type": "display_data"
    }
   ],
   "source": [
    "# مثال\n",
    "# الأبنية\n",
    "buildings = [\n",
    "    {'pos': [3, 3, 0], 'size': [5, 5, 5]},\n",
    "    {'pos': [8, 8, 0], 'size': [1, 1, 1]}\n",
    "]\n",
    "# المناطق الممنوعة\n",
    "prohibited_zones = [\n",
    "    {'pos': [0, 2, 0], 'size': [2, 4, 4]},\n",
    "    {'pos': [8, 1, 0], 'size': [2, 2, 5]}\n",
    "]\n",
    "# البداية\n",
    "start_position = [1, 9, 0]\n",
    "# الهدف\n",
    "goal_position = [9, 0, 8]\n",
    "\n",
    "# إنشاء البيئة\n",
    "env = gym.make(\"Drone-v1\", grid_size=10, start_position=start_position,buildings=buildings, prohibited_zones=prohibited_zones , max_episode_steps=40)\n",
    "\n",
    "env.reset()\n",
    "raw_env = env.unwrapped\n",
    "raw_env.set_goal(goal_position )\n",
    "\n",
    "\n",
    "\n",
    "# الإظهار\n",
    "env.render()"
   ]
  },
  {
   "cell_type": "code",
   "execution_count": 16,
   "id": "69bdbda8",
   "metadata": {},
   "outputs": [
    {
     "data": {
      "application/vnd.plotly.v1+json": {
       "config": {
        "plotlyServerURL": "https://plot.ly"
       },
       "data": [
        {
         "line": {
          "color": "yellow",
          "width": 4
         },
         "mode": "lines",
         "showlegend": false,
         "type": "scatter3d",
         "x": {
          "bdata": "AwgIAw==",
          "dtype": "i1"
         },
         "y": {
          "bdata": "AwMICA==",
          "dtype": "i1"
         },
         "z": {
          "bdata": "AAAAAA==",
          "dtype": "i1"
         }
        },
        {
         "line": {
          "color": "yellow",
          "width": 4
         },
         "mode": "lines",
         "showlegend": false,
         "type": "scatter3d",
         "x": {
          "bdata": "AwgIAw==",
          "dtype": "i1"
         },
         "y": {
          "bdata": "AwMICA==",
          "dtype": "i1"
         },
         "z": {
          "bdata": "BQUFBQ==",
          "dtype": "i1"
         }
        },
        {
         "line": {
          "color": "yellow",
          "width": 4
         },
         "mode": "lines",
         "showlegend": false,
         "type": "scatter3d",
         "x": {
          "bdata": "AwgIAw==",
          "dtype": "i1"
         },
         "y": {
          "bdata": "AwMDAw==",
          "dtype": "i1"
         },
         "z": {
          "bdata": "AAAFBQ==",
          "dtype": "i1"
         }
        },
        {
         "line": {
          "color": "yellow",
          "width": 4
         },
         "mode": "lines",
         "showlegend": false,
         "type": "scatter3d",
         "x": {
          "bdata": "CAMDCA==",
          "dtype": "i1"
         },
         "y": {
          "bdata": "CAgICA==",
          "dtype": "i1"
         },
         "z": {
          "bdata": "AAAFBQ==",
          "dtype": "i1"
         }
        },
        {
         "line": {
          "color": "yellow",
          "width": 4
         },
         "mode": "lines",
         "showlegend": false,
         "type": "scatter3d",
         "x": {
          "bdata": "CAgICA==",
          "dtype": "i1"
         },
         "y": {
          "bdata": "AwgIAw==",
          "dtype": "i1"
         },
         "z": {
          "bdata": "AAAFBQ==",
          "dtype": "i1"
         }
        },
        {
         "line": {
          "color": "yellow",
          "width": 4
         },
         "mode": "lines",
         "showlegend": false,
         "type": "scatter3d",
         "x": {
          "bdata": "AwMDAw==",
          "dtype": "i1"
         },
         "y": {
          "bdata": "AwgIAw==",
          "dtype": "i1"
         },
         "z": {
          "bdata": "AAAFBQ==",
          "dtype": "i1"
         }
        },
        {
         "line": {
          "color": "yellow",
          "width": 4
         },
         "mode": "lines",
         "showlegend": false,
         "type": "scatter3d",
         "x": {
          "bdata": "CAkJCA==",
          "dtype": "i1"
         },
         "y": {
          "bdata": "CAgJCQ==",
          "dtype": "i1"
         },
         "z": {
          "bdata": "AAAAAA==",
          "dtype": "i1"
         }
        },
        {
         "line": {
          "color": "yellow",
          "width": 4
         },
         "mode": "lines",
         "showlegend": false,
         "type": "scatter3d",
         "x": {
          "bdata": "CAkJCA==",
          "dtype": "i1"
         },
         "y": {
          "bdata": "CAgJCQ==",
          "dtype": "i1"
         },
         "z": {
          "bdata": "AQEBAQ==",
          "dtype": "i1"
         }
        },
        {
         "line": {
          "color": "yellow",
          "width": 4
         },
         "mode": "lines",
         "showlegend": false,
         "type": "scatter3d",
         "x": {
          "bdata": "CAkJCA==",
          "dtype": "i1"
         },
         "y": {
          "bdata": "CAgICA==",
          "dtype": "i1"
         },
         "z": {
          "bdata": "AAABAQ==",
          "dtype": "i1"
         }
        },
        {
         "line": {
          "color": "yellow",
          "width": 4
         },
         "mode": "lines",
         "showlegend": false,
         "type": "scatter3d",
         "x": {
          "bdata": "CQgICQ==",
          "dtype": "i1"
         },
         "y": {
          "bdata": "CQkJCQ==",
          "dtype": "i1"
         },
         "z": {
          "bdata": "AAABAQ==",
          "dtype": "i1"
         }
        },
        {
         "line": {
          "color": "yellow",
          "width": 4
         },
         "mode": "lines",
         "showlegend": false,
         "type": "scatter3d",
         "x": {
          "bdata": "CQkJCQ==",
          "dtype": "i1"
         },
         "y": {
          "bdata": "CAkJCA==",
          "dtype": "i1"
         },
         "z": {
          "bdata": "AAABAQ==",
          "dtype": "i1"
         }
        },
        {
         "line": {
          "color": "yellow",
          "width": 4
         },
         "mode": "lines",
         "showlegend": false,
         "type": "scatter3d",
         "x": {
          "bdata": "CAgICA==",
          "dtype": "i1"
         },
         "y": {
          "bdata": "CAkJCA==",
          "dtype": "i1"
         },
         "z": {
          "bdata": "AAABAQ==",
          "dtype": "i1"
         }
        },
        {
         "line": {
          "color": "red",
          "width": 4
         },
         "mode": "lines",
         "showlegend": false,
         "type": "scatter3d",
         "x": {
          "bdata": "AAICAA==",
          "dtype": "i1"
         },
         "y": {
          "bdata": "AgIGBg==",
          "dtype": "i1"
         },
         "z": {
          "bdata": "AAAAAA==",
          "dtype": "i1"
         }
        },
        {
         "line": {
          "color": "red",
          "width": 4
         },
         "mode": "lines",
         "showlegend": false,
         "type": "scatter3d",
         "x": {
          "bdata": "AAICAA==",
          "dtype": "i1"
         },
         "y": {
          "bdata": "AgIGBg==",
          "dtype": "i1"
         },
         "z": {
          "bdata": "BAQEBA==",
          "dtype": "i1"
         }
        },
        {
         "line": {
          "color": "red",
          "width": 4
         },
         "mode": "lines",
         "showlegend": false,
         "type": "scatter3d",
         "x": {
          "bdata": "AAICAA==",
          "dtype": "i1"
         },
         "y": {
          "bdata": "AgICAg==",
          "dtype": "i1"
         },
         "z": {
          "bdata": "AAAEBA==",
          "dtype": "i1"
         }
        },
        {
         "line": {
          "color": "red",
          "width": 4
         },
         "mode": "lines",
         "showlegend": false,
         "type": "scatter3d",
         "x": {
          "bdata": "AgAAAg==",
          "dtype": "i1"
         },
         "y": {
          "bdata": "BgYGBg==",
          "dtype": "i1"
         },
         "z": {
          "bdata": "AAAEBA==",
          "dtype": "i1"
         }
        },
        {
         "line": {
          "color": "red",
          "width": 4
         },
         "mode": "lines",
         "showlegend": false,
         "type": "scatter3d",
         "x": {
          "bdata": "AgICAg==",
          "dtype": "i1"
         },
         "y": {
          "bdata": "AgYGAg==",
          "dtype": "i1"
         },
         "z": {
          "bdata": "AAAEBA==",
          "dtype": "i1"
         }
        },
        {
         "line": {
          "color": "red",
          "width": 4
         },
         "mode": "lines",
         "showlegend": false,
         "type": "scatter3d",
         "x": {
          "bdata": "AAAAAA==",
          "dtype": "i1"
         },
         "y": {
          "bdata": "AgYGAg==",
          "dtype": "i1"
         },
         "z": {
          "bdata": "AAAEBA==",
          "dtype": "i1"
         }
        },
        {
         "line": {
          "color": "red",
          "width": 4
         },
         "mode": "lines",
         "showlegend": false,
         "type": "scatter3d",
         "x": {
          "bdata": "CAoKCA==",
          "dtype": "i1"
         },
         "y": {
          "bdata": "AQEDAw==",
          "dtype": "i1"
         },
         "z": {
          "bdata": "AAAAAA==",
          "dtype": "i1"
         }
        },
        {
         "line": {
          "color": "red",
          "width": 4
         },
         "mode": "lines",
         "showlegend": false,
         "type": "scatter3d",
         "x": {
          "bdata": "CAoKCA==",
          "dtype": "i1"
         },
         "y": {
          "bdata": "AQEDAw==",
          "dtype": "i1"
         },
         "z": {
          "bdata": "BQUFBQ==",
          "dtype": "i1"
         }
        },
        {
         "line": {
          "color": "red",
          "width": 4
         },
         "mode": "lines",
         "showlegend": false,
         "type": "scatter3d",
         "x": {
          "bdata": "CAoKCA==",
          "dtype": "i1"
         },
         "y": {
          "bdata": "AQEBAQ==",
          "dtype": "i1"
         },
         "z": {
          "bdata": "AAAFBQ==",
          "dtype": "i1"
         }
        },
        {
         "line": {
          "color": "red",
          "width": 4
         },
         "mode": "lines",
         "showlegend": false,
         "type": "scatter3d",
         "x": {
          "bdata": "CggICg==",
          "dtype": "i1"
         },
         "y": {
          "bdata": "AwMDAw==",
          "dtype": "i1"
         },
         "z": {
          "bdata": "AAAFBQ==",
          "dtype": "i1"
         }
        },
        {
         "line": {
          "color": "red",
          "width": 4
         },
         "mode": "lines",
         "showlegend": false,
         "type": "scatter3d",
         "x": {
          "bdata": "CgoKCg==",
          "dtype": "i1"
         },
         "y": {
          "bdata": "AQMDAQ==",
          "dtype": "i1"
         },
         "z": {
          "bdata": "AAAFBQ==",
          "dtype": "i1"
         }
        },
        {
         "line": {
          "color": "red",
          "width": 4
         },
         "mode": "lines",
         "showlegend": false,
         "type": "scatter3d",
         "x": {
          "bdata": "CAgICA==",
          "dtype": "i1"
         },
         "y": {
          "bdata": "AQMDAQ==",
          "dtype": "i1"
         },
         "z": {
          "bdata": "AAAFBQ==",
          "dtype": "i1"
         }
        },
        {
         "marker": {
          "color": "green",
          "size": 10
         },
         "mode": "markers",
         "name": "Start",
         "showlegend": false,
         "type": "scatter3d",
         "x": [
          1
         ],
         "y": [
          9
         ],
         "z": [
          0
         ]
        },
        {
         "marker": {
          "color": "blue",
          "size": 10
         },
         "mode": "markers",
         "name": "Goal",
         "showlegend": false,
         "type": "scatter3d",
         "x": [
          9
         ],
         "y": [
          0
         ],
         "z": [
          8
         ]
        },
        {
         "line": {
          "color": "black",
          "width": 2
         },
         "marker": {
          "color": "red",
          "size": 2
         },
         "mode": "lines+markers",
         "name": "Drone Path",
         "showlegend": false,
         "type": "scatter3d",
         "x": [
          1,
          1,
          0,
          0
         ],
         "y": [
          9,
          8,
          8,
          7
         ],
         "z": [
          0,
          0,
          0,
          0
         ]
        },
        {
         "marker": {
          "color": "red",
          "size": 5
         },
         "mode": "markers",
         "name": "Drone",
         "showlegend": false,
         "type": "scatter3d",
         "x": [
          0
         ],
         "y": [
          7
         ],
         "z": [
          0
         ]
        }
       ],
       "layout": {
        "scene": {
         "domain": {
          "x": [
           0,
           1
          ],
          "y": [
           0,
           1
          ]
         },
         "xaxis": {
          "range": [
           0,
           10
          ],
          "title": {
           "text": "X"
          }
         },
         "yaxis": {
          "range": [
           0,
           10
          ],
          "title": {
           "text": "Y"
          }
         },
         "zaxis": {
          "range": [
           0,
           10
          ],
          "title": {
           "text": "Z"
          }
         }
        },
        "template": {
         "data": {
          "bar": [
           {
            "error_x": {
             "color": "#2a3f5f"
            },
            "error_y": {
             "color": "#2a3f5f"
            },
            "marker": {
             "line": {
              "color": "#E5ECF6",
              "width": 0.5
             },
             "pattern": {
              "fillmode": "overlay",
              "size": 10,
              "solidity": 0.2
             }
            },
            "type": "bar"
           }
          ],
          "barpolar": [
           {
            "marker": {
             "line": {
              "color": "#E5ECF6",
              "width": 0.5
             },
             "pattern": {
              "fillmode": "overlay",
              "size": 10,
              "solidity": 0.2
             }
            },
            "type": "barpolar"
           }
          ],
          "carpet": [
           {
            "aaxis": {
             "endlinecolor": "#2a3f5f",
             "gridcolor": "white",
             "linecolor": "white",
             "minorgridcolor": "white",
             "startlinecolor": "#2a3f5f"
            },
            "baxis": {
             "endlinecolor": "#2a3f5f",
             "gridcolor": "white",
             "linecolor": "white",
             "minorgridcolor": "white",
             "startlinecolor": "#2a3f5f"
            },
            "type": "carpet"
           }
          ],
          "choropleth": [
           {
            "colorbar": {
             "outlinewidth": 0,
             "ticks": ""
            },
            "type": "choropleth"
           }
          ],
          "contour": [
           {
            "colorbar": {
             "outlinewidth": 0,
             "ticks": ""
            },
            "colorscale": [
             [
              0,
              "#0d0887"
             ],
             [
              0.1111111111111111,
              "#46039f"
             ],
             [
              0.2222222222222222,
              "#7201a8"
             ],
             [
              0.3333333333333333,
              "#9c179e"
             ],
             [
              0.4444444444444444,
              "#bd3786"
             ],
             [
              0.5555555555555556,
              "#d8576b"
             ],
             [
              0.6666666666666666,
              "#ed7953"
             ],
             [
              0.7777777777777778,
              "#fb9f3a"
             ],
             [
              0.8888888888888888,
              "#fdca26"
             ],
             [
              1,
              "#f0f921"
             ]
            ],
            "type": "contour"
           }
          ],
          "contourcarpet": [
           {
            "colorbar": {
             "outlinewidth": 0,
             "ticks": ""
            },
            "type": "contourcarpet"
           }
          ],
          "heatmap": [
           {
            "colorbar": {
             "outlinewidth": 0,
             "ticks": ""
            },
            "colorscale": [
             [
              0,
              "#0d0887"
             ],
             [
              0.1111111111111111,
              "#46039f"
             ],
             [
              0.2222222222222222,
              "#7201a8"
             ],
             [
              0.3333333333333333,
              "#9c179e"
             ],
             [
              0.4444444444444444,
              "#bd3786"
             ],
             [
              0.5555555555555556,
              "#d8576b"
             ],
             [
              0.6666666666666666,
              "#ed7953"
             ],
             [
              0.7777777777777778,
              "#fb9f3a"
             ],
             [
              0.8888888888888888,
              "#fdca26"
             ],
             [
              1,
              "#f0f921"
             ]
            ],
            "type": "heatmap"
           }
          ],
          "histogram": [
           {
            "marker": {
             "pattern": {
              "fillmode": "overlay",
              "size": 10,
              "solidity": 0.2
             }
            },
            "type": "histogram"
           }
          ],
          "histogram2d": [
           {
            "colorbar": {
             "outlinewidth": 0,
             "ticks": ""
            },
            "colorscale": [
             [
              0,
              "#0d0887"
             ],
             [
              0.1111111111111111,
              "#46039f"
             ],
             [
              0.2222222222222222,
              "#7201a8"
             ],
             [
              0.3333333333333333,
              "#9c179e"
             ],
             [
              0.4444444444444444,
              "#bd3786"
             ],
             [
              0.5555555555555556,
              "#d8576b"
             ],
             [
              0.6666666666666666,
              "#ed7953"
             ],
             [
              0.7777777777777778,
              "#fb9f3a"
             ],
             [
              0.8888888888888888,
              "#fdca26"
             ],
             [
              1,
              "#f0f921"
             ]
            ],
            "type": "histogram2d"
           }
          ],
          "histogram2dcontour": [
           {
            "colorbar": {
             "outlinewidth": 0,
             "ticks": ""
            },
            "colorscale": [
             [
              0,
              "#0d0887"
             ],
             [
              0.1111111111111111,
              "#46039f"
             ],
             [
              0.2222222222222222,
              "#7201a8"
             ],
             [
              0.3333333333333333,
              "#9c179e"
             ],
             [
              0.4444444444444444,
              "#bd3786"
             ],
             [
              0.5555555555555556,
              "#d8576b"
             ],
             [
              0.6666666666666666,
              "#ed7953"
             ],
             [
              0.7777777777777778,
              "#fb9f3a"
             ],
             [
              0.8888888888888888,
              "#fdca26"
             ],
             [
              1,
              "#f0f921"
             ]
            ],
            "type": "histogram2dcontour"
           }
          ],
          "mesh3d": [
           {
            "colorbar": {
             "outlinewidth": 0,
             "ticks": ""
            },
            "type": "mesh3d"
           }
          ],
          "parcoords": [
           {
            "line": {
             "colorbar": {
              "outlinewidth": 0,
              "ticks": ""
             }
            },
            "type": "parcoords"
           }
          ],
          "pie": [
           {
            "automargin": true,
            "type": "pie"
           }
          ],
          "scatter": [
           {
            "fillpattern": {
             "fillmode": "overlay",
             "size": 10,
             "solidity": 0.2
            },
            "type": "scatter"
           }
          ],
          "scatter3d": [
           {
            "line": {
             "colorbar": {
              "outlinewidth": 0,
              "ticks": ""
             }
            },
            "marker": {
             "colorbar": {
              "outlinewidth": 0,
              "ticks": ""
             }
            },
            "type": "scatter3d"
           }
          ],
          "scattercarpet": [
           {
            "marker": {
             "colorbar": {
              "outlinewidth": 0,
              "ticks": ""
             }
            },
            "type": "scattercarpet"
           }
          ],
          "scattergeo": [
           {
            "marker": {
             "colorbar": {
              "outlinewidth": 0,
              "ticks": ""
             }
            },
            "type": "scattergeo"
           }
          ],
          "scattergl": [
           {
            "marker": {
             "colorbar": {
              "outlinewidth": 0,
              "ticks": ""
             }
            },
            "type": "scattergl"
           }
          ],
          "scattermap": [
           {
            "marker": {
             "colorbar": {
              "outlinewidth": 0,
              "ticks": ""
             }
            },
            "type": "scattermap"
           }
          ],
          "scattermapbox": [
           {
            "marker": {
             "colorbar": {
              "outlinewidth": 0,
              "ticks": ""
             }
            },
            "type": "scattermapbox"
           }
          ],
          "scatterpolar": [
           {
            "marker": {
             "colorbar": {
              "outlinewidth": 0,
              "ticks": ""
             }
            },
            "type": "scatterpolar"
           }
          ],
          "scatterpolargl": [
           {
            "marker": {
             "colorbar": {
              "outlinewidth": 0,
              "ticks": ""
             }
            },
            "type": "scatterpolargl"
           }
          ],
          "scatterternary": [
           {
            "marker": {
             "colorbar": {
              "outlinewidth": 0,
              "ticks": ""
             }
            },
            "type": "scatterternary"
           }
          ],
          "surface": [
           {
            "colorbar": {
             "outlinewidth": 0,
             "ticks": ""
            },
            "colorscale": [
             [
              0,
              "#0d0887"
             ],
             [
              0.1111111111111111,
              "#46039f"
             ],
             [
              0.2222222222222222,
              "#7201a8"
             ],
             [
              0.3333333333333333,
              "#9c179e"
             ],
             [
              0.4444444444444444,
              "#bd3786"
             ],
             [
              0.5555555555555556,
              "#d8576b"
             ],
             [
              0.6666666666666666,
              "#ed7953"
             ],
             [
              0.7777777777777778,
              "#fb9f3a"
             ],
             [
              0.8888888888888888,
              "#fdca26"
             ],
             [
              1,
              "#f0f921"
             ]
            ],
            "type": "surface"
           }
          ],
          "table": [
           {
            "cells": {
             "fill": {
              "color": "#EBF0F8"
             },
             "line": {
              "color": "white"
             }
            },
            "header": {
             "fill": {
              "color": "#C8D4E3"
             },
             "line": {
              "color": "white"
             }
            },
            "type": "table"
           }
          ]
         },
         "layout": {
          "annotationdefaults": {
           "arrowcolor": "#2a3f5f",
           "arrowhead": 0,
           "arrowwidth": 1
          },
          "autotypenumbers": "strict",
          "coloraxis": {
           "colorbar": {
            "outlinewidth": 0,
            "ticks": ""
           }
          },
          "colorscale": {
           "diverging": [
            [
             0,
             "#8e0152"
            ],
            [
             0.1,
             "#c51b7d"
            ],
            [
             0.2,
             "#de77ae"
            ],
            [
             0.3,
             "#f1b6da"
            ],
            [
             0.4,
             "#fde0ef"
            ],
            [
             0.5,
             "#f7f7f7"
            ],
            [
             0.6,
             "#e6f5d0"
            ],
            [
             0.7,
             "#b8e186"
            ],
            [
             0.8,
             "#7fbc41"
            ],
            [
             0.9,
             "#4d9221"
            ],
            [
             1,
             "#276419"
            ]
           ],
           "sequential": [
            [
             0,
             "#0d0887"
            ],
            [
             0.1111111111111111,
             "#46039f"
            ],
            [
             0.2222222222222222,
             "#7201a8"
            ],
            [
             0.3333333333333333,
             "#9c179e"
            ],
            [
             0.4444444444444444,
             "#bd3786"
            ],
            [
             0.5555555555555556,
             "#d8576b"
            ],
            [
             0.6666666666666666,
             "#ed7953"
            ],
            [
             0.7777777777777778,
             "#fb9f3a"
            ],
            [
             0.8888888888888888,
             "#fdca26"
            ],
            [
             1,
             "#f0f921"
            ]
           ],
           "sequentialminus": [
            [
             0,
             "#0d0887"
            ],
            [
             0.1111111111111111,
             "#46039f"
            ],
            [
             0.2222222222222222,
             "#7201a8"
            ],
            [
             0.3333333333333333,
             "#9c179e"
            ],
            [
             0.4444444444444444,
             "#bd3786"
            ],
            [
             0.5555555555555556,
             "#d8576b"
            ],
            [
             0.6666666666666666,
             "#ed7953"
            ],
            [
             0.7777777777777778,
             "#fb9f3a"
            ],
            [
             0.8888888888888888,
             "#fdca26"
            ],
            [
             1,
             "#f0f921"
            ]
           ]
          },
          "colorway": [
           "#636efa",
           "#EF553B",
           "#00cc96",
           "#ab63fa",
           "#FFA15A",
           "#19d3f3",
           "#FF6692",
           "#B6E880",
           "#FF97FF",
           "#FECB52"
          ],
          "font": {
           "color": "#2a3f5f"
          },
          "geo": {
           "bgcolor": "white",
           "lakecolor": "white",
           "landcolor": "#E5ECF6",
           "showlakes": true,
           "showland": true,
           "subunitcolor": "white"
          },
          "hoverlabel": {
           "align": "left"
          },
          "hovermode": "closest",
          "mapbox": {
           "style": "light"
          },
          "paper_bgcolor": "white",
          "plot_bgcolor": "#E5ECF6",
          "polar": {
           "angularaxis": {
            "gridcolor": "white",
            "linecolor": "white",
            "ticks": ""
           },
           "bgcolor": "#E5ECF6",
           "radialaxis": {
            "gridcolor": "white",
            "linecolor": "white",
            "ticks": ""
           }
          },
          "scene": {
           "xaxis": {
            "backgroundcolor": "#E5ECF6",
            "gridcolor": "white",
            "gridwidth": 2,
            "linecolor": "white",
            "showbackground": true,
            "ticks": "",
            "zerolinecolor": "white"
           },
           "yaxis": {
            "backgroundcolor": "#E5ECF6",
            "gridcolor": "white",
            "gridwidth": 2,
            "linecolor": "white",
            "showbackground": true,
            "ticks": "",
            "zerolinecolor": "white"
           },
           "zaxis": {
            "backgroundcolor": "#E5ECF6",
            "gridcolor": "white",
            "gridwidth": 2,
            "linecolor": "white",
            "showbackground": true,
            "ticks": "",
            "zerolinecolor": "white"
           }
          },
          "shapedefaults": {
           "line": {
            "color": "#2a3f5f"
           }
          },
          "ternary": {
           "aaxis": {
            "gridcolor": "white",
            "linecolor": "white",
            "ticks": ""
           },
           "baxis": {
            "gridcolor": "white",
            "linecolor": "white",
            "ticks": ""
           },
           "bgcolor": "#E5ECF6",
           "caxis": {
            "gridcolor": "white",
            "linecolor": "white",
            "ticks": ""
           }
          },
          "title": {
           "x": 0.05
          },
          "xaxis": {
           "automargin": true,
           "gridcolor": "white",
           "linecolor": "white",
           "ticks": "",
           "title": {
            "standoff": 15
           },
           "zerolinecolor": "white",
           "zerolinewidth": 2
          },
          "yaxis": {
           "automargin": true,
           "gridcolor": "white",
           "linecolor": "white",
           "ticks": "",
           "title": {
            "standoff": 15
           },
           "zerolinecolor": "white",
           "zerolinewidth": 2
          }
         }
        },
        "title": {
         "text": "Drone Environment"
        }
       }
      }
     },
     "metadata": {},
     "output_type": "display_data"
    }
   ],
   "source": [
    "import time \n",
    "from IPython.display import clear_output,display \n",
    "\n",
    "\n",
    "clear_output() \n",
    "\n",
    "env.reset()\n",
    "raw_env = env.unwrapped\n",
    "raw_env.set_goal(goal_position )\n",
    "\n",
    "\n",
    "done  = False \n",
    "\n",
    "while  not done : \n",
    "\n",
    "    action = env.action_space.sample() \n",
    "\n",
    "    state,reward,terminated, truncated,info = env.step(action)\n",
    "    clear_output()\n",
    "    env.render() \n",
    "\n",
    "    # time.sleep(1)\n",
    "    done = terminated or truncated\n",
    "    \n"
   ]
  },
  {
   "cell_type": "code",
   "execution_count": 17,
   "id": "c6d1ff06",
   "metadata": {},
   "outputs": [],
   "source": [
    "env.close()"
   ]
  },
  {
   "cell_type": "code",
   "execution_count": null,
   "id": "1385e482",
   "metadata": {},
   "outputs": [],
   "source": []
  }
 ],
 "metadata": {
  "kernelspec": {
   "display_name": "ai_env",
   "language": "python",
   "name": "python3"
  },
  "language_info": {
   "codemirror_mode": {
    "name": "ipython",
    "version": 3
   },
   "file_extension": ".py",
   "mimetype": "text/x-python",
   "name": "python",
   "nbconvert_exporter": "python",
   "pygments_lexer": "ipython3",
   "version": "3.10.18"
  }
 },
 "nbformat": 4,
 "nbformat_minor": 5
}
