{
 "cells": [
  {
   "cell_type": "code",
   "execution_count": 1,
   "id": "d5e216a7",
   "metadata": {},
   "outputs": [
    {
     "name": "stderr",
     "output_type": "stream",
     "text": [
      "c:\\Users\\user\\anaconda3\\envs\\ai_env\\lib\\site-packages\\pygame\\pkgdata.py:25: UserWarning: pkg_resources is deprecated as an API. See https://setuptools.pypa.io/en/latest/pkg_resources.html. The pkg_resources package is slated for removal as early as 2025-11-30. Refrain from using this package or pin to Setuptools<81.\n",
      "  from pkg_resources import resource_stream, resource_exists\n"
     ]
    }
   ],
   "source": [
    "import gymnasium as gym \n",
    "import flappy_bird_gymnasium\n",
    "from stable_baselines3 import PPO\n",
    "from stable_baselines3.common.vec_env import DummyVecEnv, VecNormalize\n",
    "from stable_baselines3.common.monitor import Monitor\n",
    "\n",
    "# Recreate environment\n",
    "\n",
    "\n",
    "env = gym.make(\"CarRacing-v3\", render_mode=\"rgb_array\")\n",
    "env = Monitor(env)\n",
    "env = DummyVecEnv([lambda: env])\n",
    "# env = VecNormalize.load(\"ppo_flappy_2000000_vecnormalize.pkl\", env)\n",
    "env.training = False\n",
    "env.norm_reward = False\n",
    "\n",
    "# Load model\n",
    "working_dir ='./' # \"/content/drive/MyDrive/husob/06 ReinForcement Learning/005/\" #\"./\"\n",
    "total_timesteps = 1000000\n",
    "                #    ppo_car_racing_1500000.zip\n",
    "model_file_name =f\"ppo_car_reacing_{total_timesteps}\"\n",
    "model_name= \"ppo_car_racing_1500000.zip\"#working_dir + model_file_name\n",
    "\n",
    "model = PPO.load(model_name, env=env)\n"
   ]
  },
  {
   "cell_type": "code",
   "execution_count": null,
   "id": "8236a18b",
   "metadata": {},
   "outputs": [
    {
     "name": "stdout",
     "output_type": "stream",
     "text": [
      "🎥 Recording 5 episodes of the trained agent...\n",
      "MoviePy - Building video videos2/ppo_car_racing_1500000.zip_episode_1.mp4.\n",
      "MoviePy - Writing video videos2/ppo_car_racing_1500000.zip_episode_1.mp4\n",
      "\n"
     ]
    },
    {
     "name": "stderr",
     "output_type": "stream",
     "text": [
      "                                                                          \r"
     ]
    },
    {
     "name": "stdout",
     "output_type": "stream",
     "text": [
      "MoviePy - Done !\n",
      "MoviePy - video ready videos2/ppo_car_racing_1500000.zip_episode_1.mp4\n",
      "✅ Saved video for Episode 1 - Reward: -48.630069732666016, Steps: 1000\n",
      "MoviePy - Building video videos2/ppo_car_racing_1500000.zip_episode_2.mp4.\n",
      "MoviePy - Writing video videos2/ppo_car_racing_1500000.zip_episode_2.mp4\n",
      "\n"
     ]
    },
    {
     "name": "stderr",
     "output_type": "stream",
     "text": [
      "                                                                          \r"
     ]
    },
    {
     "name": "stdout",
     "output_type": "stream",
     "text": [
      "MoviePy - Done !\n",
      "MoviePy - video ready videos2/ppo_car_racing_1500000.zip_episode_2.mp4\n",
      "✅ Saved video for Episode 2 - Reward: -49.66435241699219, Steps: 1000\n",
      "MoviePy - Building video videos2/ppo_car_racing_1500000.zip_episode_3.mp4.\n",
      "MoviePy - Writing video videos2/ppo_car_racing_1500000.zip_episode_3.mp4\n",
      "\n"
     ]
    },
    {
     "name": "stderr",
     "output_type": "stream",
     "text": [
      "                                                                          \r"
     ]
    },
    {
     "name": "stdout",
     "output_type": "stream",
     "text": [
      "MoviePy - Done !\n",
      "MoviePy - video ready videos2/ppo_car_racing_1500000.zip_episode_3.mp4\n",
      "✅ Saved video for Episode 3 - Reward: -44.250831604003906, Steps: 1000\n"
     ]
    }
   ],
   "source": [
    "import numpy as np\n",
    "from moviepy import ImageSequenceClip\n",
    "import os\n",
    "\n",
    "print(\"🎥 Recording 5 episodes of the trained agent...\")\n",
    "\n",
    "reward_queue = []\n",
    "time_queue = []\n",
    "video_output_dir = \"videos2\"\n",
    "os.makedirs(video_output_dir, exist_ok=True)\n",
    "\n",
    "n_episodes = 5\n",
    "\n",
    "for episode in range(1, n_episodes + 1):\n",
    "    obs = env.reset()\n",
    "    done = [False]\n",
    "    frames = []\n",
    "    total_reward = 0\n",
    "    steps = 0\n",
    "\n",
    "    while not done[0]:\n",
    "        action, _states = model.predict(obs, deterministic=True)\n",
    "        obs, reward, done, info = env.step(action)\n",
    "        total_reward += reward[0]\n",
    "        steps += 1\n",
    "\n",
    "        frame = env.envs[0].render()\n",
    "        if isinstance(frame, np.ndarray) and frame.shape[-1] == 3:\n",
    "            frames.append(frame)\n",
    "        else:\n",
    "            print(f\"⚠️ Episode {episode}: Skipping a malformed frame at step {steps}.\")\n",
    "\n",
    "    # Track stats\n",
    "    reward_queue.append(total_reward)\n",
    "    time_queue.append(steps)\n",
    "\n",
    "    # Save video\n",
    "    if frames:\n",
    "        clip = ImageSequenceClip(frames, fps=30)\n",
    "        video_path = f\"{video_output_dir}/{model_name}_episode_{episode}.mp4\"\n",
    "        clip.write_videofile(video_path, fps=30)\n",
    "        print(f\"✅ Saved video for Episode {episode} - Reward: {total_reward}, Steps: {steps}\")\n",
    "    else:\n",
    "        print(f\"⚠️ Episode {episode}: No valid frames captured.\")\n",
    "\n",
    "# After all episodes\n",
    "print(\"\\n📊 Summary of Evaluation Episodes:\")\n",
    "for i, (r, t) in enumerate(zip(reward_queue, time_queue), start=1):\n",
    "    print(f\"Episode {i}: Reward = {r:.2f}, Steps = {t}\")\n",
    "\n",
    "print(f\"\\n✅ Average Reward: {np.mean(reward_queue):.2f} ± {np.std(reward_queue):.2f}\")\n",
    "print(f\"✅ Average Steps: {np.mean(time_queue):.2f} ± {np.std(time_queue):.2f}\")\n"
   ]
  },
  {
   "cell_type": "code",
   "execution_count": null,
   "id": "7bb8d4ee",
   "metadata": {},
   "outputs": [],
   "source": []
  }
 ],
 "metadata": {
  "kernelspec": {
   "display_name": "ai_env",
   "language": "python",
   "name": "python3"
  },
  "language_info": {
   "codemirror_mode": {
    "name": "ipython",
    "version": 3
   },
   "file_extension": ".py",
   "mimetype": "text/x-python",
   "name": "python",
   "nbconvert_exporter": "python",
   "pygments_lexer": "ipython3",
   "version": "3.10.18"
  }
 },
 "nbformat": 4,
 "nbformat_minor": 5
}
