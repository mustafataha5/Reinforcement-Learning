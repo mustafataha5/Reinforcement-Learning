{
 "cells": [
  {
   "cell_type": "code",
   "execution_count": null,
   "id": "86b6e5ed",
   "metadata": {},
   "outputs": [
    {
     "name": "stdout",
     "output_type": "stream",
     "text": [
      "Collecting flappy-bird-gymnasium\n",
      "  Downloading flappy_bird_gymnasium-0.4.0-py3-none-any.whl.metadata (4.5 kB)\n",
      "Requirement already satisfied: gymnasium in c:\\users\\user\\anaconda3\\envs\\ai_env\\lib\\site-packages (from flappy-bird-gymnasium) (1.2.0)\n",
      "Requirement already satisfied: numpy in c:\\users\\user\\anaconda3\\envs\\ai_env\\lib\\site-packages (from flappy-bird-gymnasium) (2.2.6)\n",
      "Requirement already satisfied: pygame in c:\\users\\user\\anaconda3\\envs\\ai_env\\lib\\site-packages (from flappy-bird-gymnasium) (2.6.1)\n",
      "Requirement already satisfied: matplotlib in c:\\users\\user\\anaconda3\\envs\\ai_env\\lib\\site-packages (from flappy-bird-gymnasium) (3.10.3)\n",
      "Requirement already satisfied: cloudpickle>=1.2.0 in c:\\users\\user\\anaconda3\\envs\\ai_env\\lib\\site-packages (from gymnasium->flappy-bird-gymnasium) (3.1.1)\n",
      "Requirement already satisfied: typing-extensions>=4.3.0 in c:\\users\\user\\anaconda3\\envs\\ai_env\\lib\\site-packages (from gymnasium->flappy-bird-gymnasium) (4.14.1)\n",
      "Requirement already satisfied: farama-notifications>=0.0.1 in c:\\users\\user\\anaconda3\\envs\\ai_env\\lib\\site-packages (from gymnasium->flappy-bird-gymnasium) (0.0.4)\n",
      "Requirement already satisfied: contourpy>=1.0.1 in c:\\users\\user\\anaconda3\\envs\\ai_env\\lib\\site-packages (from matplotlib->flappy-bird-gymnasium) (1.3.2)\n",
      "Requirement already satisfied: cycler>=0.10 in c:\\users\\user\\anaconda3\\envs\\ai_env\\lib\\site-packages (from matplotlib->flappy-bird-gymnasium) (0.12.1)\n",
      "Requirement already satisfied: fonttools>=4.22.0 in c:\\users\\user\\anaconda3\\envs\\ai_env\\lib\\site-packages (from matplotlib->flappy-bird-gymnasium) (4.59.0)\n",
      "Requirement already satisfied: kiwisolver>=1.3.1 in c:\\users\\user\\anaconda3\\envs\\ai_env\\lib\\site-packages (from matplotlib->flappy-bird-gymnasium) (1.4.8)\n",
      "Requirement already satisfied: packaging>=20.0 in c:\\users\\user\\anaconda3\\envs\\ai_env\\lib\\site-packages (from matplotlib->flappy-bird-gymnasium) (25.0)\n",
      "Requirement already satisfied: pillow>=8 in c:\\users\\user\\anaconda3\\envs\\ai_env\\lib\\site-packages (from matplotlib->flappy-bird-gymnasium) (11.3.0)\n",
      "Requirement already satisfied: pyparsing>=2.3.1 in c:\\users\\user\\anaconda3\\envs\\ai_env\\lib\\site-packages (from matplotlib->flappy-bird-gymnasium) (3.2.3)\n",
      "Requirement already satisfied: python-dateutil>=2.7 in c:\\users\\user\\anaconda3\\envs\\ai_env\\lib\\site-packages (from matplotlib->flappy-bird-gymnasium) (2.9.0.post0)\n",
      "Requirement already satisfied: six>=1.5 in c:\\users\\user\\anaconda3\\envs\\ai_env\\lib\\site-packages (from python-dateutil>=2.7->matplotlib->flappy-bird-gymnasium) (1.17.0)\n",
      "Downloading flappy_bird_gymnasium-0.4.0-py3-none-any.whl (37.3 MB)\n",
      "   ---------------------------------------- 0.0/37.3 MB ? eta -:--:--\n",
      "    --------------------------------------- 0.5/37.3 MB 5.7 MB/s eta 0:00:07\n",
      "   -- ------------------------------------- 2.4/37.3 MB 7.9 MB/s eta 0:00:05\n",
      "   ----- ---------------------------------- 5.2/37.3 MB 10.3 MB/s eta 0:00:04\n",
      "   ----- ---------------------------------- 5.2/37.3 MB 10.3 MB/s eta 0:00:04\n",
      "   ------ --------------------------------- 6.3/37.3 MB 7.2 MB/s eta 0:00:05\n",
      "   ------- -------------------------------- 7.3/37.3 MB 7.4 MB/s eta 0:00:05\n",
      "   -------- ------------------------------- 8.4/37.3 MB 6.1 MB/s eta 0:00:05\n",
      "   ----------- ---------------------------- 10.5/37.3 MB 6.7 MB/s eta 0:00:05\n",
      "   ------------- -------------------------- 12.6/37.3 MB 6.9 MB/s eta 0:00:04\n",
      "   --------------- ------------------------ 14.2/37.3 MB 6.9 MB/s eta 0:00:04\n",
      "   ----------------- ---------------------- 16.8/37.3 MB 7.4 MB/s eta 0:00:03\n",
      "   ------------------- -------------------- 17.8/37.3 MB 7.5 MB/s eta 0:00:03\n",
      "   --------------------- ------------------ 20.4/37.3 MB 7.6 MB/s eta 0:00:03\n",
      "   ---------------------- ----------------- 21.0/37.3 MB 7.8 MB/s eta 0:00:03\n",
      "   ----------------------- ---------------- 22.0/37.3 MB 7.2 MB/s eta 0:00:03\n",
      "   ------------------------- -------------- 24.1/37.3 MB 7.4 MB/s eta 0:00:02\n",
      "   ------------------------- -------------- 24.1/37.3 MB 7.4 MB/s eta 0:00:02\n",
      "   ------------------------- -------------- 24.1/37.3 MB 7.4 MB/s eta 0:00:02\n",
      "   ------------------------- -------------- 24.1/37.3 MB 7.4 MB/s eta 0:00:02\n",
      "   ------------------------- -------------- 24.1/37.3 MB 7.4 MB/s eta 0:00:02\n",
      "   ------------------------- -------------- 24.1/37.3 MB 7.4 MB/s eta 0:00:02\n",
      "   -------------------------- ------------- 25.2/37.3 MB 5.4 MB/s eta 0:00:03\n",
      "   ----------------------------- ---------- 27.3/37.3 MB 5.6 MB/s eta 0:00:02\n",
      "   ----------------------------- ---------- 27.3/37.3 MB 5.6 MB/s eta 0:00:02\n",
      "   ------------------------------- -------- 29.4/37.3 MB 5.5 MB/s eta 0:00:02\n",
      "   ------------------------------- -------- 29.6/37.3 MB 5.3 MB/s eta 0:00:02\n",
      "   ---------------------------------- ----- 32.5/37.3 MB 5.6 MB/s eta 0:00:01\n",
      "   ----------------------------------- ---- 32.8/37.3 MB 5.5 MB/s eta 0:00:01\n",
      "   ----------------------------------- ---- 33.6/37.3 MB 5.5 MB/s eta 0:00:01\n",
      "   ------------------------------------- -- 34.6/37.3 MB 5.5 MB/s eta 0:00:01\n",
      "   ------------------------------------- -- 34.6/37.3 MB 5.5 MB/s eta 0:00:01\n",
      "   ------------------------------------- -- 34.6/37.3 MB 5.5 MB/s eta 0:00:01\n",
      "   ------------------------------------- -- 34.6/37.3 MB 5.5 MB/s eta 0:00:01\n",
      "   ---------------------------------------  36.7/37.3 MB 5.0 MB/s eta 0:00:01\n",
      "   ---------------------------------------- 37.3/37.3 MB 5.0 MB/s eta 0:00:00\n",
      "Installing collected packages: flappy-bird-gymnasium\n",
      "Successfully installed flappy-bird-gymnasium-0.4.0\n"
     ]
    }
   ],
   "source": [
    "# !pip install swing\n",
    "# !pip install gymnasium[box2d]\n",
    "# !pip install --upgrade moviepy\n"
   ]
  },
  {
   "cell_type": "code",
   "execution_count": 11,
   "id": "816fc938",
   "metadata": {},
   "outputs": [
    {
     "data": {
      "text/plain": [
       "(array([[[0, 0, 0],\n",
       "         [0, 0, 0],\n",
       "         [0, 0, 0],\n",
       "         ...,\n",
       "         [0, 0, 0],\n",
       "         [0, 0, 0],\n",
       "         [0, 0, 0]],\n",
       " \n",
       "        [[0, 0, 0],\n",
       "         [0, 0, 0],\n",
       "         [0, 0, 0],\n",
       "         ...,\n",
       "         [0, 0, 0],\n",
       "         [0, 0, 0],\n",
       "         [0, 0, 0]],\n",
       " \n",
       "        [[0, 0, 0],\n",
       "         [0, 0, 0],\n",
       "         [0, 0, 0],\n",
       "         ...,\n",
       "         [0, 0, 0],\n",
       "         [0, 0, 0],\n",
       "         [0, 0, 0]],\n",
       " \n",
       "        ...,\n",
       " \n",
       "        [[0, 0, 0],\n",
       "         [0, 0, 0],\n",
       "         [0, 0, 0],\n",
       "         ...,\n",
       "         [0, 0, 0],\n",
       "         [0, 0, 0],\n",
       "         [0, 0, 0]],\n",
       " \n",
       "        [[0, 0, 0],\n",
       "         [0, 0, 0],\n",
       "         [0, 0, 0],\n",
       "         ...,\n",
       "         [0, 0, 0],\n",
       "         [0, 0, 0],\n",
       "         [0, 0, 0]],\n",
       " \n",
       "        [[0, 0, 0],\n",
       "         [0, 0, 0],\n",
       "         [0, 0, 0],\n",
       "         ...,\n",
       "         [0, 0, 0],\n",
       "         [0, 0, 0],\n",
       "         [0, 0, 0]]], shape=(96, 96, 3), dtype=uint8),\n",
       " {})"
      ]
     },
     "execution_count": 11,
     "metadata": {},
     "output_type": "execute_result"
    }
   ],
   "source": [
    "import gymnasium as gym \n",
    "\n",
    "env = gym.make(\"CarRacing-v3\",render_mode=\"rgb_array\") #'human')\n",
    "\n",
    "env.reset()"
   ]
  },
  {
   "cell_type": "code",
   "execution_count": 12,
   "id": "1cd5af92",
   "metadata": {},
   "outputs": [
    {
     "name": "stdout",
     "output_type": "stream",
     "text": [
      "finsih\n",
      "Total Reward -32.384341637011126\n",
      "Moves 1000\n"
     ]
    }
   ],
   "source": [
    "episods = 1000 \n",
    "\n",
    "done = False \n",
    "\n",
    "total_reward = 0 \n",
    "moves = 0 \n",
    "\n",
    "\n",
    "while not done: \n",
    "\n",
    "    action = env.action_space.sample()\n",
    "\n",
    "    state,reward,teminated,truncated,_ = env.step(action)\n",
    "    total_reward += reward \n",
    "    moves +=1 \n",
    "    done = teminated or truncated\n",
    "\n",
    "\n",
    "print('finsih')\n",
    "print(f\"Total Reward {total_reward}\")\n",
    "print(f\"Moves {moves}\")\n"
   ]
  },
  {
   "cell_type": "code",
   "execution_count": 13,
   "id": "74f77341",
   "metadata": {},
   "outputs": [
    {
     "name": "stdout",
     "output_type": "stream",
     "text": [
      "Episod time take deque([35.025558, 36.312405, 37.516883], maxlen=3)\n",
      "Episod total Reward  deque([-17.35537190082643, -27.272727272727593, -26.470588235294525], maxlen=3)\n",
      "Episod length deque([1000, 1000, 1000], maxlen=3)\n"
     ]
    }
   ],
   "source": [
    "from gymnasium.wrappers import RecordEpisodeStatistics,RecordVideo \n",
    "\n",
    "\n",
    "num_eval_episopdes  = 3 \n",
    "\n",
    "env = RecordVideo(env,video_folder=\"videos/\",\n",
    "                  name_prefix='random',\n",
    "                  episode_trigger=lambda x: True)\n",
    "\n",
    "env = RecordEpisodeStatistics(env,buffer_length=num_eval_episopdes)\n",
    "\n",
    "\n",
    "for episod in range(num_eval_episopdes): \n",
    "    obs,_ = env.reset() \n",
    "\n",
    "    done = False \n",
    "    while not done: \n",
    "\n",
    "        action = env.action_space.sample()\n",
    "\n",
    "        state,reward,teminated,truncated,_ = env.step(action)\n",
    "        done = teminated or truncated\n",
    "print(f'Episod time take {env.time_queue}')\n",
    "print(f'Episod total Reward  {env.return_queue}')\n",
    "print(f'Episod length {env.length_queue}')"
   ]
  },
  {
   "cell_type": "code",
   "execution_count": null,
   "id": "2261126d",
   "metadata": {},
   "outputs": [],
   "source": []
  }
 ],
 "metadata": {
  "kernelspec": {
   "display_name": "ai_env",
   "language": "python",
   "name": "python3"
  },
  "language_info": {
   "codemirror_mode": {
    "name": "ipython",
    "version": 3
   },
   "file_extension": ".py",
   "mimetype": "text/x-python",
   "name": "python",
   "nbconvert_exporter": "python",
   "pygments_lexer": "ipython3",
   "version": "3.10.18"
  }
 },
 "nbformat": 4,
 "nbformat_minor": 5
}
