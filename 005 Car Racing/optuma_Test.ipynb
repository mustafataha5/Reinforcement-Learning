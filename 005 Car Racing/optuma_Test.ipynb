{
 "cells": [
  {
   "cell_type": "code",
   "execution_count": 2,
   "id": "abf63709",
   "metadata": {},
   "outputs": [
    {
     "name": "stdout",
     "output_type": "stream",
     "text": [
      "Collecting optuna\n",
      "  Downloading optuna-4.4.0-py3-none-any.whl.metadata (17 kB)\n",
      "Collecting alembic>=1.5.0 (from optuna)\n",
      "  Downloading alembic-1.16.4-py3-none-any.whl.metadata (7.3 kB)\n",
      "Collecting colorlog (from optuna)\n",
      "  Downloading colorlog-6.9.0-py3-none-any.whl.metadata (10 kB)\n",
      "Requirement already satisfied: numpy in c:\\users\\user\\anaconda3\\envs\\ai_env\\lib\\site-packages (from optuna) (2.2.6)\n",
      "Requirement already satisfied: packaging>=20.0 in c:\\users\\user\\anaconda3\\envs\\ai_env\\lib\\site-packages (from optuna) (25.0)\n",
      "Collecting sqlalchemy>=1.4.2 (from optuna)\n",
      "  Downloading sqlalchemy-2.0.42-cp310-cp310-win_amd64.whl.metadata (9.8 kB)\n",
      "Requirement already satisfied: tqdm in c:\\users\\user\\anaconda3\\envs\\ai_env\\lib\\site-packages (from optuna) (4.67.1)\n",
      "Requirement already satisfied: PyYAML in c:\\users\\user\\anaconda3\\envs\\ai_env\\lib\\site-packages (from optuna) (6.0.2)\n",
      "Collecting Mako (from alembic>=1.5.0->optuna)\n",
      "  Downloading mako-1.3.10-py3-none-any.whl.metadata (2.9 kB)\n",
      "Requirement already satisfied: typing-extensions>=4.12 in c:\\users\\user\\anaconda3\\envs\\ai_env\\lib\\site-packages (from alembic>=1.5.0->optuna) (4.14.1)\n",
      "Requirement already satisfied: tomli in c:\\users\\user\\anaconda3\\envs\\ai_env\\lib\\site-packages (from alembic>=1.5.0->optuna) (2.2.1)\n",
      "Collecting greenlet>=1 (from sqlalchemy>=1.4.2->optuna)\n",
      "  Downloading greenlet-3.2.3-cp310-cp310-win_amd64.whl.metadata (4.2 kB)\n",
      "Requirement already satisfied: colorama in c:\\users\\user\\anaconda3\\envs\\ai_env\\lib\\site-packages (from colorlog->optuna) (0.4.6)\n",
      "Requirement already satisfied: MarkupSafe>=0.9.2 in c:\\users\\user\\anaconda3\\envs\\ai_env\\lib\\site-packages (from Mako->alembic>=1.5.0->optuna) (3.0.2)\n",
      "Downloading optuna-4.4.0-py3-none-any.whl (395 kB)\n",
      "Downloading alembic-1.16.4-py3-none-any.whl (247 kB)\n",
      "Downloading sqlalchemy-2.0.42-cp310-cp310-win_amd64.whl (2.1 MB)\n",
      "   ---------------------------------------- 0.0/2.1 MB ? eta -:--:--\n",
      "   ---------------------------------------- 2.1/2.1 MB 14.9 MB/s eta 0:00:00\n",
      "Downloading greenlet-3.2.3-cp310-cp310-win_amd64.whl (296 kB)\n",
      "Downloading colorlog-6.9.0-py3-none-any.whl (11 kB)\n",
      "Downloading mako-1.3.10-py3-none-any.whl (78 kB)\n",
      "Installing collected packages: Mako, greenlet, colorlog, sqlalchemy, alembic, optuna\n",
      "\n",
      "   ---------------------------------------- 0/6 [Mako]\n",
      "   ------ --------------------------------- 1/6 [greenlet]\n",
      "   ------ --------------------------------- 1/6 [greenlet]\n",
      "   -------------------- ------------------- 3/6 [sqlalchemy]\n",
      "   -------------------- ------------------- 3/6 [sqlalchemy]\n",
      "   -------------------- ------------------- 3/6 [sqlalchemy]\n",
      "   -------------------- ------------------- 3/6 [sqlalchemy]\n",
      "   -------------------- ------------------- 3/6 [sqlalchemy]\n",
      "   -------------------- ------------------- 3/6 [sqlalchemy]\n",
      "   -------------------- ------------------- 3/6 [sqlalchemy]\n",
      "   -------------------- ------------------- 3/6 [sqlalchemy]\n",
      "   -------------------- ------------------- 3/6 [sqlalchemy]\n",
      "   -------------------- ------------------- 3/6 [sqlalchemy]\n",
      "   -------------------- ------------------- 3/6 [sqlalchemy]\n",
      "   -------------------- ------------------- 3/6 [sqlalchemy]\n",
      "   -------------------- ------------------- 3/6 [sqlalchemy]\n",
      "   -------------------- ------------------- 3/6 [sqlalchemy]\n",
      "   -------------------- ------------------- 3/6 [sqlalchemy]\n",
      "   -------------------- ------------------- 3/6 [sqlalchemy]\n",
      "   -------------------------- ------------- 4/6 [alembic]\n",
      "   -------------------------- ------------- 4/6 [alembic]\n",
      "   --------------------------------- ------ 5/6 [optuna]\n",
      "   --------------------------------- ------ 5/6 [optuna]\n",
      "   --------------------------------- ------ 5/6 [optuna]\n",
      "   --------------------------------- ------ 5/6 [optuna]\n",
      "   --------------------------------- ------ 5/6 [optuna]\n",
      "   --------------------------------- ------ 5/6 [optuna]\n",
      "   ---------------------------------------- 6/6 [optuna]\n",
      "\n",
      "Successfully installed Mako-1.3.10 alembic-1.16.4 colorlog-6.9.0 greenlet-3.2.3 optuna-4.4.0 sqlalchemy-2.0.42\n"
     ]
    }
   ],
   "source": [
    "!pip install optuna"
   ]
  },
  {
   "cell_type": "code",
   "execution_count": 3,
   "id": "7d8c4979",
   "metadata": {},
   "outputs": [],
   "source": [
    "import seaborn as sns\n",
    "import pandas as pd\n",
    "from sklearn.model_selection import train_test_split\n",
    "from sklearn.ensemble import RandomForestRegressor\n",
    "from sklearn.metrics import mean_absolute_error, mean_squared_error, r2_score\n",
    "import optuna\n",
    "from sklearn.model_selection import cross_val_score\n",
    "import matplotlib.pyplot as plt"
   ]
  },
  {
   "cell_type": "code",
   "execution_count": 4,
   "id": "cc76335d",
   "metadata": {},
   "outputs": [
    {
     "data": {
      "text/html": [
       "<div>\n",
       "<style scoped>\n",
       "    .dataframe tbody tr th:only-of-type {\n",
       "        vertical-align: middle;\n",
       "    }\n",
       "\n",
       "    .dataframe tbody tr th {\n",
       "        vertical-align: top;\n",
       "    }\n",
       "\n",
       "    .dataframe thead th {\n",
       "        text-align: right;\n",
       "    }\n",
       "</style>\n",
       "<table border=\"1\" class=\"dataframe\">\n",
       "  <thead>\n",
       "    <tr style=\"text-align: right;\">\n",
       "      <th></th>\n",
       "      <th>Year</th>\n",
       "      <th>Country</th>\n",
       "      <th>Spending_USD</th>\n",
       "      <th>Life_Expectancy</th>\n",
       "    </tr>\n",
       "  </thead>\n",
       "  <tbody>\n",
       "    <tr>\n",
       "      <th>0</th>\n",
       "      <td>1970</td>\n",
       "      <td>Germany</td>\n",
       "      <td>252.311</td>\n",
       "      <td>70.6</td>\n",
       "    </tr>\n",
       "    <tr>\n",
       "      <th>1</th>\n",
       "      <td>1970</td>\n",
       "      <td>France</td>\n",
       "      <td>192.143</td>\n",
       "      <td>72.2</td>\n",
       "    </tr>\n",
       "    <tr>\n",
       "      <th>2</th>\n",
       "      <td>1970</td>\n",
       "      <td>Great Britain</td>\n",
       "      <td>123.993</td>\n",
       "      <td>71.9</td>\n",
       "    </tr>\n",
       "    <tr>\n",
       "      <th>3</th>\n",
       "      <td>1970</td>\n",
       "      <td>Japan</td>\n",
       "      <td>150.437</td>\n",
       "      <td>72.0</td>\n",
       "    </tr>\n",
       "    <tr>\n",
       "      <th>4</th>\n",
       "      <td>1970</td>\n",
       "      <td>USA</td>\n",
       "      <td>326.961</td>\n",
       "      <td>70.9</td>\n",
       "    </tr>\n",
       "    <tr>\n",
       "      <th>...</th>\n",
       "      <td>...</td>\n",
       "      <td>...</td>\n",
       "      <td>...</td>\n",
       "      <td>...</td>\n",
       "    </tr>\n",
       "    <tr>\n",
       "      <th>95</th>\n",
       "      <td>1991</td>\n",
       "      <td>Canada</td>\n",
       "      <td>1805.209</td>\n",
       "      <td>77.6</td>\n",
       "    </tr>\n",
       "    <tr>\n",
       "      <th>96</th>\n",
       "      <td>1991</td>\n",
       "      <td>France</td>\n",
       "      <td>1558.033</td>\n",
       "      <td>77.2</td>\n",
       "    </tr>\n",
       "    <tr>\n",
       "      <th>97</th>\n",
       "      <td>1991</td>\n",
       "      <td>Great Britain</td>\n",
       "      <td>842.797</td>\n",
       "      <td>75.9</td>\n",
       "    </tr>\n",
       "    <tr>\n",
       "      <th>98</th>\n",
       "      <td>1991</td>\n",
       "      <td>Japan</td>\n",
       "      <td>1166.430</td>\n",
       "      <td>79.1</td>\n",
       "    </tr>\n",
       "    <tr>\n",
       "      <th>99</th>\n",
       "      <td>1991</td>\n",
       "      <td>USA</td>\n",
       "      <td>2901.589</td>\n",
       "      <td>75.5</td>\n",
       "    </tr>\n",
       "  </tbody>\n",
       "</table>\n",
       "<p>100 rows × 4 columns</p>\n",
       "</div>"
      ],
      "text/plain": [
       "    Year        Country  Spending_USD  Life_Expectancy\n",
       "0   1970        Germany       252.311             70.6\n",
       "1   1970         France       192.143             72.2\n",
       "2   1970  Great Britain       123.993             71.9\n",
       "3   1970          Japan       150.437             72.0\n",
       "4   1970            USA       326.961             70.9\n",
       "..   ...            ...           ...              ...\n",
       "95  1991         Canada      1805.209             77.6\n",
       "96  1991         France      1558.033             77.2\n",
       "97  1991  Great Britain       842.797             75.9\n",
       "98  1991          Japan      1166.430             79.1\n",
       "99  1991            USA      2901.589             75.5\n",
       "\n",
       "[100 rows x 4 columns]"
      ]
     },
     "execution_count": 4,
     "metadata": {},
     "output_type": "execute_result"
    }
   ],
   "source": [
    "healthexp = sns.load_dataset('healthexp')\n",
    "healthexp.head(100)"
   ]
  },
  {
   "cell_type": "code",
   "execution_count": 5,
   "id": "206da3ae",
   "metadata": {},
   "outputs": [],
   "source": [
    "healthexp = pd.get_dummies(healthexp)"
   ]
  },
  {
   "cell_type": "code",
   "execution_count": 7,
   "id": "e7a44a03",
   "metadata": {},
   "outputs": [],
   "source": [
    "X = healthexp.drop(['Life_Expectancy'], axis=1)\n",
    "y = healthexp['Life_Expectancy']"
   ]
  },
  {
   "cell_type": "code",
   "execution_count": 8,
   "id": "c21f9679",
   "metadata": {},
   "outputs": [],
   "source": [
    "X_train, X_test, y_train, y_test = train_test_split(X, y, test_size=0.2, random_state=19)"
   ]
  },
  {
   "cell_type": "code",
   "execution_count": 9,
   "id": "59a3d791",
   "metadata": {},
   "outputs": [],
   "source": [
    "rfr = RandomForestRegressor(random_state=13)"
   ]
  },
  {
   "cell_type": "code",
   "execution_count": 10,
   "id": "ba09dc12",
   "metadata": {},
   "outputs": [
    {
     "data": {
      "text/html": [
       "<style>#sk-container-id-1 {\n",
       "  /* Definition of color scheme common for light and dark mode */\n",
       "  --sklearn-color-text: #000;\n",
       "  --sklearn-color-text-muted: #666;\n",
       "  --sklearn-color-line: gray;\n",
       "  /* Definition of color scheme for unfitted estimators */\n",
       "  --sklearn-color-unfitted-level-0: #fff5e6;\n",
       "  --sklearn-color-unfitted-level-1: #f6e4d2;\n",
       "  --sklearn-color-unfitted-level-2: #ffe0b3;\n",
       "  --sklearn-color-unfitted-level-3: chocolate;\n",
       "  /* Definition of color scheme for fitted estimators */\n",
       "  --sklearn-color-fitted-level-0: #f0f8ff;\n",
       "  --sklearn-color-fitted-level-1: #d4ebff;\n",
       "  --sklearn-color-fitted-level-2: #b3dbfd;\n",
       "  --sklearn-color-fitted-level-3: cornflowerblue;\n",
       "\n",
       "  /* Specific color for light theme */\n",
       "  --sklearn-color-text-on-default-background: var(--sg-text-color, var(--theme-code-foreground, var(--jp-content-font-color1, black)));\n",
       "  --sklearn-color-background: var(--sg-background-color, var(--theme-background, var(--jp-layout-color0, white)));\n",
       "  --sklearn-color-border-box: var(--sg-text-color, var(--theme-code-foreground, var(--jp-content-font-color1, black)));\n",
       "  --sklearn-color-icon: #696969;\n",
       "\n",
       "  @media (prefers-color-scheme: dark) {\n",
       "    /* Redefinition of color scheme for dark theme */\n",
       "    --sklearn-color-text-on-default-background: var(--sg-text-color, var(--theme-code-foreground, var(--jp-content-font-color1, white)));\n",
       "    --sklearn-color-background: var(--sg-background-color, var(--theme-background, var(--jp-layout-color0, #111)));\n",
       "    --sklearn-color-border-box: var(--sg-text-color, var(--theme-code-foreground, var(--jp-content-font-color1, white)));\n",
       "    --sklearn-color-icon: #878787;\n",
       "  }\n",
       "}\n",
       "\n",
       "#sk-container-id-1 {\n",
       "  color: var(--sklearn-color-text);\n",
       "}\n",
       "\n",
       "#sk-container-id-1 pre {\n",
       "  padding: 0;\n",
       "}\n",
       "\n",
       "#sk-container-id-1 input.sk-hidden--visually {\n",
       "  border: 0;\n",
       "  clip: rect(1px 1px 1px 1px);\n",
       "  clip: rect(1px, 1px, 1px, 1px);\n",
       "  height: 1px;\n",
       "  margin: -1px;\n",
       "  overflow: hidden;\n",
       "  padding: 0;\n",
       "  position: absolute;\n",
       "  width: 1px;\n",
       "}\n",
       "\n",
       "#sk-container-id-1 div.sk-dashed-wrapped {\n",
       "  border: 1px dashed var(--sklearn-color-line);\n",
       "  margin: 0 0.4em 0.5em 0.4em;\n",
       "  box-sizing: border-box;\n",
       "  padding-bottom: 0.4em;\n",
       "  background-color: var(--sklearn-color-background);\n",
       "}\n",
       "\n",
       "#sk-container-id-1 div.sk-container {\n",
       "  /* jupyter's `normalize.less` sets `[hidden] { display: none; }`\n",
       "     but bootstrap.min.css set `[hidden] { display: none !important; }`\n",
       "     so we also need the `!important` here to be able to override the\n",
       "     default hidden behavior on the sphinx rendered scikit-learn.org.\n",
       "     See: https://github.com/scikit-learn/scikit-learn/issues/21755 */\n",
       "  display: inline-block !important;\n",
       "  position: relative;\n",
       "}\n",
       "\n",
       "#sk-container-id-1 div.sk-text-repr-fallback {\n",
       "  display: none;\n",
       "}\n",
       "\n",
       "div.sk-parallel-item,\n",
       "div.sk-serial,\n",
       "div.sk-item {\n",
       "  /* draw centered vertical line to link estimators */\n",
       "  background-image: linear-gradient(var(--sklearn-color-text-on-default-background), var(--sklearn-color-text-on-default-background));\n",
       "  background-size: 2px 100%;\n",
       "  background-repeat: no-repeat;\n",
       "  background-position: center center;\n",
       "}\n",
       "\n",
       "/* Parallel-specific style estimator block */\n",
       "\n",
       "#sk-container-id-1 div.sk-parallel-item::after {\n",
       "  content: \"\";\n",
       "  width: 100%;\n",
       "  border-bottom: 2px solid var(--sklearn-color-text-on-default-background);\n",
       "  flex-grow: 1;\n",
       "}\n",
       "\n",
       "#sk-container-id-1 div.sk-parallel {\n",
       "  display: flex;\n",
       "  align-items: stretch;\n",
       "  justify-content: center;\n",
       "  background-color: var(--sklearn-color-background);\n",
       "  position: relative;\n",
       "}\n",
       "\n",
       "#sk-container-id-1 div.sk-parallel-item {\n",
       "  display: flex;\n",
       "  flex-direction: column;\n",
       "}\n",
       "\n",
       "#sk-container-id-1 div.sk-parallel-item:first-child::after {\n",
       "  align-self: flex-end;\n",
       "  width: 50%;\n",
       "}\n",
       "\n",
       "#sk-container-id-1 div.sk-parallel-item:last-child::after {\n",
       "  align-self: flex-start;\n",
       "  width: 50%;\n",
       "}\n",
       "\n",
       "#sk-container-id-1 div.sk-parallel-item:only-child::after {\n",
       "  width: 0;\n",
       "}\n",
       "\n",
       "/* Serial-specific style estimator block */\n",
       "\n",
       "#sk-container-id-1 div.sk-serial {\n",
       "  display: flex;\n",
       "  flex-direction: column;\n",
       "  align-items: center;\n",
       "  background-color: var(--sklearn-color-background);\n",
       "  padding-right: 1em;\n",
       "  padding-left: 1em;\n",
       "}\n",
       "\n",
       "\n",
       "/* Toggleable style: style used for estimator/Pipeline/ColumnTransformer box that is\n",
       "clickable and can be expanded/collapsed.\n",
       "- Pipeline and ColumnTransformer use this feature and define the default style\n",
       "- Estimators will overwrite some part of the style using the `sk-estimator` class\n",
       "*/\n",
       "\n",
       "/* Pipeline and ColumnTransformer style (default) */\n",
       "\n",
       "#sk-container-id-1 div.sk-toggleable {\n",
       "  /* Default theme specific background. It is overwritten whether we have a\n",
       "  specific estimator or a Pipeline/ColumnTransformer */\n",
       "  background-color: var(--sklearn-color-background);\n",
       "}\n",
       "\n",
       "/* Toggleable label */\n",
       "#sk-container-id-1 label.sk-toggleable__label {\n",
       "  cursor: pointer;\n",
       "  display: flex;\n",
       "  width: 100%;\n",
       "  margin-bottom: 0;\n",
       "  padding: 0.5em;\n",
       "  box-sizing: border-box;\n",
       "  text-align: center;\n",
       "  align-items: start;\n",
       "  justify-content: space-between;\n",
       "  gap: 0.5em;\n",
       "}\n",
       "\n",
       "#sk-container-id-1 label.sk-toggleable__label .caption {\n",
       "  font-size: 0.6rem;\n",
       "  font-weight: lighter;\n",
       "  color: var(--sklearn-color-text-muted);\n",
       "}\n",
       "\n",
       "#sk-container-id-1 label.sk-toggleable__label-arrow:before {\n",
       "  /* Arrow on the left of the label */\n",
       "  content: \"▸\";\n",
       "  float: left;\n",
       "  margin-right: 0.25em;\n",
       "  color: var(--sklearn-color-icon);\n",
       "}\n",
       "\n",
       "#sk-container-id-1 label.sk-toggleable__label-arrow:hover:before {\n",
       "  color: var(--sklearn-color-text);\n",
       "}\n",
       "\n",
       "/* Toggleable content - dropdown */\n",
       "\n",
       "#sk-container-id-1 div.sk-toggleable__content {\n",
       "  max-height: 0;\n",
       "  max-width: 0;\n",
       "  overflow: hidden;\n",
       "  text-align: left;\n",
       "  /* unfitted */\n",
       "  background-color: var(--sklearn-color-unfitted-level-0);\n",
       "}\n",
       "\n",
       "#sk-container-id-1 div.sk-toggleable__content.fitted {\n",
       "  /* fitted */\n",
       "  background-color: var(--sklearn-color-fitted-level-0);\n",
       "}\n",
       "\n",
       "#sk-container-id-1 div.sk-toggleable__content pre {\n",
       "  margin: 0.2em;\n",
       "  border-radius: 0.25em;\n",
       "  color: var(--sklearn-color-text);\n",
       "  /* unfitted */\n",
       "  background-color: var(--sklearn-color-unfitted-level-0);\n",
       "}\n",
       "\n",
       "#sk-container-id-1 div.sk-toggleable__content.fitted pre {\n",
       "  /* unfitted */\n",
       "  background-color: var(--sklearn-color-fitted-level-0);\n",
       "}\n",
       "\n",
       "#sk-container-id-1 input.sk-toggleable__control:checked~div.sk-toggleable__content {\n",
       "  /* Expand drop-down */\n",
       "  max-height: 200px;\n",
       "  max-width: 100%;\n",
       "  overflow: auto;\n",
       "}\n",
       "\n",
       "#sk-container-id-1 input.sk-toggleable__control:checked~label.sk-toggleable__label-arrow:before {\n",
       "  content: \"▾\";\n",
       "}\n",
       "\n",
       "/* Pipeline/ColumnTransformer-specific style */\n",
       "\n",
       "#sk-container-id-1 div.sk-label input.sk-toggleable__control:checked~label.sk-toggleable__label {\n",
       "  color: var(--sklearn-color-text);\n",
       "  background-color: var(--sklearn-color-unfitted-level-2);\n",
       "}\n",
       "\n",
       "#sk-container-id-1 div.sk-label.fitted input.sk-toggleable__control:checked~label.sk-toggleable__label {\n",
       "  background-color: var(--sklearn-color-fitted-level-2);\n",
       "}\n",
       "\n",
       "/* Estimator-specific style */\n",
       "\n",
       "/* Colorize estimator box */\n",
       "#sk-container-id-1 div.sk-estimator input.sk-toggleable__control:checked~label.sk-toggleable__label {\n",
       "  /* unfitted */\n",
       "  background-color: var(--sklearn-color-unfitted-level-2);\n",
       "}\n",
       "\n",
       "#sk-container-id-1 div.sk-estimator.fitted input.sk-toggleable__control:checked~label.sk-toggleable__label {\n",
       "  /* fitted */\n",
       "  background-color: var(--sklearn-color-fitted-level-2);\n",
       "}\n",
       "\n",
       "#sk-container-id-1 div.sk-label label.sk-toggleable__label,\n",
       "#sk-container-id-1 div.sk-label label {\n",
       "  /* The background is the default theme color */\n",
       "  color: var(--sklearn-color-text-on-default-background);\n",
       "}\n",
       "\n",
       "/* On hover, darken the color of the background */\n",
       "#sk-container-id-1 div.sk-label:hover label.sk-toggleable__label {\n",
       "  color: var(--sklearn-color-text);\n",
       "  background-color: var(--sklearn-color-unfitted-level-2);\n",
       "}\n",
       "\n",
       "/* Label box, darken color on hover, fitted */\n",
       "#sk-container-id-1 div.sk-label.fitted:hover label.sk-toggleable__label.fitted {\n",
       "  color: var(--sklearn-color-text);\n",
       "  background-color: var(--sklearn-color-fitted-level-2);\n",
       "}\n",
       "\n",
       "/* Estimator label */\n",
       "\n",
       "#sk-container-id-1 div.sk-label label {\n",
       "  font-family: monospace;\n",
       "  font-weight: bold;\n",
       "  display: inline-block;\n",
       "  line-height: 1.2em;\n",
       "}\n",
       "\n",
       "#sk-container-id-1 div.sk-label-container {\n",
       "  text-align: center;\n",
       "}\n",
       "\n",
       "/* Estimator-specific */\n",
       "#sk-container-id-1 div.sk-estimator {\n",
       "  font-family: monospace;\n",
       "  border: 1px dotted var(--sklearn-color-border-box);\n",
       "  border-radius: 0.25em;\n",
       "  box-sizing: border-box;\n",
       "  margin-bottom: 0.5em;\n",
       "  /* unfitted */\n",
       "  background-color: var(--sklearn-color-unfitted-level-0);\n",
       "}\n",
       "\n",
       "#sk-container-id-1 div.sk-estimator.fitted {\n",
       "  /* fitted */\n",
       "  background-color: var(--sklearn-color-fitted-level-0);\n",
       "}\n",
       "\n",
       "/* on hover */\n",
       "#sk-container-id-1 div.sk-estimator:hover {\n",
       "  /* unfitted */\n",
       "  background-color: var(--sklearn-color-unfitted-level-2);\n",
       "}\n",
       "\n",
       "#sk-container-id-1 div.sk-estimator.fitted:hover {\n",
       "  /* fitted */\n",
       "  background-color: var(--sklearn-color-fitted-level-2);\n",
       "}\n",
       "\n",
       "/* Specification for estimator info (e.g. \"i\" and \"?\") */\n",
       "\n",
       "/* Common style for \"i\" and \"?\" */\n",
       "\n",
       ".sk-estimator-doc-link,\n",
       "a:link.sk-estimator-doc-link,\n",
       "a:visited.sk-estimator-doc-link {\n",
       "  float: right;\n",
       "  font-size: smaller;\n",
       "  line-height: 1em;\n",
       "  font-family: monospace;\n",
       "  background-color: var(--sklearn-color-background);\n",
       "  border-radius: 1em;\n",
       "  height: 1em;\n",
       "  width: 1em;\n",
       "  text-decoration: none !important;\n",
       "  margin-left: 0.5em;\n",
       "  text-align: center;\n",
       "  /* unfitted */\n",
       "  border: var(--sklearn-color-unfitted-level-1) 1pt solid;\n",
       "  color: var(--sklearn-color-unfitted-level-1);\n",
       "}\n",
       "\n",
       ".sk-estimator-doc-link.fitted,\n",
       "a:link.sk-estimator-doc-link.fitted,\n",
       "a:visited.sk-estimator-doc-link.fitted {\n",
       "  /* fitted */\n",
       "  border: var(--sklearn-color-fitted-level-1) 1pt solid;\n",
       "  color: var(--sklearn-color-fitted-level-1);\n",
       "}\n",
       "\n",
       "/* On hover */\n",
       "div.sk-estimator:hover .sk-estimator-doc-link:hover,\n",
       ".sk-estimator-doc-link:hover,\n",
       "div.sk-label-container:hover .sk-estimator-doc-link:hover,\n",
       ".sk-estimator-doc-link:hover {\n",
       "  /* unfitted */\n",
       "  background-color: var(--sklearn-color-unfitted-level-3);\n",
       "  color: var(--sklearn-color-background);\n",
       "  text-decoration: none;\n",
       "}\n",
       "\n",
       "div.sk-estimator.fitted:hover .sk-estimator-doc-link.fitted:hover,\n",
       ".sk-estimator-doc-link.fitted:hover,\n",
       "div.sk-label-container:hover .sk-estimator-doc-link.fitted:hover,\n",
       ".sk-estimator-doc-link.fitted:hover {\n",
       "  /* fitted */\n",
       "  background-color: var(--sklearn-color-fitted-level-3);\n",
       "  color: var(--sklearn-color-background);\n",
       "  text-decoration: none;\n",
       "}\n",
       "\n",
       "/* Span, style for the box shown on hovering the info icon */\n",
       ".sk-estimator-doc-link span {\n",
       "  display: none;\n",
       "  z-index: 9999;\n",
       "  position: relative;\n",
       "  font-weight: normal;\n",
       "  right: .2ex;\n",
       "  padding: .5ex;\n",
       "  margin: .5ex;\n",
       "  width: min-content;\n",
       "  min-width: 20ex;\n",
       "  max-width: 50ex;\n",
       "  color: var(--sklearn-color-text);\n",
       "  box-shadow: 2pt 2pt 4pt #999;\n",
       "  /* unfitted */\n",
       "  background: var(--sklearn-color-unfitted-level-0);\n",
       "  border: .5pt solid var(--sklearn-color-unfitted-level-3);\n",
       "}\n",
       "\n",
       ".sk-estimator-doc-link.fitted span {\n",
       "  /* fitted */\n",
       "  background: var(--sklearn-color-fitted-level-0);\n",
       "  border: var(--sklearn-color-fitted-level-3);\n",
       "}\n",
       "\n",
       ".sk-estimator-doc-link:hover span {\n",
       "  display: block;\n",
       "}\n",
       "\n",
       "/* \"?\"-specific style due to the `<a>` HTML tag */\n",
       "\n",
       "#sk-container-id-1 a.estimator_doc_link {\n",
       "  float: right;\n",
       "  font-size: 1rem;\n",
       "  line-height: 1em;\n",
       "  font-family: monospace;\n",
       "  background-color: var(--sklearn-color-background);\n",
       "  border-radius: 1rem;\n",
       "  height: 1rem;\n",
       "  width: 1rem;\n",
       "  text-decoration: none;\n",
       "  /* unfitted */\n",
       "  color: var(--sklearn-color-unfitted-level-1);\n",
       "  border: var(--sklearn-color-unfitted-level-1) 1pt solid;\n",
       "}\n",
       "\n",
       "#sk-container-id-1 a.estimator_doc_link.fitted {\n",
       "  /* fitted */\n",
       "  border: var(--sklearn-color-fitted-level-1) 1pt solid;\n",
       "  color: var(--sklearn-color-fitted-level-1);\n",
       "}\n",
       "\n",
       "/* On hover */\n",
       "#sk-container-id-1 a.estimator_doc_link:hover {\n",
       "  /* unfitted */\n",
       "  background-color: var(--sklearn-color-unfitted-level-3);\n",
       "  color: var(--sklearn-color-background);\n",
       "  text-decoration: none;\n",
       "}\n",
       "\n",
       "#sk-container-id-1 a.estimator_doc_link.fitted:hover {\n",
       "  /* fitted */\n",
       "  background-color: var(--sklearn-color-fitted-level-3);\n",
       "}\n",
       "</style><div id=\"sk-container-id-1\" class=\"sk-top-container\"><div class=\"sk-text-repr-fallback\"><pre>RandomForestRegressor(random_state=13)</pre><b>In a Jupyter environment, please rerun this cell to show the HTML representation or trust the notebook. <br />On GitHub, the HTML representation is unable to render, please try loading this page with nbviewer.org.</b></div><div class=\"sk-container\" hidden><div class=\"sk-item\"><div class=\"sk-estimator fitted sk-toggleable\"><input class=\"sk-toggleable__control sk-hidden--visually\" id=\"sk-estimator-id-1\" type=\"checkbox\" checked><label for=\"sk-estimator-id-1\" class=\"sk-toggleable__label fitted sk-toggleable__label-arrow\"><div><div>RandomForestRegressor</div></div><div><a class=\"sk-estimator-doc-link fitted\" rel=\"noreferrer\" target=\"_blank\" href=\"https://scikit-learn.org/1.6/modules/generated/sklearn.ensemble.RandomForestRegressor.html\">?<span>Documentation for RandomForestRegressor</span></a><span class=\"sk-estimator-doc-link fitted\">i<span>Fitted</span></span></div></label><div class=\"sk-toggleable__content fitted\"><pre>RandomForestRegressor(random_state=13)</pre></div> </div></div></div></div>"
      ],
      "text/plain": [
       "RandomForestRegressor(random_state=13)"
      ]
     },
     "execution_count": 10,
     "metadata": {},
     "output_type": "execute_result"
    }
   ],
   "source": [
    "rfr.fit(X_train, y_train)"
   ]
  },
  {
   "cell_type": "code",
   "execution_count": 11,
   "id": "d9d0b511",
   "metadata": {},
   "outputs": [],
   "source": [
    "y_pred = rfr.predict(X_test)"
   ]
  },
  {
   "cell_type": "code",
   "execution_count": 12,
   "id": "97a50eac",
   "metadata": {},
   "outputs": [
    {
     "data": {
      "text/plain": [
       "0.25916363636361917"
      ]
     },
     "execution_count": 12,
     "metadata": {},
     "output_type": "execute_result"
    }
   ],
   "source": [
    "mean_absolute_error(y_test, y_pred)"
   ]
  },
  {
   "cell_type": "code",
   "execution_count": 13,
   "id": "05bb4d20",
   "metadata": {},
   "outputs": [
    {
     "data": {
      "text/plain": [
       "0.10221141818181628"
      ]
     },
     "execution_count": 13,
     "metadata": {},
     "output_type": "execute_result"
    }
   ],
   "source": [
    "mean_squared_error(y_test, y_pred)"
   ]
  },
  {
   "cell_type": "code",
   "execution_count": 14,
   "id": "a19c6453",
   "metadata": {},
   "outputs": [
    {
     "data": {
      "text/plain": [
       "0.9910457602615238"
      ]
     },
     "execution_count": 14,
     "metadata": {},
     "output_type": "execute_result"
    }
   ],
   "source": [
    "r2_score(y_test, y_pred)"
   ]
  },
  {
   "cell_type": "code",
   "execution_count": 25,
   "id": "dc3fb10c",
   "metadata": {},
   "outputs": [],
   "source": [
    "def objective(trial):\n",
    "\n",
    "    n_estimators = trial.suggest_int('n_estimators', 100, 1000)\n",
    "    max_depth = trial.suggest_int('max_depth', 10, 50)\n",
    "    min_samples_split = trial.suggest_int('min_samples_split', 2, 32)\n",
    "    min_samples_leaf = trial.suggest_int('min_samples_leaf', 1, 32)\n",
    "\n",
    "    model = RandomForestRegressor(n_estimators=n_estimators,\n",
    "    max_depth=max_depth,\n",
    "    min_samples_split=min_samples_split,\n",
    "    min_samples_leaf=min_samples_leaf)\n",
    "\n",
    "    score = cross_val_score(model, X, y, n_jobs=-1, cv=5, scoring='neg_mean_squared_error').mean()\n",
    "    return score"
   ]
  },
  {
   "cell_type": "code",
   "execution_count": 34,
   "id": "7a834341",
   "metadata": {},
   "outputs": [
    {
     "name": "stderr",
     "output_type": "stream",
     "text": [
      "[I 2025-08-02 12:05:42,538] A new study created in memory with name: no-name-49bb1dd2-5eff-422c-9a84-c8013cf89cdc\n"
     ]
    }
   ],
   "source": [
    "study = optuna.create_study(direction='maximize', sampler=optuna.samplers.RandomSampler(seed=42)) # Default is random Search"
   ]
  },
  {
   "cell_type": "code",
   "execution_count": 35,
   "id": "8b7cf354",
   "metadata": {},
   "outputs": [
    {
     "name": "stderr",
     "output_type": "stream",
     "text": [
      "[I 2025-08-02 12:05:44,859] Trial 0 finished with value: -4.488999619416664 and parameters: {'n_estimators': 437, 'max_depth': 48, 'min_samples_split': 24, 'min_samples_leaf': 20}. Best is trial 0 with value: -4.488999619416664.\n",
      "[I 2025-08-02 12:05:46,208] Trial 1 finished with value: -5.180871459678092 and parameters: {'n_estimators': 240, 'max_depth': 16, 'min_samples_split': 3, 'min_samples_leaf': 28}. Best is trial 0 with value: -4.488999619416664.\n",
      "[I 2025-08-02 12:05:48,864] Trial 2 finished with value: -5.621930410356181 and parameters: {'n_estimators': 641, 'max_depth': 39, 'min_samples_split': 2, 'min_samples_leaf': 32}. Best is trial 0 with value: -4.488999619416664.\n",
      "[I 2025-08-02 12:05:53,655] Trial 3 finished with value: -3.0184689526378627 and parameters: {'n_estimators': 850, 'max_depth': 18, 'min_samples_split': 7, 'min_samples_leaf': 6}. Best is trial 3 with value: -3.0184689526378627.\n",
      "[I 2025-08-02 12:05:55,590] Trial 4 finished with value: -3.7733519045940653 and parameters: {'n_estimators': 374, 'max_depth': 31, 'min_samples_split': 15, 'min_samples_leaf': 10}. Best is trial 3 with value: -3.0184689526378627.\n",
      "[I 2025-08-02 12:05:58,891] Trial 5 finished with value: -3.8487111098384736 and parameters: {'n_estimators': 651, 'max_depth': 15, 'min_samples_split': 11, 'min_samples_leaf': 12}. Best is trial 3 with value: -3.0184689526378627.\n",
      "[I 2025-08-02 12:06:00,949] Trial 6 finished with value: -4.111840954784502 and parameters: {'n_estimators': 510, 'max_depth': 42, 'min_samples_split': 8, 'min_samples_leaf': 17}. Best is trial 3 with value: -3.0184689526378627.\n",
      "[I 2025-08-02 12:06:03,545] Trial 7 finished with value: -3.1956971460397265 and parameters: {'n_estimators': 633, 'max_depth': 11, 'min_samples_split': 20, 'min_samples_leaf': 6}. Best is trial 3 with value: -3.0184689526378627.\n",
      "[I 2025-08-02 12:06:04,212] Trial 8 finished with value: -5.0859662820821345 and parameters: {'n_estimators': 158, 'max_depth': 48, 'min_samples_split': 31, 'min_samples_leaf': 26}. Best is trial 3 with value: -3.0184689526378627.\n",
      "[I 2025-08-02 12:06:05,691] Trial 9 finished with value: -3.9143518315757673 and parameters: {'n_estimators': 374, 'max_depth': 14, 'min_samples_split': 23, 'min_samples_leaf': 15}. Best is trial 3 with value: -3.0184689526378627.\n",
      "[I 2025-08-02 12:06:06,592] Trial 10 finished with value: -5.392646534121309 and parameters: {'n_estimators': 209, 'max_depth': 30, 'min_samples_split': 3, 'min_samples_leaf': 30}. Best is trial 3 with value: -3.0184689526378627.\n",
      "[I 2025-08-02 12:06:07,934] Trial 11 finished with value: -4.0622097075952155 and parameters: {'n_estimators': 333, 'max_depth': 37, 'min_samples_split': 11, 'min_samples_leaf': 17}. Best is trial 3 with value: -3.0184689526378627.\n",
      "[I 2025-08-02 12:06:10,356] Trial 12 finished with value: -5.032898033452911 and parameters: {'n_estimators': 592, 'max_depth': 17, 'min_samples_split': 32, 'min_samples_leaf': 25}. Best is trial 3 with value: -3.0184689526378627.\n",
      "[I 2025-08-02 12:06:14,508] Trial 13 finished with value: -5.349410144812519 and parameters: {'n_estimators': 946, 'max_depth': 46, 'min_samples_split': 20, 'min_samples_leaf': 30}. Best is trial 3 with value: -3.0184689526378627.\n",
      "[I 2025-08-02 12:06:15,408] Trial 14 finished with value: -3.9029669844938604 and parameters: {'n_estimators': 179, 'max_depth': 18, 'min_samples_split': 3, 'min_samples_leaf': 11}. Best is trial 3 with value: -3.0184689526378627.\n",
      "[I 2025-08-02 12:06:17,422] Trial 15 finished with value: -3.8537661198433497 and parameters: {'n_estimators': 450, 'max_depth': 21, 'min_samples_split': 27, 'min_samples_leaf': 12}. Best is trial 3 with value: -3.0184689526378627.\n",
      "[I 2025-08-02 12:06:18,908] Trial 16 finished with value: -5.099816231329621 and parameters: {'n_estimators': 353, 'max_depth': 32, 'min_samples_split': 6, 'min_samples_leaf': 26}. Best is trial 3 with value: -3.0184689526378627.\n",
      "[I 2025-08-02 12:06:19,572] Trial 17 finished with value: -3.474560099552208 and parameters: {'n_estimators': 167, 'max_depth': 50, 'min_samples_split': 25, 'min_samples_leaf': 7}. Best is trial 3 with value: -3.0184689526378627.\n",
      "[I 2025-08-02 12:06:19,979] Trial 18 finished with value: -4.8369601648581675 and parameters: {'n_estimators': 104, 'max_depth': 43, 'min_samples_split': 23, 'min_samples_leaf': 24}. Best is trial 3 with value: -3.0184689526378627.\n",
      "[I 2025-08-02 12:06:23,276] Trial 19 finished with value: -2.701235190069145 and parameters: {'n_estimators': 794, 'max_depth': 13, 'min_samples_split': 13, 'min_samples_leaf': 4}. Best is trial 19 with value: -2.701235190069145.\n",
      "[I 2025-08-02 12:06:27,126] Trial 20 finished with value: -2.5337147554234454 and parameters: {'n_estimators': 877, 'max_depth': 35, 'min_samples_split': 12, 'min_samples_leaf': 3}. Best is trial 20 with value: -2.5337147554234454.\n",
      "[I 2025-08-02 12:06:28,642] Trial 21 finished with value: -4.648421676841163 and parameters: {'n_estimators': 380, 'max_depth': 23, 'min_samples_split': 24, 'min_samples_leaf': 21}. Best is trial 20 with value: -2.5337147554234454.\n",
      "[I 2025-08-02 12:06:32,179] Trial 22 finished with value: -4.832645125269951 and parameters: {'n_estimators': 899, 'max_depth': 29, 'min_samples_split': 5, 'min_samples_leaf': 23}. Best is trial 20 with value: -2.5337147554234454.\n",
      "[I 2025-08-02 12:06:35,579] Trial 23 finished with value: -3.977319426275513 and parameters: {'n_estimators': 785, 'max_depth': 33, 'min_samples_split': 25, 'min_samples_leaf': 16}. Best is trial 20 with value: -2.5337147554234454.\n",
      "[I 2025-08-02 12:06:38,028] Trial 24 finished with value: -2.403030891610652 and parameters: {'n_estimators': 570, 'max_depth': 27, 'min_samples_split': 2, 'min_samples_leaf': 4}. Best is trial 24 with value: -2.403030891610652.\n",
      "[I 2025-08-02 12:06:38,600] Trial 25 finished with value: -4.049393647880324 and parameters: {'n_estimators': 128, 'max_depth': 36, 'min_samples_split': 11, 'min_samples_leaf': 17}. Best is trial 24 with value: -2.403030891610652.\n",
      "[I 2025-08-02 12:06:42,173] Trial 26 finished with value: -4.990641439845907 and parameters: {'n_estimators': 917, 'max_depth': 20, 'min_samples_split': 14, 'min_samples_leaf': 25}. Best is trial 24 with value: -2.403030891610652.\n",
      "[I 2025-08-02 12:06:43,397] Trial 27 finished with value: -3.001679964759081 and parameters: {'n_estimators': 306, 'max_depth': 13, 'min_samples_split': 10, 'min_samples_leaf': 6}. Best is trial 24 with value: -2.403030891610652.\n",
      "[I 2025-08-02 12:06:47,028] Trial 28 finished with value: -5.182322564687878 and parameters: {'n_estimators': 937, 'max_depth': 43, 'min_samples_split': 21, 'min_samples_leaf': 28}. Best is trial 24 with value: -2.403030891610652.\n",
      "[I 2025-08-02 12:06:50,343] Trial 29 finished with value: -4.19766447180614 and parameters: {'n_estimators': 824, 'max_depth': 17, 'min_samples_split': 29, 'min_samples_leaf': 18}. Best is trial 24 with value: -2.403030891610652.\n",
      "[I 2025-08-02 12:06:53,829] Trial 30 finished with value: -2.568056612826067 and parameters: {'n_estimators': 827, 'max_depth': 46, 'min_samples_split': 11, 'min_samples_leaf': 4}. Best is trial 24 with value: -2.403030891610652.\n",
      "[I 2025-08-02 12:06:55,105] Trial 31 finished with value: -5.217158120583843 and parameters: {'n_estimators': 305, 'max_depth': 27, 'min_samples_split': 27, 'min_samples_leaf': 28}. Best is trial 24 with value: -2.403030891610652.\n",
      "[I 2025-08-02 12:06:55,561] Trial 32 finished with value: -3.5071059383588525 and parameters: {'n_estimators': 106, 'max_depth': 30, 'min_samples_split': 14, 'min_samples_leaf': 8}. Best is trial 24 with value: -2.403030891610652.\n",
      "[I 2025-08-02 12:06:56,465] Trial 33 finished with value: -3.962745981736018 and parameters: {'n_estimators': 207, 'max_depth': 23, 'min_samples_split': 31, 'min_samples_leaf': 11}. Best is trial 24 with value: -2.403030891610652.\n",
      "[I 2025-08-02 12:06:58,622] Trial 34 finished with value: -5.5640689605239215 and parameters: {'n_estimators': 567, 'max_depth': 38, 'min_samples_split': 13, 'min_samples_leaf': 32}. Best is trial 24 with value: -2.403030891610652.\n",
      "[I 2025-08-02 12:07:02,497] Trial 35 finished with value: -3.773742061454802 and parameters: {'n_estimators': 967, 'max_depth': 20, 'min_samples_split': 17, 'min_samples_leaf': 10}. Best is trial 24 with value: -2.403030891610652.\n",
      "[I 2025-08-02 12:07:03,951] Trial 36 finished with value: -4.041975629036594 and parameters: {'n_estimators': 356, 'max_depth': 11, 'min_samples_split': 20, 'min_samples_leaf': 17}. Best is trial 24 with value: -2.403030891610652.\n",
      "[I 2025-08-02 12:07:04,515] Trial 37 finished with value: -3.860037219704072 and parameters: {'n_estimators': 146, 'max_depth': 21, 'min_samples_split': 30, 'min_samples_leaf': 8}. Best is trial 24 with value: -2.403030891610652.\n",
      "[I 2025-08-02 12:07:05,465] Trial 38 finished with value: -3.862098701995758 and parameters: {'n_estimators': 230, 'max_depth': 30, 'min_samples_split': 32, 'min_samples_leaf': 8}. Best is trial 24 with value: -2.403030891610652.\n",
      "[I 2025-08-02 12:07:08,236] Trial 39 finished with value: -4.886262262246499 and parameters: {'n_estimators': 705, 'max_depth': 41, 'min_samples_split': 9, 'min_samples_leaf': 24}. Best is trial 24 with value: -2.403030891610652.\n",
      "[I 2025-08-02 12:07:09,980] Trial 40 finished with value: -4.233141816940831 and parameters: {'n_estimators': 431, 'max_depth': 35, 'min_samples_split': 21, 'min_samples_leaf': 18}. Best is trial 24 with value: -2.403030891610652.\n",
      "[I 2025-08-02 12:07:10,803] Trial 41 finished with value: -3.009010682109314 and parameters: {'n_estimators': 181, 'max_depth': 44, 'min_samples_split': 11, 'min_samples_leaf': 6}. Best is trial 24 with value: -2.403030891610652.\n",
      "[I 2025-08-02 12:07:11,311] Trial 42 finished with value: -3.164388831760111 and parameters: {'n_estimators': 136, 'max_depth': 34, 'min_samples_split': 23, 'min_samples_leaf': 1}. Best is trial 24 with value: -2.403030891610652.\n",
      "[I 2025-08-02 12:07:13,611] Trial 43 finished with value: -3.2558451459760414 and parameters: {'n_estimators': 561, 'max_depth': 19, 'min_samples_split': 22, 'min_samples_leaf': 6}. Best is trial 24 with value: -2.403030891610652.\n",
      "[I 2025-08-02 12:07:16,553] Trial 44 finished with value: -3.5246721308465596 and parameters: {'n_estimators': 722, 'max_depth': 25, 'min_samples_split': 31, 'min_samples_leaf': 5}. Best is trial 24 with value: -2.403030891610652.\n",
      "[I 2025-08-02 12:07:18,213] Trial 45 finished with value: -5.283424107587495 and parameters: {'n_estimators': 407, 'max_depth': 14, 'min_samples_split': 30, 'min_samples_leaf': 29}. Best is trial 24 with value: -2.403030891610652.\n",
      "[I 2025-08-02 12:07:19,624] Trial 46 finished with value: -4.178672937237213 and parameters: {'n_estimators': 332, 'max_depth': 37, 'min_samples_split': 27, 'min_samples_leaf': 18}. Best is trial 24 with value: -2.403030891610652.\n",
      "[I 2025-08-02 12:07:21,933] Trial 47 finished with value: -5.206401021352671 and parameters: {'n_estimators': 577, 'max_depth': 19, 'min_samples_split': 4, 'min_samples_leaf': 29}. Best is trial 24 with value: -2.403030891610652.\n",
      "[I 2025-08-02 12:07:25,608] Trial 48 finished with value: -3.834273920390718 and parameters: {'n_estimators': 911, 'max_depth': 35, 'min_samples_split': 12, 'min_samples_leaf': 12}. Best is trial 24 with value: -2.403030891610652.\n",
      "[I 2025-08-02 12:07:28,556] Trial 49 finished with value: -5.047423116571111 and parameters: {'n_estimators': 754, 'max_depth': 46, 'min_samples_split': 29, 'min_samples_leaf': 25}. Best is trial 24 with value: -2.403030891610652.\n",
      "[I 2025-08-02 12:07:31,500] Trial 50 finished with value: -5.285176981546217 and parameters: {'n_estimators': 678, 'max_depth': 13, 'min_samples_split': 7, 'min_samples_leaf': 29}. Best is trial 24 with value: -2.403030891610652.\n",
      "[I 2025-08-02 12:07:34,960] Trial 51 finished with value: -4.773453575909682 and parameters: {'n_estimators': 646, 'max_depth': 10, 'min_samples_split': 5, 'min_samples_leaf': 22}. Best is trial 24 with value: -2.403030891610652.\n",
      "[I 2025-08-02 12:07:35,437] Trial 52 finished with value: -4.8161853258700145 and parameters: {'n_estimators': 104, 'max_depth': 16, 'min_samples_split': 19, 'min_samples_leaf': 23}. Best is trial 24 with value: -2.403030891610652.\n",
      "[I 2025-08-02 12:07:39,145] Trial 53 finished with value: -3.6811212489646756 and parameters: {'n_estimators': 687, 'max_depth': 19, 'min_samples_split': 24, 'min_samples_leaf': 8}. Best is trial 24 with value: -2.403030891610652.\n",
      "[I 2025-08-02 12:07:41,279] Trial 54 finished with value: -5.218727267800933 and parameters: {'n_estimators': 393, 'max_depth': 40, 'min_samples_split': 22, 'min_samples_leaf': 28}. Best is trial 24 with value: -2.403030891610652.\n",
      "[I 2025-08-02 12:07:44,945] Trial 55 finished with value: -3.885629843171137 and parameters: {'n_estimators': 692, 'max_depth': 33, 'min_samples_split': 4, 'min_samples_leaf': 12}. Best is trial 24 with value: -2.403030891610652.\n",
      "[I 2025-08-02 12:07:46,480] Trial 56 finished with value: -3.928816466666567 and parameters: {'n_estimators': 338, 'max_depth': 20, 'min_samples_split': 32, 'min_samples_leaf': 13}. Best is trial 24 with value: -2.403030891610652.\n",
      "[I 2025-08-02 12:07:51,084] Trial 57 finished with value: -4.058299164805247 and parameters: {'n_estimators': 903, 'max_depth': 35, 'min_samples_split': 26, 'min_samples_leaf': 17}. Best is trial 24 with value: -2.403030891610652.\n",
      "[I 2025-08-02 12:07:53,959] Trial 58 finished with value: -4.861446389992734 and parameters: {'n_estimators': 619, 'max_depth': 30, 'min_samples_split': 8, 'min_samples_leaf': 24}. Best is trial 24 with value: -2.403030891610652.\n",
      "[I 2025-08-02 12:07:55,428] Trial 59 finished with value: -3.2854774170675385 and parameters: {'n_estimators': 352, 'max_depth': 10, 'min_samples_split': 22, 'min_samples_leaf': 6}. Best is trial 24 with value: -2.403030891610652.\n",
      "[I 2025-08-02 12:07:59,155] Trial 60 finished with value: -3.8392202270852493 and parameters: {'n_estimators': 947, 'max_depth': 49, 'min_samples_split': 30, 'min_samples_leaf': 12}. Best is trial 24 with value: -2.403030891610652.\n",
      "[I 2025-08-02 12:07:59,567] Trial 61 finished with value: -5.435619209256286 and parameters: {'n_estimators': 113, 'max_depth': 48, 'min_samples_split': 15, 'min_samples_leaf': 31}. Best is trial 24 with value: -2.403030891610652.\n",
      "[I 2025-08-02 12:08:03,487] Trial 62 finished with value: -3.8457136255926927 and parameters: {'n_estimators': 968, 'max_depth': 44, 'min_samples_split': 11, 'min_samples_leaf': 13}. Best is trial 24 with value: -2.403030891610652.\n",
      "[I 2025-08-02 12:08:08,909] Trial 63 finished with value: -4.171307896896493 and parameters: {'n_estimators': 866, 'max_depth': 22, 'min_samples_split': 7, 'min_samples_leaf': 18}. Best is trial 24 with value: -2.403030891610652.\n",
      "[I 2025-08-02 12:08:15,547] Trial 64 finished with value: -2.9723405345373077 and parameters: {'n_estimators': 943, 'max_depth': 38, 'min_samples_split': 19, 'min_samples_leaf': 4}. Best is trial 24 with value: -2.403030891610652.\n",
      "[I 2025-08-02 12:08:19,460] Trial 65 finished with value: -4.033534017188079 and parameters: {'n_estimators': 654, 'max_depth': 50, 'min_samples_split': 6, 'min_samples_leaf': 17}. Best is trial 24 with value: -2.403030891610652.\n",
      "[I 2025-08-02 12:08:25,072] Trial 66 finished with value: -4.855446662771112 and parameters: {'n_estimators': 890, 'max_depth': 40, 'min_samples_split': 23, 'min_samples_leaf': 23}. Best is trial 24 with value: -2.403030891610652.\n",
      "[I 2025-08-02 12:08:27,508] Trial 67 finished with value: -5.089593425278314 and parameters: {'n_estimators': 423, 'max_depth': 22, 'min_samples_split': 27, 'min_samples_leaf': 26}. Best is trial 24 with value: -2.403030891610652.\n",
      "[I 2025-08-02 12:08:32,948] Trial 68 finished with value: -4.065209933296222 and parameters: {'n_estimators': 881, 'max_depth': 47, 'min_samples_split': 17, 'min_samples_leaf': 17}. Best is trial 24 with value: -2.403030891610652.\n",
      "[I 2025-08-02 12:08:37,482] Trial 69 finished with value: -5.063853754138668 and parameters: {'n_estimators': 819, 'max_depth': 36, 'min_samples_split': 23, 'min_samples_leaf': 26}. Best is trial 24 with value: -2.403030891610652.\n",
      "[I 2025-08-02 12:08:43,201] Trial 70 finished with value: -2.663832857010497 and parameters: {'n_estimators': 901, 'max_depth': 23, 'min_samples_split': 13, 'min_samples_leaf': 4}. Best is trial 24 with value: -2.403030891610652.\n",
      "[I 2025-08-02 12:08:46,699] Trial 71 finished with value: -4.171417010015049 and parameters: {'n_estimators': 621, 'max_depth': 11, 'min_samples_split': 16, 'min_samples_leaf': 18}. Best is trial 24 with value: -2.403030891610652.\n",
      "[I 2025-08-02 12:08:49,096] Trial 72 finished with value: -1.878318359900161 and parameters: {'n_estimators': 358, 'max_depth': 34, 'min_samples_split': 2, 'min_samples_leaf': 2}. Best is trial 72 with value: -1.878318359900161.\n",
      "[I 2025-08-02 12:08:53,440] Trial 73 finished with value: -4.077830805174562 and parameters: {'n_estimators': 841, 'max_depth': 24, 'min_samples_split': 5, 'min_samples_leaf': 17}. Best is trial 72 with value: -1.878318359900161.\n",
      "[I 2025-08-02 12:08:56,708] Trial 74 finished with value: -3.021837666305186 and parameters: {'n_estimators': 793, 'max_depth': 18, 'min_samples_split': 21, 'min_samples_leaf': 3}. Best is trial 72 with value: -1.878318359900161.\n",
      "[I 2025-08-02 12:08:57,271] Trial 75 finished with value: -4.687485258127724 and parameters: {'n_estimators': 146, 'max_depth': 31, 'min_samples_split': 18, 'min_samples_leaf': 21}. Best is trial 72 with value: -1.878318359900161.\n",
      "[I 2025-08-02 12:09:00,295] Trial 76 finished with value: -3.840830763712924 and parameters: {'n_estimators': 754, 'max_depth': 50, 'min_samples_split': 18, 'min_samples_leaf': 11}. Best is trial 72 with value: -1.878318359900161.\n",
      "[I 2025-08-02 12:09:03,689] Trial 77 finished with value: -2.717550840338308 and parameters: {'n_estimators': 816, 'max_depth': 21, 'min_samples_split': 15, 'min_samples_leaf': 3}. Best is trial 72 with value: -1.878318359900161.\n",
      "[I 2025-08-02 12:09:04,129] Trial 78 finished with value: -4.8714406999222515 and parameters: {'n_estimators': 122, 'max_depth': 49, 'min_samples_split': 27, 'min_samples_leaf': 23}. Best is trial 72 with value: -1.878318359900161.\n",
      "[I 2025-08-02 12:09:06,010] Trial 79 finished with value: -3.7342282001490448 and parameters: {'n_estimators': 468, 'max_depth': 17, 'min_samples_split': 6, 'min_samples_leaf': 9}. Best is trial 72 with value: -1.878318359900161.\n",
      "[I 2025-08-02 12:09:08,445] Trial 80 finished with value: -3.7259289074631665 and parameters: {'n_estimators': 594, 'max_depth': 39, 'min_samples_split': 22, 'min_samples_leaf': 9}. Best is trial 72 with value: -1.878318359900161.\n",
      "[I 2025-08-02 12:09:12,177] Trial 81 finished with value: -4.503553443110393 and parameters: {'n_estimators': 960, 'max_depth': 40, 'min_samples_split': 19, 'min_samples_leaf': 20}. Best is trial 72 with value: -1.878318359900161.\n",
      "[I 2025-08-02 12:09:14,353] Trial 82 finished with value: -4.978403487375487 and parameters: {'n_estimators': 478, 'max_depth': 20, 'min_samples_split': 13, 'min_samples_leaf': 25}. Best is trial 72 with value: -1.878318359900161.\n",
      "[I 2025-08-02 12:09:14,924] Trial 83 finished with value: -1.790798681022557 and parameters: {'n_estimators': 112, 'max_depth': 14, 'min_samples_split': 3, 'min_samples_leaf': 2}. Best is trial 83 with value: -1.790798681022557.\n",
      "[I 2025-08-02 12:09:18,945] Trial 84 finished with value: -2.8027399872301073 and parameters: {'n_estimators': 870, 'max_depth': 38, 'min_samples_split': 16, 'min_samples_leaf': 4}. Best is trial 83 with value: -1.790798681022557.\n",
      "[I 2025-08-02 12:09:21,222] Trial 85 finished with value: -3.8847339818750464 and parameters: {'n_estimators': 542, 'max_depth': 29, 'min_samples_split': 7, 'min_samples_leaf': 14}. Best is trial 83 with value: -1.790798681022557.\n",
      "[I 2025-08-02 12:09:23,062] Trial 86 finished with value: -2.992663429131446 and parameters: {'n_estimators': 459, 'max_depth': 35, 'min_samples_split': 21, 'min_samples_leaf': 2}. Best is trial 83 with value: -1.790798681022557.\n",
      "[I 2025-08-02 12:09:24,746] Trial 87 finished with value: -5.10959203671885 and parameters: {'n_estimators': 437, 'max_depth': 35, 'min_samples_split': 17, 'min_samples_leaf': 28}. Best is trial 83 with value: -1.790798681022557.\n",
      "[I 2025-08-02 12:09:27,332] Trial 88 finished with value: -4.60166854502116 and parameters: {'n_estimators': 693, 'max_depth': 16, 'min_samples_split': 4, 'min_samples_leaf': 21}. Best is trial 83 with value: -1.790798681022557.\n",
      "[I 2025-08-02 12:09:27,899] Trial 89 finished with value: -4.383612901397948 and parameters: {'n_estimators': 123, 'max_depth': 34, 'min_samples_split': 31, 'min_samples_leaf': 19}. Best is trial 83 with value: -1.790798681022557.\n",
      "[I 2025-08-02 12:09:29,692] Trial 90 finished with value: -4.176891117204573 and parameters: {'n_estimators': 449, 'max_depth': 36, 'min_samples_split': 16, 'min_samples_leaf': 18}. Best is trial 83 with value: -1.790798681022557.\n",
      "[I 2025-08-02 12:09:33,256] Trial 91 finished with value: -5.225699688444661 and parameters: {'n_estimators': 948, 'max_depth': 25, 'min_samples_split': 31, 'min_samples_leaf': 29}. Best is trial 83 with value: -1.790798681022557.\n",
      "[I 2025-08-02 12:09:34,502] Trial 92 finished with value: -1.9417013975540982 and parameters: {'n_estimators': 276, 'max_depth': 12, 'min_samples_split': 5, 'min_samples_leaf': 1}. Best is trial 83 with value: -1.790798681022557.\n",
      "[I 2025-08-02 12:09:35,487] Trial 93 finished with value: -3.8284092392477747 and parameters: {'n_estimators': 185, 'max_depth': 38, 'min_samples_split': 4, 'min_samples_leaf': 11}. Best is trial 83 with value: -1.790798681022557.\n",
      "[I 2025-08-02 12:09:40,975] Trial 94 finished with value: -3.8370453513998237 and parameters: {'n_estimators': 861, 'max_depth': 10, 'min_samples_split': 27, 'min_samples_leaf': 10}. Best is trial 83 with value: -1.790798681022557.\n",
      "[I 2025-08-02 12:09:42,186] Trial 95 finished with value: -5.238111855048281 and parameters: {'n_estimators': 206, 'max_depth': 38, 'min_samples_split': 21, 'min_samples_leaf': 29}. Best is trial 83 with value: -1.790798681022557.\n",
      "[I 2025-08-02 12:09:46,926] Trial 96 finished with value: -3.024816681407542 and parameters: {'n_estimators': 762, 'max_depth': 42, 'min_samples_split': 10, 'min_samples_leaf': 6}. Best is trial 83 with value: -1.790798681022557.\n",
      "[I 2025-08-02 12:09:51,824] Trial 97 finished with value: -3.9182877365793596 and parameters: {'n_estimators': 776, 'max_depth': 43, 'min_samples_split': 32, 'min_samples_leaf': 14}. Best is trial 83 with value: -1.790798681022557.\n",
      "[I 2025-08-02 12:09:54,380] Trial 98 finished with value: -5.290755358027009 and parameters: {'n_estimators': 435, 'max_depth': 41, 'min_samples_split': 12, 'min_samples_leaf': 30}. Best is trial 83 with value: -1.790798681022557.\n",
      "[I 2025-08-02 12:09:59,552] Trial 99 finished with value: -5.032142543932899 and parameters: {'n_estimators': 873, 'max_depth': 27, 'min_samples_split': 25, 'min_samples_leaf': 25}. Best is trial 83 with value: -1.790798681022557.\n"
     ]
    }
   ],
   "source": [
    "study.optimize(objective, n_trials=100)"
   ]
  },
  {
   "cell_type": "code",
   "execution_count": 36,
   "id": "3cc3bdfb",
   "metadata": {},
   "outputs": [
    {
     "name": "stdout",
     "output_type": "stream",
     "text": [
      "Best Hyperparameters: {'n_estimators': 112, 'max_depth': 14, 'min_samples_split': 3, 'min_samples_leaf': 2}\n"
     ]
    }
   ],
   "source": [
    "best_params = study.best_params\n",
    "print(f\"Best Hyperparameters: {best_params}\")"
   ]
  },
  {
   "cell_type": "code",
   "execution_count": 37,
   "id": "eddc61c7",
   "metadata": {},
   "outputs": [
    {
     "name": "stdout",
     "output_type": "stream",
     "text": [
      "Best Accuracy: -1.791\n"
     ]
    }
   ],
   "source": [
    "best_score = study.best_value\n",
    "print(f\"Best Accuracy: {best_score:.3f}\")"
   ]
  },
  {
   "cell_type": "code",
   "execution_count": 38,
   "id": "7918befd",
   "metadata": {},
   "outputs": [
    {
     "data": {
      "application/vnd.plotly.v1+json": {
       "config": {
        "plotlyServerURL": "https://plot.ly"
       },
       "data": [
        {
         "mode": "markers",
         "name": "Objective Value",
         "type": "scatter",
         "x": [
          0,
          1,
          2,
          3,
          4,
          5,
          6,
          7,
          8,
          9,
          10,
          11,
          12,
          13,
          14,
          15,
          16,
          17,
          18,
          19,
          20,
          21,
          22,
          23,
          24,
          25,
          26,
          27,
          28,
          29,
          30,
          31,
          32,
          33,
          34,
          35,
          36,
          37,
          38,
          39,
          40,
          41,
          42,
          43,
          44,
          45,
          46,
          47,
          48,
          49,
          50,
          51,
          52,
          53,
          54,
          55,
          56,
          57,
          58,
          59,
          60,
          61,
          62,
          63,
          64,
          65,
          66,
          67,
          68,
          69,
          70,
          71,
          72,
          73,
          74,
          75,
          76,
          77,
          78,
          79,
          80,
          81,
          82,
          83,
          84,
          85,
          86,
          87,
          88,
          89,
          90,
          91,
          92,
          93,
          94,
          95,
          96,
          97,
          98,
          99
         ],
         "y": [
          -4.488999619416664,
          -5.180871459678092,
          -5.621930410356181,
          -3.0184689526378627,
          -3.7733519045940653,
          -3.8487111098384736,
          -4.111840954784502,
          -3.1956971460397265,
          -5.0859662820821345,
          -3.9143518315757673,
          -5.392646534121309,
          -4.0622097075952155,
          -5.032898033452911,
          -5.349410144812519,
          -3.9029669844938604,
          -3.8537661198433497,
          -5.099816231329621,
          -3.474560099552208,
          -4.8369601648581675,
          -2.701235190069145,
          -2.5337147554234454,
          -4.648421676841163,
          -4.832645125269951,
          -3.977319426275513,
          -2.403030891610652,
          -4.049393647880324,
          -4.990641439845907,
          -3.001679964759081,
          -5.182322564687878,
          -4.19766447180614,
          -2.568056612826067,
          -5.217158120583843,
          -3.5071059383588525,
          -3.962745981736018,
          -5.5640689605239215,
          -3.773742061454802,
          -4.041975629036594,
          -3.860037219704072,
          -3.862098701995758,
          -4.886262262246499,
          -4.233141816940831,
          -3.009010682109314,
          -3.164388831760111,
          -3.2558451459760414,
          -3.5246721308465596,
          -5.283424107587495,
          -4.178672937237213,
          -5.206401021352671,
          -3.834273920390718,
          -5.047423116571111,
          -5.285176981546217,
          -4.773453575909682,
          -4.8161853258700145,
          -3.6811212489646756,
          -5.218727267800933,
          -3.885629843171137,
          -3.928816466666567,
          -4.058299164805247,
          -4.861446389992734,
          -3.2854774170675385,
          -3.8392202270852493,
          -5.435619209256286,
          -3.8457136255926927,
          -4.171307896896493,
          -2.9723405345373077,
          -4.033534017188079,
          -4.855446662771112,
          -5.089593425278314,
          -4.065209933296222,
          -5.063853754138668,
          -2.663832857010497,
          -4.171417010015049,
          -1.878318359900161,
          -4.077830805174562,
          -3.021837666305186,
          -4.687485258127724,
          -3.840830763712924,
          -2.717550840338308,
          -4.8714406999222515,
          -3.7342282001490448,
          -3.7259289074631665,
          -4.503553443110393,
          -4.978403487375487,
          -1.790798681022557,
          -2.8027399872301073,
          -3.8847339818750464,
          -2.992663429131446,
          -5.10959203671885,
          -4.60166854502116,
          -4.383612901397948,
          -4.176891117204573,
          -5.225699688444661,
          -1.9417013975540982,
          -3.8284092392477747,
          -3.8370453513998237,
          -5.238111855048281,
          -3.024816681407542,
          -3.9182877365793596,
          -5.290755358027009,
          -5.032142543932899
         ]
        },
        {
         "mode": "lines",
         "name": "Best Value",
         "type": "scatter",
         "x": [
          0,
          1,
          2,
          3,
          4,
          5,
          6,
          7,
          8,
          9,
          10,
          11,
          12,
          13,
          14,
          15,
          16,
          17,
          18,
          19,
          20,
          21,
          22,
          23,
          24,
          25,
          26,
          27,
          28,
          29,
          30,
          31,
          32,
          33,
          34,
          35,
          36,
          37,
          38,
          39,
          40,
          41,
          42,
          43,
          44,
          45,
          46,
          47,
          48,
          49,
          50,
          51,
          52,
          53,
          54,
          55,
          56,
          57,
          58,
          59,
          60,
          61,
          62,
          63,
          64,
          65,
          66,
          67,
          68,
          69,
          70,
          71,
          72,
          73,
          74,
          75,
          76,
          77,
          78,
          79,
          80,
          81,
          82,
          83,
          84,
          85,
          86,
          87,
          88,
          89,
          90,
          91,
          92,
          93,
          94,
          95,
          96,
          97,
          98,
          99
         ],
         "y": [
          -4.488999619416664,
          -4.488999619416664,
          -4.488999619416664,
          -3.0184689526378627,
          -3.0184689526378627,
          -3.0184689526378627,
          -3.0184689526378627,
          -3.0184689526378627,
          -3.0184689526378627,
          -3.0184689526378627,
          -3.0184689526378627,
          -3.0184689526378627,
          -3.0184689526378627,
          -3.0184689526378627,
          -3.0184689526378627,
          -3.0184689526378627,
          -3.0184689526378627,
          -3.0184689526378627,
          -3.0184689526378627,
          -2.701235190069145,
          -2.5337147554234454,
          -2.5337147554234454,
          -2.5337147554234454,
          -2.5337147554234454,
          -2.403030891610652,
          -2.403030891610652,
          -2.403030891610652,
          -2.403030891610652,
          -2.403030891610652,
          -2.403030891610652,
          -2.403030891610652,
          -2.403030891610652,
          -2.403030891610652,
          -2.403030891610652,
          -2.403030891610652,
          -2.403030891610652,
          -2.403030891610652,
          -2.403030891610652,
          -2.403030891610652,
          -2.403030891610652,
          -2.403030891610652,
          -2.403030891610652,
          -2.403030891610652,
          -2.403030891610652,
          -2.403030891610652,
          -2.403030891610652,
          -2.403030891610652,
          -2.403030891610652,
          -2.403030891610652,
          -2.403030891610652,
          -2.403030891610652,
          -2.403030891610652,
          -2.403030891610652,
          -2.403030891610652,
          -2.403030891610652,
          -2.403030891610652,
          -2.403030891610652,
          -2.403030891610652,
          -2.403030891610652,
          -2.403030891610652,
          -2.403030891610652,
          -2.403030891610652,
          -2.403030891610652,
          -2.403030891610652,
          -2.403030891610652,
          -2.403030891610652,
          -2.403030891610652,
          -2.403030891610652,
          -2.403030891610652,
          -2.403030891610652,
          -2.403030891610652,
          -2.403030891610652,
          -1.878318359900161,
          -1.878318359900161,
          -1.878318359900161,
          -1.878318359900161,
          -1.878318359900161,
          -1.878318359900161,
          -1.878318359900161,
          -1.878318359900161,
          -1.878318359900161,
          -1.878318359900161,
          -1.878318359900161,
          -1.790798681022557,
          -1.790798681022557,
          -1.790798681022557,
          -1.790798681022557,
          -1.790798681022557,
          -1.790798681022557,
          -1.790798681022557,
          -1.790798681022557,
          -1.790798681022557,
          -1.790798681022557,
          -1.790798681022557,
          -1.790798681022557,
          -1.790798681022557,
          -1.790798681022557,
          -1.790798681022557,
          -1.790798681022557,
          -1.790798681022557
         ]
        },
        {
         "marker": {
          "color": "#cccccc"
         },
         "mode": "markers",
         "name": "Infeasible Trial",
         "showlegend": false,
         "type": "scatter",
         "x": [],
         "y": []
        }
       ],
       "layout": {
        "template": {
         "data": {
          "bar": [
           {
            "error_x": {
             "color": "#2a3f5f"
            },
            "error_y": {
             "color": "#2a3f5f"
            },
            "marker": {
             "line": {
              "color": "#E5ECF6",
              "width": 0.5
             },
             "pattern": {
              "fillmode": "overlay",
              "size": 10,
              "solidity": 0.2
             }
            },
            "type": "bar"
           }
          ],
          "barpolar": [
           {
            "marker": {
             "line": {
              "color": "#E5ECF6",
              "width": 0.5
             },
             "pattern": {
              "fillmode": "overlay",
              "size": 10,
              "solidity": 0.2
             }
            },
            "type": "barpolar"
           }
          ],
          "carpet": [
           {
            "aaxis": {
             "endlinecolor": "#2a3f5f",
             "gridcolor": "white",
             "linecolor": "white",
             "minorgridcolor": "white",
             "startlinecolor": "#2a3f5f"
            },
            "baxis": {
             "endlinecolor": "#2a3f5f",
             "gridcolor": "white",
             "linecolor": "white",
             "minorgridcolor": "white",
             "startlinecolor": "#2a3f5f"
            },
            "type": "carpet"
           }
          ],
          "choropleth": [
           {
            "colorbar": {
             "outlinewidth": 0,
             "ticks": ""
            },
            "type": "choropleth"
           }
          ],
          "contour": [
           {
            "colorbar": {
             "outlinewidth": 0,
             "ticks": ""
            },
            "colorscale": [
             [
              0,
              "#0d0887"
             ],
             [
              0.1111111111111111,
              "#46039f"
             ],
             [
              0.2222222222222222,
              "#7201a8"
             ],
             [
              0.3333333333333333,
              "#9c179e"
             ],
             [
              0.4444444444444444,
              "#bd3786"
             ],
             [
              0.5555555555555556,
              "#d8576b"
             ],
             [
              0.6666666666666666,
              "#ed7953"
             ],
             [
              0.7777777777777778,
              "#fb9f3a"
             ],
             [
              0.8888888888888888,
              "#fdca26"
             ],
             [
              1,
              "#f0f921"
             ]
            ],
            "type": "contour"
           }
          ],
          "contourcarpet": [
           {
            "colorbar": {
             "outlinewidth": 0,
             "ticks": ""
            },
            "type": "contourcarpet"
           }
          ],
          "heatmap": [
           {
            "colorbar": {
             "outlinewidth": 0,
             "ticks": ""
            },
            "colorscale": [
             [
              0,
              "#0d0887"
             ],
             [
              0.1111111111111111,
              "#46039f"
             ],
             [
              0.2222222222222222,
              "#7201a8"
             ],
             [
              0.3333333333333333,
              "#9c179e"
             ],
             [
              0.4444444444444444,
              "#bd3786"
             ],
             [
              0.5555555555555556,
              "#d8576b"
             ],
             [
              0.6666666666666666,
              "#ed7953"
             ],
             [
              0.7777777777777778,
              "#fb9f3a"
             ],
             [
              0.8888888888888888,
              "#fdca26"
             ],
             [
              1,
              "#f0f921"
             ]
            ],
            "type": "heatmap"
           }
          ],
          "histogram": [
           {
            "marker": {
             "pattern": {
              "fillmode": "overlay",
              "size": 10,
              "solidity": 0.2
             }
            },
            "type": "histogram"
           }
          ],
          "histogram2d": [
           {
            "colorbar": {
             "outlinewidth": 0,
             "ticks": ""
            },
            "colorscale": [
             [
              0,
              "#0d0887"
             ],
             [
              0.1111111111111111,
              "#46039f"
             ],
             [
              0.2222222222222222,
              "#7201a8"
             ],
             [
              0.3333333333333333,
              "#9c179e"
             ],
             [
              0.4444444444444444,
              "#bd3786"
             ],
             [
              0.5555555555555556,
              "#d8576b"
             ],
             [
              0.6666666666666666,
              "#ed7953"
             ],
             [
              0.7777777777777778,
              "#fb9f3a"
             ],
             [
              0.8888888888888888,
              "#fdca26"
             ],
             [
              1,
              "#f0f921"
             ]
            ],
            "type": "histogram2d"
           }
          ],
          "histogram2dcontour": [
           {
            "colorbar": {
             "outlinewidth": 0,
             "ticks": ""
            },
            "colorscale": [
             [
              0,
              "#0d0887"
             ],
             [
              0.1111111111111111,
              "#46039f"
             ],
             [
              0.2222222222222222,
              "#7201a8"
             ],
             [
              0.3333333333333333,
              "#9c179e"
             ],
             [
              0.4444444444444444,
              "#bd3786"
             ],
             [
              0.5555555555555556,
              "#d8576b"
             ],
             [
              0.6666666666666666,
              "#ed7953"
             ],
             [
              0.7777777777777778,
              "#fb9f3a"
             ],
             [
              0.8888888888888888,
              "#fdca26"
             ],
             [
              1,
              "#f0f921"
             ]
            ],
            "type": "histogram2dcontour"
           }
          ],
          "mesh3d": [
           {
            "colorbar": {
             "outlinewidth": 0,
             "ticks": ""
            },
            "type": "mesh3d"
           }
          ],
          "parcoords": [
           {
            "line": {
             "colorbar": {
              "outlinewidth": 0,
              "ticks": ""
             }
            },
            "type": "parcoords"
           }
          ],
          "pie": [
           {
            "automargin": true,
            "type": "pie"
           }
          ],
          "scatter": [
           {
            "fillpattern": {
             "fillmode": "overlay",
             "size": 10,
             "solidity": 0.2
            },
            "type": "scatter"
           }
          ],
          "scatter3d": [
           {
            "line": {
             "colorbar": {
              "outlinewidth": 0,
              "ticks": ""
             }
            },
            "marker": {
             "colorbar": {
              "outlinewidth": 0,
              "ticks": ""
             }
            },
            "type": "scatter3d"
           }
          ],
          "scattercarpet": [
           {
            "marker": {
             "colorbar": {
              "outlinewidth": 0,
              "ticks": ""
             }
            },
            "type": "scattercarpet"
           }
          ],
          "scattergeo": [
           {
            "marker": {
             "colorbar": {
              "outlinewidth": 0,
              "ticks": ""
             }
            },
            "type": "scattergeo"
           }
          ],
          "scattergl": [
           {
            "marker": {
             "colorbar": {
              "outlinewidth": 0,
              "ticks": ""
             }
            },
            "type": "scattergl"
           }
          ],
          "scattermap": [
           {
            "marker": {
             "colorbar": {
              "outlinewidth": 0,
              "ticks": ""
             }
            },
            "type": "scattermap"
           }
          ],
          "scattermapbox": [
           {
            "marker": {
             "colorbar": {
              "outlinewidth": 0,
              "ticks": ""
             }
            },
            "type": "scattermapbox"
           }
          ],
          "scatterpolar": [
           {
            "marker": {
             "colorbar": {
              "outlinewidth": 0,
              "ticks": ""
             }
            },
            "type": "scatterpolar"
           }
          ],
          "scatterpolargl": [
           {
            "marker": {
             "colorbar": {
              "outlinewidth": 0,
              "ticks": ""
             }
            },
            "type": "scatterpolargl"
           }
          ],
          "scatterternary": [
           {
            "marker": {
             "colorbar": {
              "outlinewidth": 0,
              "ticks": ""
             }
            },
            "type": "scatterternary"
           }
          ],
          "surface": [
           {
            "colorbar": {
             "outlinewidth": 0,
             "ticks": ""
            },
            "colorscale": [
             [
              0,
              "#0d0887"
             ],
             [
              0.1111111111111111,
              "#46039f"
             ],
             [
              0.2222222222222222,
              "#7201a8"
             ],
             [
              0.3333333333333333,
              "#9c179e"
             ],
             [
              0.4444444444444444,
              "#bd3786"
             ],
             [
              0.5555555555555556,
              "#d8576b"
             ],
             [
              0.6666666666666666,
              "#ed7953"
             ],
             [
              0.7777777777777778,
              "#fb9f3a"
             ],
             [
              0.8888888888888888,
              "#fdca26"
             ],
             [
              1,
              "#f0f921"
             ]
            ],
            "type": "surface"
           }
          ],
          "table": [
           {
            "cells": {
             "fill": {
              "color": "#EBF0F8"
             },
             "line": {
              "color": "white"
             }
            },
            "header": {
             "fill": {
              "color": "#C8D4E3"
             },
             "line": {
              "color": "white"
             }
            },
            "type": "table"
           }
          ]
         },
         "layout": {
          "annotationdefaults": {
           "arrowcolor": "#2a3f5f",
           "arrowhead": 0,
           "arrowwidth": 1
          },
          "autotypenumbers": "strict",
          "coloraxis": {
           "colorbar": {
            "outlinewidth": 0,
            "ticks": ""
           }
          },
          "colorscale": {
           "diverging": [
            [
             0,
             "#8e0152"
            ],
            [
             0.1,
             "#c51b7d"
            ],
            [
             0.2,
             "#de77ae"
            ],
            [
             0.3,
             "#f1b6da"
            ],
            [
             0.4,
             "#fde0ef"
            ],
            [
             0.5,
             "#f7f7f7"
            ],
            [
             0.6,
             "#e6f5d0"
            ],
            [
             0.7,
             "#b8e186"
            ],
            [
             0.8,
             "#7fbc41"
            ],
            [
             0.9,
             "#4d9221"
            ],
            [
             1,
             "#276419"
            ]
           ],
           "sequential": [
            [
             0,
             "#0d0887"
            ],
            [
             0.1111111111111111,
             "#46039f"
            ],
            [
             0.2222222222222222,
             "#7201a8"
            ],
            [
             0.3333333333333333,
             "#9c179e"
            ],
            [
             0.4444444444444444,
             "#bd3786"
            ],
            [
             0.5555555555555556,
             "#d8576b"
            ],
            [
             0.6666666666666666,
             "#ed7953"
            ],
            [
             0.7777777777777778,
             "#fb9f3a"
            ],
            [
             0.8888888888888888,
             "#fdca26"
            ],
            [
             1,
             "#f0f921"
            ]
           ],
           "sequentialminus": [
            [
             0,
             "#0d0887"
            ],
            [
             0.1111111111111111,
             "#46039f"
            ],
            [
             0.2222222222222222,
             "#7201a8"
            ],
            [
             0.3333333333333333,
             "#9c179e"
            ],
            [
             0.4444444444444444,
             "#bd3786"
            ],
            [
             0.5555555555555556,
             "#d8576b"
            ],
            [
             0.6666666666666666,
             "#ed7953"
            ],
            [
             0.7777777777777778,
             "#fb9f3a"
            ],
            [
             0.8888888888888888,
             "#fdca26"
            ],
            [
             1,
             "#f0f921"
            ]
           ]
          },
          "colorway": [
           "#636efa",
           "#EF553B",
           "#00cc96",
           "#ab63fa",
           "#FFA15A",
           "#19d3f3",
           "#FF6692",
           "#B6E880",
           "#FF97FF",
           "#FECB52"
          ],
          "font": {
           "color": "#2a3f5f"
          },
          "geo": {
           "bgcolor": "white",
           "lakecolor": "white",
           "landcolor": "#E5ECF6",
           "showlakes": true,
           "showland": true,
           "subunitcolor": "white"
          },
          "hoverlabel": {
           "align": "left"
          },
          "hovermode": "closest",
          "mapbox": {
           "style": "light"
          },
          "paper_bgcolor": "white",
          "plot_bgcolor": "#E5ECF6",
          "polar": {
           "angularaxis": {
            "gridcolor": "white",
            "linecolor": "white",
            "ticks": ""
           },
           "bgcolor": "#E5ECF6",
           "radialaxis": {
            "gridcolor": "white",
            "linecolor": "white",
            "ticks": ""
           }
          },
          "scene": {
           "xaxis": {
            "backgroundcolor": "#E5ECF6",
            "gridcolor": "white",
            "gridwidth": 2,
            "linecolor": "white",
            "showbackground": true,
            "ticks": "",
            "zerolinecolor": "white"
           },
           "yaxis": {
            "backgroundcolor": "#E5ECF6",
            "gridcolor": "white",
            "gridwidth": 2,
            "linecolor": "white",
            "showbackground": true,
            "ticks": "",
            "zerolinecolor": "white"
           },
           "zaxis": {
            "backgroundcolor": "#E5ECF6",
            "gridcolor": "white",
            "gridwidth": 2,
            "linecolor": "white",
            "showbackground": true,
            "ticks": "",
            "zerolinecolor": "white"
           }
          },
          "shapedefaults": {
           "line": {
            "color": "#2a3f5f"
           }
          },
          "ternary": {
           "aaxis": {
            "gridcolor": "white",
            "linecolor": "white",
            "ticks": ""
           },
           "baxis": {
            "gridcolor": "white",
            "linecolor": "white",
            "ticks": ""
           },
           "bgcolor": "#E5ECF6",
           "caxis": {
            "gridcolor": "white",
            "linecolor": "white",
            "ticks": ""
           }
          },
          "title": {
           "x": 0.05
          },
          "xaxis": {
           "automargin": true,
           "gridcolor": "white",
           "linecolor": "white",
           "ticks": "",
           "title": {
            "standoff": 15
           },
           "zerolinecolor": "white",
           "zerolinewidth": 2
          },
          "yaxis": {
           "automargin": true,
           "gridcolor": "white",
           "linecolor": "white",
           "ticks": "",
           "title": {
            "standoff": 15
           },
           "zerolinecolor": "white",
           "zerolinewidth": 2
          }
         }
        },
        "title": {
         "text": "Optimization History Plot"
        },
        "xaxis": {
         "title": {
          "text": "Trial"
         }
        },
        "yaxis": {
         "title": {
          "text": "Objective Value"
         }
        }
       }
      }
     },
     "metadata": {},
     "output_type": "display_data"
    }
   ],
   "source": [
    "optuna.visualization.plot_optimization_history(study)"
   ]
  },
  {
   "cell_type": "code",
   "execution_count": 39,
   "id": "b759f863",
   "metadata": {},
   "outputs": [
    {
     "data": {
      "application/vnd.plotly.v1+json": {
       "config": {
        "plotlyServerURL": "https://plot.ly"
       },
       "data": [
        {
         "dimensions": [
          {
           "label": "Objective Value",
           "range": [
            -5.621930410356181,
            -1.790798681022557
           ],
           "values": [
            -4.488999619416664,
            -5.180871459678092,
            -5.621930410356181,
            -3.0184689526378627,
            -3.7733519045940653,
            -3.8487111098384736,
            -4.111840954784502,
            -3.1956971460397265,
            -5.0859662820821345,
            -3.9143518315757673,
            -5.392646534121309,
            -4.0622097075952155,
            -5.032898033452911,
            -5.349410144812519,
            -3.9029669844938604,
            -3.8537661198433497,
            -5.099816231329621,
            -3.474560099552208,
            -4.8369601648581675,
            -2.701235190069145,
            -2.5337147554234454,
            -4.648421676841163,
            -4.832645125269951,
            -3.977319426275513,
            -2.403030891610652,
            -4.049393647880324,
            -4.990641439845907,
            -3.001679964759081,
            -5.182322564687878,
            -4.19766447180614,
            -2.568056612826067,
            -5.217158120583843,
            -3.5071059383588525,
            -3.962745981736018,
            -5.5640689605239215,
            -3.773742061454802,
            -4.041975629036594,
            -3.860037219704072,
            -3.862098701995758,
            -4.886262262246499,
            -4.233141816940831,
            -3.009010682109314,
            -3.164388831760111,
            -3.2558451459760414,
            -3.5246721308465596,
            -5.283424107587495,
            -4.178672937237213,
            -5.206401021352671,
            -3.834273920390718,
            -5.047423116571111,
            -5.285176981546217,
            -4.773453575909682,
            -4.8161853258700145,
            -3.6811212489646756,
            -5.218727267800933,
            -3.885629843171137,
            -3.928816466666567,
            -4.058299164805247,
            -4.861446389992734,
            -3.2854774170675385,
            -3.8392202270852493,
            -5.435619209256286,
            -3.8457136255926927,
            -4.171307896896493,
            -2.9723405345373077,
            -4.033534017188079,
            -4.855446662771112,
            -5.089593425278314,
            -4.065209933296222,
            -5.063853754138668,
            -2.663832857010497,
            -4.171417010015049,
            -1.878318359900161,
            -4.077830805174562,
            -3.021837666305186,
            -4.687485258127724,
            -3.840830763712924,
            -2.717550840338308,
            -4.8714406999222515,
            -3.7342282001490448,
            -3.7259289074631665,
            -4.503553443110393,
            -4.978403487375487,
            -1.790798681022557,
            -2.8027399872301073,
            -3.8847339818750464,
            -2.992663429131446,
            -5.10959203671885,
            -4.60166854502116,
            -4.383612901397948,
            -4.176891117204573,
            -5.225699688444661,
            -1.9417013975540982,
            -3.8284092392477747,
            -3.8370453513998237,
            -5.238111855048281,
            -3.024816681407542,
            -3.9182877365793596,
            -5.290755358027009,
            -5.032142543932899
           ]
          },
          {
           "label": "max_depth",
           "range": [
            10,
            50
           ],
           "values": [
            48,
            16,
            39,
            18,
            31,
            15,
            42,
            11,
            48,
            14,
            30,
            37,
            17,
            46,
            18,
            21,
            32,
            50,
            43,
            13,
            35,
            23,
            29,
            33,
            27,
            36,
            20,
            13,
            43,
            17,
            46,
            27,
            30,
            23,
            38,
            20,
            11,
            21,
            30,
            41,
            35,
            44,
            34,
            19,
            25,
            14,
            37,
            19,
            35,
            46,
            13,
            10,
            16,
            19,
            40,
            33,
            20,
            35,
            30,
            10,
            49,
            48,
            44,
            22,
            38,
            50,
            40,
            22,
            47,
            36,
            23,
            11,
            34,
            24,
            18,
            31,
            50,
            21,
            49,
            17,
            39,
            40,
            20,
            14,
            38,
            29,
            35,
            35,
            16,
            34,
            36,
            25,
            12,
            38,
            10,
            38,
            42,
            43,
            41,
            27
           ]
          },
          {
           "label": "min_samples_leaf",
           "range": [
            1,
            32
           ],
           "values": [
            20,
            28,
            32,
            6,
            10,
            12,
            17,
            6,
            26,
            15,
            30,
            17,
            25,
            30,
            11,
            12,
            26,
            7,
            24,
            4,
            3,
            21,
            23,
            16,
            4,
            17,
            25,
            6,
            28,
            18,
            4,
            28,
            8,
            11,
            32,
            10,
            17,
            8,
            8,
            24,
            18,
            6,
            1,
            6,
            5,
            29,
            18,
            29,
            12,
            25,
            29,
            22,
            23,
            8,
            28,
            12,
            13,
            17,
            24,
            6,
            12,
            31,
            13,
            18,
            4,
            17,
            23,
            26,
            17,
            26,
            4,
            18,
            2,
            17,
            3,
            21,
            11,
            3,
            23,
            9,
            9,
            20,
            25,
            2,
            4,
            14,
            2,
            28,
            21,
            19,
            18,
            29,
            1,
            11,
            10,
            29,
            6,
            14,
            30,
            25
           ]
          },
          {
           "label": "min_samples_split",
           "range": [
            2,
            32
           ],
           "values": [
            24,
            3,
            2,
            7,
            15,
            11,
            8,
            20,
            31,
            23,
            3,
            11,
            32,
            20,
            3,
            27,
            6,
            25,
            23,
            13,
            12,
            24,
            5,
            25,
            2,
            11,
            14,
            10,
            21,
            29,
            11,
            27,
            14,
            31,
            13,
            17,
            20,
            30,
            32,
            9,
            21,
            11,
            23,
            22,
            31,
            30,
            27,
            4,
            12,
            29,
            7,
            5,
            19,
            24,
            22,
            4,
            32,
            26,
            8,
            22,
            30,
            15,
            11,
            7,
            19,
            6,
            23,
            27,
            17,
            23,
            13,
            16,
            2,
            5,
            21,
            18,
            18,
            15,
            27,
            6,
            22,
            19,
            13,
            3,
            16,
            7,
            21,
            17,
            4,
            31,
            16,
            31,
            5,
            4,
            27,
            21,
            10,
            32,
            12,
            25
           ]
          },
          {
           "label": "n_estimators",
           "range": [
            104,
            968
           ],
           "values": [
            437,
            240,
            641,
            850,
            374,
            651,
            510,
            633,
            158,
            374,
            209,
            333,
            592,
            946,
            179,
            450,
            353,
            167,
            104,
            794,
            877,
            380,
            899,
            785,
            570,
            128,
            917,
            306,
            937,
            824,
            827,
            305,
            106,
            207,
            567,
            967,
            356,
            146,
            230,
            705,
            431,
            181,
            136,
            561,
            722,
            407,
            332,
            577,
            911,
            754,
            678,
            646,
            104,
            687,
            393,
            692,
            338,
            903,
            619,
            352,
            947,
            113,
            968,
            866,
            943,
            654,
            890,
            423,
            881,
            819,
            901,
            621,
            358,
            841,
            793,
            146,
            754,
            816,
            122,
            468,
            594,
            960,
            478,
            112,
            870,
            542,
            459,
            437,
            693,
            123,
            449,
            948,
            276,
            185,
            861,
            206,
            762,
            776,
            435,
            873
           ]
          }
         ],
         "labelangle": 30,
         "labelside": "bottom",
         "line": {
          "color": [
           -4.488999619416664,
           -5.180871459678092,
           -5.621930410356181,
           -3.0184689526378627,
           -3.7733519045940653,
           -3.8487111098384736,
           -4.111840954784502,
           -3.1956971460397265,
           -5.0859662820821345,
           -3.9143518315757673,
           -5.392646534121309,
           -4.0622097075952155,
           -5.032898033452911,
           -5.349410144812519,
           -3.9029669844938604,
           -3.8537661198433497,
           -5.099816231329621,
           -3.474560099552208,
           -4.8369601648581675,
           -2.701235190069145,
           -2.5337147554234454,
           -4.648421676841163,
           -4.832645125269951,
           -3.977319426275513,
           -2.403030891610652,
           -4.049393647880324,
           -4.990641439845907,
           -3.001679964759081,
           -5.182322564687878,
           -4.19766447180614,
           -2.568056612826067,
           -5.217158120583843,
           -3.5071059383588525,
           -3.962745981736018,
           -5.5640689605239215,
           -3.773742061454802,
           -4.041975629036594,
           -3.860037219704072,
           -3.862098701995758,
           -4.886262262246499,
           -4.233141816940831,
           -3.009010682109314,
           -3.164388831760111,
           -3.2558451459760414,
           -3.5246721308465596,
           -5.283424107587495,
           -4.178672937237213,
           -5.206401021352671,
           -3.834273920390718,
           -5.047423116571111,
           -5.285176981546217,
           -4.773453575909682,
           -4.8161853258700145,
           -3.6811212489646756,
           -5.218727267800933,
           -3.885629843171137,
           -3.928816466666567,
           -4.058299164805247,
           -4.861446389992734,
           -3.2854774170675385,
           -3.8392202270852493,
           -5.435619209256286,
           -3.8457136255926927,
           -4.171307896896493,
           -2.9723405345373077,
           -4.033534017188079,
           -4.855446662771112,
           -5.089593425278314,
           -4.065209933296222,
           -5.063853754138668,
           -2.663832857010497,
           -4.171417010015049,
           -1.878318359900161,
           -4.077830805174562,
           -3.021837666305186,
           -4.687485258127724,
           -3.840830763712924,
           -2.717550840338308,
           -4.8714406999222515,
           -3.7342282001490448,
           -3.7259289074631665,
           -4.503553443110393,
           -4.978403487375487,
           -1.790798681022557,
           -2.8027399872301073,
           -3.8847339818750464,
           -2.992663429131446,
           -5.10959203671885,
           -4.60166854502116,
           -4.383612901397948,
           -4.176891117204573,
           -5.225699688444661,
           -1.9417013975540982,
           -3.8284092392477747,
           -3.8370453513998237,
           -5.238111855048281,
           -3.024816681407542,
           -3.9182877365793596,
           -5.290755358027009,
           -5.032142543932899
          ],
          "colorbar": {
           "title": {
            "text": "Objective Value"
           }
          },
          "colorscale": [
           [
            0,
            "rgb(247,251,255)"
           ],
           [
            0.125,
            "rgb(222,235,247)"
           ],
           [
            0.25,
            "rgb(198,219,239)"
           ],
           [
            0.375,
            "rgb(158,202,225)"
           ],
           [
            0.5,
            "rgb(107,174,214)"
           ],
           [
            0.625,
            "rgb(66,146,198)"
           ],
           [
            0.75,
            "rgb(33,113,181)"
           ],
           [
            0.875,
            "rgb(8,81,156)"
           ],
           [
            1,
            "rgb(8,48,107)"
           ]
          ],
          "reversescale": false,
          "showscale": true
         },
         "type": "parcoords"
        }
       ],
       "layout": {
        "template": {
         "data": {
          "bar": [
           {
            "error_x": {
             "color": "#2a3f5f"
            },
            "error_y": {
             "color": "#2a3f5f"
            },
            "marker": {
             "line": {
              "color": "#E5ECF6",
              "width": 0.5
             },
             "pattern": {
              "fillmode": "overlay",
              "size": 10,
              "solidity": 0.2
             }
            },
            "type": "bar"
           }
          ],
          "barpolar": [
           {
            "marker": {
             "line": {
              "color": "#E5ECF6",
              "width": 0.5
             },
             "pattern": {
              "fillmode": "overlay",
              "size": 10,
              "solidity": 0.2
             }
            },
            "type": "barpolar"
           }
          ],
          "carpet": [
           {
            "aaxis": {
             "endlinecolor": "#2a3f5f",
             "gridcolor": "white",
             "linecolor": "white",
             "minorgridcolor": "white",
             "startlinecolor": "#2a3f5f"
            },
            "baxis": {
             "endlinecolor": "#2a3f5f",
             "gridcolor": "white",
             "linecolor": "white",
             "minorgridcolor": "white",
             "startlinecolor": "#2a3f5f"
            },
            "type": "carpet"
           }
          ],
          "choropleth": [
           {
            "colorbar": {
             "outlinewidth": 0,
             "ticks": ""
            },
            "type": "choropleth"
           }
          ],
          "contour": [
           {
            "colorbar": {
             "outlinewidth": 0,
             "ticks": ""
            },
            "colorscale": [
             [
              0,
              "#0d0887"
             ],
             [
              0.1111111111111111,
              "#46039f"
             ],
             [
              0.2222222222222222,
              "#7201a8"
             ],
             [
              0.3333333333333333,
              "#9c179e"
             ],
             [
              0.4444444444444444,
              "#bd3786"
             ],
             [
              0.5555555555555556,
              "#d8576b"
             ],
             [
              0.6666666666666666,
              "#ed7953"
             ],
             [
              0.7777777777777778,
              "#fb9f3a"
             ],
             [
              0.8888888888888888,
              "#fdca26"
             ],
             [
              1,
              "#f0f921"
             ]
            ],
            "type": "contour"
           }
          ],
          "contourcarpet": [
           {
            "colorbar": {
             "outlinewidth": 0,
             "ticks": ""
            },
            "type": "contourcarpet"
           }
          ],
          "heatmap": [
           {
            "colorbar": {
             "outlinewidth": 0,
             "ticks": ""
            },
            "colorscale": [
             [
              0,
              "#0d0887"
             ],
             [
              0.1111111111111111,
              "#46039f"
             ],
             [
              0.2222222222222222,
              "#7201a8"
             ],
             [
              0.3333333333333333,
              "#9c179e"
             ],
             [
              0.4444444444444444,
              "#bd3786"
             ],
             [
              0.5555555555555556,
              "#d8576b"
             ],
             [
              0.6666666666666666,
              "#ed7953"
             ],
             [
              0.7777777777777778,
              "#fb9f3a"
             ],
             [
              0.8888888888888888,
              "#fdca26"
             ],
             [
              1,
              "#f0f921"
             ]
            ],
            "type": "heatmap"
           }
          ],
          "histogram": [
           {
            "marker": {
             "pattern": {
              "fillmode": "overlay",
              "size": 10,
              "solidity": 0.2
             }
            },
            "type": "histogram"
           }
          ],
          "histogram2d": [
           {
            "colorbar": {
             "outlinewidth": 0,
             "ticks": ""
            },
            "colorscale": [
             [
              0,
              "#0d0887"
             ],
             [
              0.1111111111111111,
              "#46039f"
             ],
             [
              0.2222222222222222,
              "#7201a8"
             ],
             [
              0.3333333333333333,
              "#9c179e"
             ],
             [
              0.4444444444444444,
              "#bd3786"
             ],
             [
              0.5555555555555556,
              "#d8576b"
             ],
             [
              0.6666666666666666,
              "#ed7953"
             ],
             [
              0.7777777777777778,
              "#fb9f3a"
             ],
             [
              0.8888888888888888,
              "#fdca26"
             ],
             [
              1,
              "#f0f921"
             ]
            ],
            "type": "histogram2d"
           }
          ],
          "histogram2dcontour": [
           {
            "colorbar": {
             "outlinewidth": 0,
             "ticks": ""
            },
            "colorscale": [
             [
              0,
              "#0d0887"
             ],
             [
              0.1111111111111111,
              "#46039f"
             ],
             [
              0.2222222222222222,
              "#7201a8"
             ],
             [
              0.3333333333333333,
              "#9c179e"
             ],
             [
              0.4444444444444444,
              "#bd3786"
             ],
             [
              0.5555555555555556,
              "#d8576b"
             ],
             [
              0.6666666666666666,
              "#ed7953"
             ],
             [
              0.7777777777777778,
              "#fb9f3a"
             ],
             [
              0.8888888888888888,
              "#fdca26"
             ],
             [
              1,
              "#f0f921"
             ]
            ],
            "type": "histogram2dcontour"
           }
          ],
          "mesh3d": [
           {
            "colorbar": {
             "outlinewidth": 0,
             "ticks": ""
            },
            "type": "mesh3d"
           }
          ],
          "parcoords": [
           {
            "line": {
             "colorbar": {
              "outlinewidth": 0,
              "ticks": ""
             }
            },
            "type": "parcoords"
           }
          ],
          "pie": [
           {
            "automargin": true,
            "type": "pie"
           }
          ],
          "scatter": [
           {
            "fillpattern": {
             "fillmode": "overlay",
             "size": 10,
             "solidity": 0.2
            },
            "type": "scatter"
           }
          ],
          "scatter3d": [
           {
            "line": {
             "colorbar": {
              "outlinewidth": 0,
              "ticks": ""
             }
            },
            "marker": {
             "colorbar": {
              "outlinewidth": 0,
              "ticks": ""
             }
            },
            "type": "scatter3d"
           }
          ],
          "scattercarpet": [
           {
            "marker": {
             "colorbar": {
              "outlinewidth": 0,
              "ticks": ""
             }
            },
            "type": "scattercarpet"
           }
          ],
          "scattergeo": [
           {
            "marker": {
             "colorbar": {
              "outlinewidth": 0,
              "ticks": ""
             }
            },
            "type": "scattergeo"
           }
          ],
          "scattergl": [
           {
            "marker": {
             "colorbar": {
              "outlinewidth": 0,
              "ticks": ""
             }
            },
            "type": "scattergl"
           }
          ],
          "scattermap": [
           {
            "marker": {
             "colorbar": {
              "outlinewidth": 0,
              "ticks": ""
             }
            },
            "type": "scattermap"
           }
          ],
          "scattermapbox": [
           {
            "marker": {
             "colorbar": {
              "outlinewidth": 0,
              "ticks": ""
             }
            },
            "type": "scattermapbox"
           }
          ],
          "scatterpolar": [
           {
            "marker": {
             "colorbar": {
              "outlinewidth": 0,
              "ticks": ""
             }
            },
            "type": "scatterpolar"
           }
          ],
          "scatterpolargl": [
           {
            "marker": {
             "colorbar": {
              "outlinewidth": 0,
              "ticks": ""
             }
            },
            "type": "scatterpolargl"
           }
          ],
          "scatterternary": [
           {
            "marker": {
             "colorbar": {
              "outlinewidth": 0,
              "ticks": ""
             }
            },
            "type": "scatterternary"
           }
          ],
          "surface": [
           {
            "colorbar": {
             "outlinewidth": 0,
             "ticks": ""
            },
            "colorscale": [
             [
              0,
              "#0d0887"
             ],
             [
              0.1111111111111111,
              "#46039f"
             ],
             [
              0.2222222222222222,
              "#7201a8"
             ],
             [
              0.3333333333333333,
              "#9c179e"
             ],
             [
              0.4444444444444444,
              "#bd3786"
             ],
             [
              0.5555555555555556,
              "#d8576b"
             ],
             [
              0.6666666666666666,
              "#ed7953"
             ],
             [
              0.7777777777777778,
              "#fb9f3a"
             ],
             [
              0.8888888888888888,
              "#fdca26"
             ],
             [
              1,
              "#f0f921"
             ]
            ],
            "type": "surface"
           }
          ],
          "table": [
           {
            "cells": {
             "fill": {
              "color": "#EBF0F8"
             },
             "line": {
              "color": "white"
             }
            },
            "header": {
             "fill": {
              "color": "#C8D4E3"
             },
             "line": {
              "color": "white"
             }
            },
            "type": "table"
           }
          ]
         },
         "layout": {
          "annotationdefaults": {
           "arrowcolor": "#2a3f5f",
           "arrowhead": 0,
           "arrowwidth": 1
          },
          "autotypenumbers": "strict",
          "coloraxis": {
           "colorbar": {
            "outlinewidth": 0,
            "ticks": ""
           }
          },
          "colorscale": {
           "diverging": [
            [
             0,
             "#8e0152"
            ],
            [
             0.1,
             "#c51b7d"
            ],
            [
             0.2,
             "#de77ae"
            ],
            [
             0.3,
             "#f1b6da"
            ],
            [
             0.4,
             "#fde0ef"
            ],
            [
             0.5,
             "#f7f7f7"
            ],
            [
             0.6,
             "#e6f5d0"
            ],
            [
             0.7,
             "#b8e186"
            ],
            [
             0.8,
             "#7fbc41"
            ],
            [
             0.9,
             "#4d9221"
            ],
            [
             1,
             "#276419"
            ]
           ],
           "sequential": [
            [
             0,
             "#0d0887"
            ],
            [
             0.1111111111111111,
             "#46039f"
            ],
            [
             0.2222222222222222,
             "#7201a8"
            ],
            [
             0.3333333333333333,
             "#9c179e"
            ],
            [
             0.4444444444444444,
             "#bd3786"
            ],
            [
             0.5555555555555556,
             "#d8576b"
            ],
            [
             0.6666666666666666,
             "#ed7953"
            ],
            [
             0.7777777777777778,
             "#fb9f3a"
            ],
            [
             0.8888888888888888,
             "#fdca26"
            ],
            [
             1,
             "#f0f921"
            ]
           ],
           "sequentialminus": [
            [
             0,
             "#0d0887"
            ],
            [
             0.1111111111111111,
             "#46039f"
            ],
            [
             0.2222222222222222,
             "#7201a8"
            ],
            [
             0.3333333333333333,
             "#9c179e"
            ],
            [
             0.4444444444444444,
             "#bd3786"
            ],
            [
             0.5555555555555556,
             "#d8576b"
            ],
            [
             0.6666666666666666,
             "#ed7953"
            ],
            [
             0.7777777777777778,
             "#fb9f3a"
            ],
            [
             0.8888888888888888,
             "#fdca26"
            ],
            [
             1,
             "#f0f921"
            ]
           ]
          },
          "colorway": [
           "#636efa",
           "#EF553B",
           "#00cc96",
           "#ab63fa",
           "#FFA15A",
           "#19d3f3",
           "#FF6692",
           "#B6E880",
           "#FF97FF",
           "#FECB52"
          ],
          "font": {
           "color": "#2a3f5f"
          },
          "geo": {
           "bgcolor": "white",
           "lakecolor": "white",
           "landcolor": "#E5ECF6",
           "showlakes": true,
           "showland": true,
           "subunitcolor": "white"
          },
          "hoverlabel": {
           "align": "left"
          },
          "hovermode": "closest",
          "mapbox": {
           "style": "light"
          },
          "paper_bgcolor": "white",
          "plot_bgcolor": "#E5ECF6",
          "polar": {
           "angularaxis": {
            "gridcolor": "white",
            "linecolor": "white",
            "ticks": ""
           },
           "bgcolor": "#E5ECF6",
           "radialaxis": {
            "gridcolor": "white",
            "linecolor": "white",
            "ticks": ""
           }
          },
          "scene": {
           "xaxis": {
            "backgroundcolor": "#E5ECF6",
            "gridcolor": "white",
            "gridwidth": 2,
            "linecolor": "white",
            "showbackground": true,
            "ticks": "",
            "zerolinecolor": "white"
           },
           "yaxis": {
            "backgroundcolor": "#E5ECF6",
            "gridcolor": "white",
            "gridwidth": 2,
            "linecolor": "white",
            "showbackground": true,
            "ticks": "",
            "zerolinecolor": "white"
           },
           "zaxis": {
            "backgroundcolor": "#E5ECF6",
            "gridcolor": "white",
            "gridwidth": 2,
            "linecolor": "white",
            "showbackground": true,
            "ticks": "",
            "zerolinecolor": "white"
           }
          },
          "shapedefaults": {
           "line": {
            "color": "#2a3f5f"
           }
          },
          "ternary": {
           "aaxis": {
            "gridcolor": "white",
            "linecolor": "white",
            "ticks": ""
           },
           "baxis": {
            "gridcolor": "white",
            "linecolor": "white",
            "ticks": ""
           },
           "bgcolor": "#E5ECF6",
           "caxis": {
            "gridcolor": "white",
            "linecolor": "white",
            "ticks": ""
           }
          },
          "title": {
           "x": 0.05
          },
          "xaxis": {
           "automargin": true,
           "gridcolor": "white",
           "linecolor": "white",
           "ticks": "",
           "title": {
            "standoff": 15
           },
           "zerolinecolor": "white",
           "zerolinewidth": 2
          },
          "yaxis": {
           "automargin": true,
           "gridcolor": "white",
           "linecolor": "white",
           "ticks": "",
           "title": {
            "standoff": 15
           },
           "zerolinecolor": "white",
           "zerolinewidth": 2
          }
         }
        },
        "title": {
         "text": "Parallel Coordinate Plot"
        }
       }
      }
     },
     "metadata": {},
     "output_type": "display_data"
    }
   ],
   "source": [
    "optuna.visualization.plot_parallel_coordinate(study)"
   ]
  },
  {
   "cell_type": "code",
   "execution_count": 40,
   "id": "d4aa4c04",
   "metadata": {},
   "outputs": [
    {
     "data": {
      "application/vnd.plotly.v1+json": {
       "config": {
        "plotlyServerURL": "https://plot.ly"
       },
       "data": [
        {
         "marker": {
          "color": [
           0,
           1,
           2,
           3,
           4,
           5,
           6,
           7,
           8,
           9,
           10,
           11,
           12,
           13,
           14,
           15,
           16,
           17,
           18,
           19,
           20,
           21,
           22,
           23,
           24,
           25,
           26,
           27,
           28,
           29,
           30,
           31,
           32,
           33,
           34,
           35,
           36,
           37,
           38,
           39,
           40,
           41,
           42,
           43,
           44,
           45,
           46,
           47,
           48,
           49,
           50,
           51,
           52,
           53,
           54,
           55,
           56,
           57,
           58,
           59,
           60,
           61,
           62,
           63,
           64,
           65,
           66,
           67,
           68,
           69,
           70,
           71,
           72,
           73,
           74,
           75,
           76,
           77,
           78,
           79,
           80,
           81,
           82,
           83,
           84,
           85,
           86,
           87,
           88,
           89,
           90,
           91,
           92,
           93,
           94,
           95,
           96,
           97,
           98,
           99
          ],
          "colorbar": {
           "title": {
            "text": "Trial"
           },
           "x": 1,
           "xpad": 40
          },
          "colorscale": [
           [
            0,
            "rgb(247,251,255)"
           ],
           [
            0.125,
            "rgb(222,235,247)"
           ],
           [
            0.25,
            "rgb(198,219,239)"
           ],
           [
            0.375,
            "rgb(158,202,225)"
           ],
           [
            0.5,
            "rgb(107,174,214)"
           ],
           [
            0.625,
            "rgb(66,146,198)"
           ],
           [
            0.75,
            "rgb(33,113,181)"
           ],
           [
            0.875,
            "rgb(8,81,156)"
           ],
           [
            1,
            "rgb(8,48,107)"
           ]
          ],
          "line": {
           "color": "Grey",
           "width": 0.5
          },
          "showscale": true
         },
         "mode": "markers",
         "name": "Feasible Trial",
         "showlegend": false,
         "type": "scatter",
         "x": [
          48,
          16,
          39,
          18,
          31,
          15,
          42,
          11,
          48,
          14,
          30,
          37,
          17,
          46,
          18,
          21,
          32,
          50,
          43,
          13,
          35,
          23,
          29,
          33,
          27,
          36,
          20,
          13,
          43,
          17,
          46,
          27,
          30,
          23,
          38,
          20,
          11,
          21,
          30,
          41,
          35,
          44,
          34,
          19,
          25,
          14,
          37,
          19,
          35,
          46,
          13,
          10,
          16,
          19,
          40,
          33,
          20,
          35,
          30,
          10,
          49,
          48,
          44,
          22,
          38,
          50,
          40,
          22,
          47,
          36,
          23,
          11,
          34,
          24,
          18,
          31,
          50,
          21,
          49,
          17,
          39,
          40,
          20,
          14,
          38,
          29,
          35,
          35,
          16,
          34,
          36,
          25,
          12,
          38,
          10,
          38,
          42,
          43,
          41,
          27
         ],
         "xaxis": "x",
         "y": [
          -4.488999619416664,
          -5.180871459678092,
          -5.621930410356181,
          -3.0184689526378627,
          -3.7733519045940653,
          -3.8487111098384736,
          -4.111840954784502,
          -3.1956971460397265,
          -5.0859662820821345,
          -3.9143518315757673,
          -5.392646534121309,
          -4.0622097075952155,
          -5.032898033452911,
          -5.349410144812519,
          -3.9029669844938604,
          -3.8537661198433497,
          -5.099816231329621,
          -3.474560099552208,
          -4.8369601648581675,
          -2.701235190069145,
          -2.5337147554234454,
          -4.648421676841163,
          -4.832645125269951,
          -3.977319426275513,
          -2.403030891610652,
          -4.049393647880324,
          -4.990641439845907,
          -3.001679964759081,
          -5.182322564687878,
          -4.19766447180614,
          -2.568056612826067,
          -5.217158120583843,
          -3.5071059383588525,
          -3.962745981736018,
          -5.5640689605239215,
          -3.773742061454802,
          -4.041975629036594,
          -3.860037219704072,
          -3.862098701995758,
          -4.886262262246499,
          -4.233141816940831,
          -3.009010682109314,
          -3.164388831760111,
          -3.2558451459760414,
          -3.5246721308465596,
          -5.283424107587495,
          -4.178672937237213,
          -5.206401021352671,
          -3.834273920390718,
          -5.047423116571111,
          -5.285176981546217,
          -4.773453575909682,
          -4.8161853258700145,
          -3.6811212489646756,
          -5.218727267800933,
          -3.885629843171137,
          -3.928816466666567,
          -4.058299164805247,
          -4.861446389992734,
          -3.2854774170675385,
          -3.8392202270852493,
          -5.435619209256286,
          -3.8457136255926927,
          -4.171307896896493,
          -2.9723405345373077,
          -4.033534017188079,
          -4.855446662771112,
          -5.089593425278314,
          -4.065209933296222,
          -5.063853754138668,
          -2.663832857010497,
          -4.171417010015049,
          -1.878318359900161,
          -4.077830805174562,
          -3.021837666305186,
          -4.687485258127724,
          -3.840830763712924,
          -2.717550840338308,
          -4.8714406999222515,
          -3.7342282001490448,
          -3.7259289074631665,
          -4.503553443110393,
          -4.978403487375487,
          -1.790798681022557,
          -2.8027399872301073,
          -3.8847339818750464,
          -2.992663429131446,
          -5.10959203671885,
          -4.60166854502116,
          -4.383612901397948,
          -4.176891117204573,
          -5.225699688444661,
          -1.9417013975540982,
          -3.8284092392477747,
          -3.8370453513998237,
          -5.238111855048281,
          -3.024816681407542,
          -3.9182877365793596,
          -5.290755358027009,
          -5.032142543932899
         ],
         "yaxis": "y"
        },
        {
         "marker": {
          "color": [
           0,
           1,
           2,
           3,
           4,
           5,
           6,
           7,
           8,
           9,
           10,
           11,
           12,
           13,
           14,
           15,
           16,
           17,
           18,
           19,
           20,
           21,
           22,
           23,
           24,
           25,
           26,
           27,
           28,
           29,
           30,
           31,
           32,
           33,
           34,
           35,
           36,
           37,
           38,
           39,
           40,
           41,
           42,
           43,
           44,
           45,
           46,
           47,
           48,
           49,
           50,
           51,
           52,
           53,
           54,
           55,
           56,
           57,
           58,
           59,
           60,
           61,
           62,
           63,
           64,
           65,
           66,
           67,
           68,
           69,
           70,
           71,
           72,
           73,
           74,
           75,
           76,
           77,
           78,
           79,
           80,
           81,
           82,
           83,
           84,
           85,
           86,
           87,
           88,
           89,
           90,
           91,
           92,
           93,
           94,
           95,
           96,
           97,
           98,
           99
          ],
          "colorbar": {
           "title": {
            "text": "Trial"
           },
           "x": 1,
           "xpad": 40
          },
          "colorscale": [
           [
            0,
            "rgb(247,251,255)"
           ],
           [
            0.125,
            "rgb(222,235,247)"
           ],
           [
            0.25,
            "rgb(198,219,239)"
           ],
           [
            0.375,
            "rgb(158,202,225)"
           ],
           [
            0.5,
            "rgb(107,174,214)"
           ],
           [
            0.625,
            "rgb(66,146,198)"
           ],
           [
            0.75,
            "rgb(33,113,181)"
           ],
           [
            0.875,
            "rgb(8,81,156)"
           ],
           [
            1,
            "rgb(8,48,107)"
           ]
          ],
          "line": {
           "color": "Grey",
           "width": 0.5
          },
          "showscale": false
         },
         "mode": "markers",
         "name": "Feasible Trial",
         "showlegend": false,
         "type": "scatter",
         "x": [
          20,
          28,
          32,
          6,
          10,
          12,
          17,
          6,
          26,
          15,
          30,
          17,
          25,
          30,
          11,
          12,
          26,
          7,
          24,
          4,
          3,
          21,
          23,
          16,
          4,
          17,
          25,
          6,
          28,
          18,
          4,
          28,
          8,
          11,
          32,
          10,
          17,
          8,
          8,
          24,
          18,
          6,
          1,
          6,
          5,
          29,
          18,
          29,
          12,
          25,
          29,
          22,
          23,
          8,
          28,
          12,
          13,
          17,
          24,
          6,
          12,
          31,
          13,
          18,
          4,
          17,
          23,
          26,
          17,
          26,
          4,
          18,
          2,
          17,
          3,
          21,
          11,
          3,
          23,
          9,
          9,
          20,
          25,
          2,
          4,
          14,
          2,
          28,
          21,
          19,
          18,
          29,
          1,
          11,
          10,
          29,
          6,
          14,
          30,
          25
         ],
         "xaxis": "x2",
         "y": [
          -4.488999619416664,
          -5.180871459678092,
          -5.621930410356181,
          -3.0184689526378627,
          -3.7733519045940653,
          -3.8487111098384736,
          -4.111840954784502,
          -3.1956971460397265,
          -5.0859662820821345,
          -3.9143518315757673,
          -5.392646534121309,
          -4.0622097075952155,
          -5.032898033452911,
          -5.349410144812519,
          -3.9029669844938604,
          -3.8537661198433497,
          -5.099816231329621,
          -3.474560099552208,
          -4.8369601648581675,
          -2.701235190069145,
          -2.5337147554234454,
          -4.648421676841163,
          -4.832645125269951,
          -3.977319426275513,
          -2.403030891610652,
          -4.049393647880324,
          -4.990641439845907,
          -3.001679964759081,
          -5.182322564687878,
          -4.19766447180614,
          -2.568056612826067,
          -5.217158120583843,
          -3.5071059383588525,
          -3.962745981736018,
          -5.5640689605239215,
          -3.773742061454802,
          -4.041975629036594,
          -3.860037219704072,
          -3.862098701995758,
          -4.886262262246499,
          -4.233141816940831,
          -3.009010682109314,
          -3.164388831760111,
          -3.2558451459760414,
          -3.5246721308465596,
          -5.283424107587495,
          -4.178672937237213,
          -5.206401021352671,
          -3.834273920390718,
          -5.047423116571111,
          -5.285176981546217,
          -4.773453575909682,
          -4.8161853258700145,
          -3.6811212489646756,
          -5.218727267800933,
          -3.885629843171137,
          -3.928816466666567,
          -4.058299164805247,
          -4.861446389992734,
          -3.2854774170675385,
          -3.8392202270852493,
          -5.435619209256286,
          -3.8457136255926927,
          -4.171307896896493,
          -2.9723405345373077,
          -4.033534017188079,
          -4.855446662771112,
          -5.089593425278314,
          -4.065209933296222,
          -5.063853754138668,
          -2.663832857010497,
          -4.171417010015049,
          -1.878318359900161,
          -4.077830805174562,
          -3.021837666305186,
          -4.687485258127724,
          -3.840830763712924,
          -2.717550840338308,
          -4.8714406999222515,
          -3.7342282001490448,
          -3.7259289074631665,
          -4.503553443110393,
          -4.978403487375487,
          -1.790798681022557,
          -2.8027399872301073,
          -3.8847339818750464,
          -2.992663429131446,
          -5.10959203671885,
          -4.60166854502116,
          -4.383612901397948,
          -4.176891117204573,
          -5.225699688444661,
          -1.9417013975540982,
          -3.8284092392477747,
          -3.8370453513998237,
          -5.238111855048281,
          -3.024816681407542,
          -3.9182877365793596,
          -5.290755358027009,
          -5.032142543932899
         ],
         "yaxis": "y2"
        },
        {
         "marker": {
          "color": [
           0,
           1,
           2,
           3,
           4,
           5,
           6,
           7,
           8,
           9,
           10,
           11,
           12,
           13,
           14,
           15,
           16,
           17,
           18,
           19,
           20,
           21,
           22,
           23,
           24,
           25,
           26,
           27,
           28,
           29,
           30,
           31,
           32,
           33,
           34,
           35,
           36,
           37,
           38,
           39,
           40,
           41,
           42,
           43,
           44,
           45,
           46,
           47,
           48,
           49,
           50,
           51,
           52,
           53,
           54,
           55,
           56,
           57,
           58,
           59,
           60,
           61,
           62,
           63,
           64,
           65,
           66,
           67,
           68,
           69,
           70,
           71,
           72,
           73,
           74,
           75,
           76,
           77,
           78,
           79,
           80,
           81,
           82,
           83,
           84,
           85,
           86,
           87,
           88,
           89,
           90,
           91,
           92,
           93,
           94,
           95,
           96,
           97,
           98,
           99
          ],
          "colorbar": {
           "title": {
            "text": "Trial"
           },
           "x": 1,
           "xpad": 40
          },
          "colorscale": [
           [
            0,
            "rgb(247,251,255)"
           ],
           [
            0.125,
            "rgb(222,235,247)"
           ],
           [
            0.25,
            "rgb(198,219,239)"
           ],
           [
            0.375,
            "rgb(158,202,225)"
           ],
           [
            0.5,
            "rgb(107,174,214)"
           ],
           [
            0.625,
            "rgb(66,146,198)"
           ],
           [
            0.75,
            "rgb(33,113,181)"
           ],
           [
            0.875,
            "rgb(8,81,156)"
           ],
           [
            1,
            "rgb(8,48,107)"
           ]
          ],
          "line": {
           "color": "Grey",
           "width": 0.5
          },
          "showscale": false
         },
         "mode": "markers",
         "name": "Feasible Trial",
         "showlegend": false,
         "type": "scatter",
         "x": [
          24,
          3,
          2,
          7,
          15,
          11,
          8,
          20,
          31,
          23,
          3,
          11,
          32,
          20,
          3,
          27,
          6,
          25,
          23,
          13,
          12,
          24,
          5,
          25,
          2,
          11,
          14,
          10,
          21,
          29,
          11,
          27,
          14,
          31,
          13,
          17,
          20,
          30,
          32,
          9,
          21,
          11,
          23,
          22,
          31,
          30,
          27,
          4,
          12,
          29,
          7,
          5,
          19,
          24,
          22,
          4,
          32,
          26,
          8,
          22,
          30,
          15,
          11,
          7,
          19,
          6,
          23,
          27,
          17,
          23,
          13,
          16,
          2,
          5,
          21,
          18,
          18,
          15,
          27,
          6,
          22,
          19,
          13,
          3,
          16,
          7,
          21,
          17,
          4,
          31,
          16,
          31,
          5,
          4,
          27,
          21,
          10,
          32,
          12,
          25
         ],
         "xaxis": "x3",
         "y": [
          -4.488999619416664,
          -5.180871459678092,
          -5.621930410356181,
          -3.0184689526378627,
          -3.7733519045940653,
          -3.8487111098384736,
          -4.111840954784502,
          -3.1956971460397265,
          -5.0859662820821345,
          -3.9143518315757673,
          -5.392646534121309,
          -4.0622097075952155,
          -5.032898033452911,
          -5.349410144812519,
          -3.9029669844938604,
          -3.8537661198433497,
          -5.099816231329621,
          -3.474560099552208,
          -4.8369601648581675,
          -2.701235190069145,
          -2.5337147554234454,
          -4.648421676841163,
          -4.832645125269951,
          -3.977319426275513,
          -2.403030891610652,
          -4.049393647880324,
          -4.990641439845907,
          -3.001679964759081,
          -5.182322564687878,
          -4.19766447180614,
          -2.568056612826067,
          -5.217158120583843,
          -3.5071059383588525,
          -3.962745981736018,
          -5.5640689605239215,
          -3.773742061454802,
          -4.041975629036594,
          -3.860037219704072,
          -3.862098701995758,
          -4.886262262246499,
          -4.233141816940831,
          -3.009010682109314,
          -3.164388831760111,
          -3.2558451459760414,
          -3.5246721308465596,
          -5.283424107587495,
          -4.178672937237213,
          -5.206401021352671,
          -3.834273920390718,
          -5.047423116571111,
          -5.285176981546217,
          -4.773453575909682,
          -4.8161853258700145,
          -3.6811212489646756,
          -5.218727267800933,
          -3.885629843171137,
          -3.928816466666567,
          -4.058299164805247,
          -4.861446389992734,
          -3.2854774170675385,
          -3.8392202270852493,
          -5.435619209256286,
          -3.8457136255926927,
          -4.171307896896493,
          -2.9723405345373077,
          -4.033534017188079,
          -4.855446662771112,
          -5.089593425278314,
          -4.065209933296222,
          -5.063853754138668,
          -2.663832857010497,
          -4.171417010015049,
          -1.878318359900161,
          -4.077830805174562,
          -3.021837666305186,
          -4.687485258127724,
          -3.840830763712924,
          -2.717550840338308,
          -4.8714406999222515,
          -3.7342282001490448,
          -3.7259289074631665,
          -4.503553443110393,
          -4.978403487375487,
          -1.790798681022557,
          -2.8027399872301073,
          -3.8847339818750464,
          -2.992663429131446,
          -5.10959203671885,
          -4.60166854502116,
          -4.383612901397948,
          -4.176891117204573,
          -5.225699688444661,
          -1.9417013975540982,
          -3.8284092392477747,
          -3.8370453513998237,
          -5.238111855048281,
          -3.024816681407542,
          -3.9182877365793596,
          -5.290755358027009,
          -5.032142543932899
         ],
         "yaxis": "y3"
        },
        {
         "marker": {
          "color": [
           0,
           1,
           2,
           3,
           4,
           5,
           6,
           7,
           8,
           9,
           10,
           11,
           12,
           13,
           14,
           15,
           16,
           17,
           18,
           19,
           20,
           21,
           22,
           23,
           24,
           25,
           26,
           27,
           28,
           29,
           30,
           31,
           32,
           33,
           34,
           35,
           36,
           37,
           38,
           39,
           40,
           41,
           42,
           43,
           44,
           45,
           46,
           47,
           48,
           49,
           50,
           51,
           52,
           53,
           54,
           55,
           56,
           57,
           58,
           59,
           60,
           61,
           62,
           63,
           64,
           65,
           66,
           67,
           68,
           69,
           70,
           71,
           72,
           73,
           74,
           75,
           76,
           77,
           78,
           79,
           80,
           81,
           82,
           83,
           84,
           85,
           86,
           87,
           88,
           89,
           90,
           91,
           92,
           93,
           94,
           95,
           96,
           97,
           98,
           99
          ],
          "colorbar": {
           "title": {
            "text": "Trial"
           },
           "x": 1,
           "xpad": 40
          },
          "colorscale": [
           [
            0,
            "rgb(247,251,255)"
           ],
           [
            0.125,
            "rgb(222,235,247)"
           ],
           [
            0.25,
            "rgb(198,219,239)"
           ],
           [
            0.375,
            "rgb(158,202,225)"
           ],
           [
            0.5,
            "rgb(107,174,214)"
           ],
           [
            0.625,
            "rgb(66,146,198)"
           ],
           [
            0.75,
            "rgb(33,113,181)"
           ],
           [
            0.875,
            "rgb(8,81,156)"
           ],
           [
            1,
            "rgb(8,48,107)"
           ]
          ],
          "line": {
           "color": "Grey",
           "width": 0.5
          },
          "showscale": false
         },
         "mode": "markers",
         "name": "Feasible Trial",
         "showlegend": false,
         "type": "scatter",
         "x": [
          437,
          240,
          641,
          850,
          374,
          651,
          510,
          633,
          158,
          374,
          209,
          333,
          592,
          946,
          179,
          450,
          353,
          167,
          104,
          794,
          877,
          380,
          899,
          785,
          570,
          128,
          917,
          306,
          937,
          824,
          827,
          305,
          106,
          207,
          567,
          967,
          356,
          146,
          230,
          705,
          431,
          181,
          136,
          561,
          722,
          407,
          332,
          577,
          911,
          754,
          678,
          646,
          104,
          687,
          393,
          692,
          338,
          903,
          619,
          352,
          947,
          113,
          968,
          866,
          943,
          654,
          890,
          423,
          881,
          819,
          901,
          621,
          358,
          841,
          793,
          146,
          754,
          816,
          122,
          468,
          594,
          960,
          478,
          112,
          870,
          542,
          459,
          437,
          693,
          123,
          449,
          948,
          276,
          185,
          861,
          206,
          762,
          776,
          435,
          873
         ],
         "xaxis": "x4",
         "y": [
          -4.488999619416664,
          -5.180871459678092,
          -5.621930410356181,
          -3.0184689526378627,
          -3.7733519045940653,
          -3.8487111098384736,
          -4.111840954784502,
          -3.1956971460397265,
          -5.0859662820821345,
          -3.9143518315757673,
          -5.392646534121309,
          -4.0622097075952155,
          -5.032898033452911,
          -5.349410144812519,
          -3.9029669844938604,
          -3.8537661198433497,
          -5.099816231329621,
          -3.474560099552208,
          -4.8369601648581675,
          -2.701235190069145,
          -2.5337147554234454,
          -4.648421676841163,
          -4.832645125269951,
          -3.977319426275513,
          -2.403030891610652,
          -4.049393647880324,
          -4.990641439845907,
          -3.001679964759081,
          -5.182322564687878,
          -4.19766447180614,
          -2.568056612826067,
          -5.217158120583843,
          -3.5071059383588525,
          -3.962745981736018,
          -5.5640689605239215,
          -3.773742061454802,
          -4.041975629036594,
          -3.860037219704072,
          -3.862098701995758,
          -4.886262262246499,
          -4.233141816940831,
          -3.009010682109314,
          -3.164388831760111,
          -3.2558451459760414,
          -3.5246721308465596,
          -5.283424107587495,
          -4.178672937237213,
          -5.206401021352671,
          -3.834273920390718,
          -5.047423116571111,
          -5.285176981546217,
          -4.773453575909682,
          -4.8161853258700145,
          -3.6811212489646756,
          -5.218727267800933,
          -3.885629843171137,
          -3.928816466666567,
          -4.058299164805247,
          -4.861446389992734,
          -3.2854774170675385,
          -3.8392202270852493,
          -5.435619209256286,
          -3.8457136255926927,
          -4.171307896896493,
          -2.9723405345373077,
          -4.033534017188079,
          -4.855446662771112,
          -5.089593425278314,
          -4.065209933296222,
          -5.063853754138668,
          -2.663832857010497,
          -4.171417010015049,
          -1.878318359900161,
          -4.077830805174562,
          -3.021837666305186,
          -4.687485258127724,
          -3.840830763712924,
          -2.717550840338308,
          -4.8714406999222515,
          -3.7342282001490448,
          -3.7259289074631665,
          -4.503553443110393,
          -4.978403487375487,
          -1.790798681022557,
          -2.8027399872301073,
          -3.8847339818750464,
          -2.992663429131446,
          -5.10959203671885,
          -4.60166854502116,
          -4.383612901397948,
          -4.176891117204573,
          -5.225699688444661,
          -1.9417013975540982,
          -3.8284092392477747,
          -3.8370453513998237,
          -5.238111855048281,
          -3.024816681407542,
          -3.9182877365793596,
          -5.290755358027009,
          -5.032142543932899
         ],
         "yaxis": "y4"
        }
       ],
       "layout": {
        "template": {
         "data": {
          "bar": [
           {
            "error_x": {
             "color": "#2a3f5f"
            },
            "error_y": {
             "color": "#2a3f5f"
            },
            "marker": {
             "line": {
              "color": "#E5ECF6",
              "width": 0.5
             },
             "pattern": {
              "fillmode": "overlay",
              "size": 10,
              "solidity": 0.2
             }
            },
            "type": "bar"
           }
          ],
          "barpolar": [
           {
            "marker": {
             "line": {
              "color": "#E5ECF6",
              "width": 0.5
             },
             "pattern": {
              "fillmode": "overlay",
              "size": 10,
              "solidity": 0.2
             }
            },
            "type": "barpolar"
           }
          ],
          "carpet": [
           {
            "aaxis": {
             "endlinecolor": "#2a3f5f",
             "gridcolor": "white",
             "linecolor": "white",
             "minorgridcolor": "white",
             "startlinecolor": "#2a3f5f"
            },
            "baxis": {
             "endlinecolor": "#2a3f5f",
             "gridcolor": "white",
             "linecolor": "white",
             "minorgridcolor": "white",
             "startlinecolor": "#2a3f5f"
            },
            "type": "carpet"
           }
          ],
          "choropleth": [
           {
            "colorbar": {
             "outlinewidth": 0,
             "ticks": ""
            },
            "type": "choropleth"
           }
          ],
          "contour": [
           {
            "colorbar": {
             "outlinewidth": 0,
             "ticks": ""
            },
            "colorscale": [
             [
              0,
              "#0d0887"
             ],
             [
              0.1111111111111111,
              "#46039f"
             ],
             [
              0.2222222222222222,
              "#7201a8"
             ],
             [
              0.3333333333333333,
              "#9c179e"
             ],
             [
              0.4444444444444444,
              "#bd3786"
             ],
             [
              0.5555555555555556,
              "#d8576b"
             ],
             [
              0.6666666666666666,
              "#ed7953"
             ],
             [
              0.7777777777777778,
              "#fb9f3a"
             ],
             [
              0.8888888888888888,
              "#fdca26"
             ],
             [
              1,
              "#f0f921"
             ]
            ],
            "type": "contour"
           }
          ],
          "contourcarpet": [
           {
            "colorbar": {
             "outlinewidth": 0,
             "ticks": ""
            },
            "type": "contourcarpet"
           }
          ],
          "heatmap": [
           {
            "colorbar": {
             "outlinewidth": 0,
             "ticks": ""
            },
            "colorscale": [
             [
              0,
              "#0d0887"
             ],
             [
              0.1111111111111111,
              "#46039f"
             ],
             [
              0.2222222222222222,
              "#7201a8"
             ],
             [
              0.3333333333333333,
              "#9c179e"
             ],
             [
              0.4444444444444444,
              "#bd3786"
             ],
             [
              0.5555555555555556,
              "#d8576b"
             ],
             [
              0.6666666666666666,
              "#ed7953"
             ],
             [
              0.7777777777777778,
              "#fb9f3a"
             ],
             [
              0.8888888888888888,
              "#fdca26"
             ],
             [
              1,
              "#f0f921"
             ]
            ],
            "type": "heatmap"
           }
          ],
          "histogram": [
           {
            "marker": {
             "pattern": {
              "fillmode": "overlay",
              "size": 10,
              "solidity": 0.2
             }
            },
            "type": "histogram"
           }
          ],
          "histogram2d": [
           {
            "colorbar": {
             "outlinewidth": 0,
             "ticks": ""
            },
            "colorscale": [
             [
              0,
              "#0d0887"
             ],
             [
              0.1111111111111111,
              "#46039f"
             ],
             [
              0.2222222222222222,
              "#7201a8"
             ],
             [
              0.3333333333333333,
              "#9c179e"
             ],
             [
              0.4444444444444444,
              "#bd3786"
             ],
             [
              0.5555555555555556,
              "#d8576b"
             ],
             [
              0.6666666666666666,
              "#ed7953"
             ],
             [
              0.7777777777777778,
              "#fb9f3a"
             ],
             [
              0.8888888888888888,
              "#fdca26"
             ],
             [
              1,
              "#f0f921"
             ]
            ],
            "type": "histogram2d"
           }
          ],
          "histogram2dcontour": [
           {
            "colorbar": {
             "outlinewidth": 0,
             "ticks": ""
            },
            "colorscale": [
             [
              0,
              "#0d0887"
             ],
             [
              0.1111111111111111,
              "#46039f"
             ],
             [
              0.2222222222222222,
              "#7201a8"
             ],
             [
              0.3333333333333333,
              "#9c179e"
             ],
             [
              0.4444444444444444,
              "#bd3786"
             ],
             [
              0.5555555555555556,
              "#d8576b"
             ],
             [
              0.6666666666666666,
              "#ed7953"
             ],
             [
              0.7777777777777778,
              "#fb9f3a"
             ],
             [
              0.8888888888888888,
              "#fdca26"
             ],
             [
              1,
              "#f0f921"
             ]
            ],
            "type": "histogram2dcontour"
           }
          ],
          "mesh3d": [
           {
            "colorbar": {
             "outlinewidth": 0,
             "ticks": ""
            },
            "type": "mesh3d"
           }
          ],
          "parcoords": [
           {
            "line": {
             "colorbar": {
              "outlinewidth": 0,
              "ticks": ""
             }
            },
            "type": "parcoords"
           }
          ],
          "pie": [
           {
            "automargin": true,
            "type": "pie"
           }
          ],
          "scatter": [
           {
            "fillpattern": {
             "fillmode": "overlay",
             "size": 10,
             "solidity": 0.2
            },
            "type": "scatter"
           }
          ],
          "scatter3d": [
           {
            "line": {
             "colorbar": {
              "outlinewidth": 0,
              "ticks": ""
             }
            },
            "marker": {
             "colorbar": {
              "outlinewidth": 0,
              "ticks": ""
             }
            },
            "type": "scatter3d"
           }
          ],
          "scattercarpet": [
           {
            "marker": {
             "colorbar": {
              "outlinewidth": 0,
              "ticks": ""
             }
            },
            "type": "scattercarpet"
           }
          ],
          "scattergeo": [
           {
            "marker": {
             "colorbar": {
              "outlinewidth": 0,
              "ticks": ""
             }
            },
            "type": "scattergeo"
           }
          ],
          "scattergl": [
           {
            "marker": {
             "colorbar": {
              "outlinewidth": 0,
              "ticks": ""
             }
            },
            "type": "scattergl"
           }
          ],
          "scattermap": [
           {
            "marker": {
             "colorbar": {
              "outlinewidth": 0,
              "ticks": ""
             }
            },
            "type": "scattermap"
           }
          ],
          "scattermapbox": [
           {
            "marker": {
             "colorbar": {
              "outlinewidth": 0,
              "ticks": ""
             }
            },
            "type": "scattermapbox"
           }
          ],
          "scatterpolar": [
           {
            "marker": {
             "colorbar": {
              "outlinewidth": 0,
              "ticks": ""
             }
            },
            "type": "scatterpolar"
           }
          ],
          "scatterpolargl": [
           {
            "marker": {
             "colorbar": {
              "outlinewidth": 0,
              "ticks": ""
             }
            },
            "type": "scatterpolargl"
           }
          ],
          "scatterternary": [
           {
            "marker": {
             "colorbar": {
              "outlinewidth": 0,
              "ticks": ""
             }
            },
            "type": "scatterternary"
           }
          ],
          "surface": [
           {
            "colorbar": {
             "outlinewidth": 0,
             "ticks": ""
            },
            "colorscale": [
             [
              0,
              "#0d0887"
             ],
             [
              0.1111111111111111,
              "#46039f"
             ],
             [
              0.2222222222222222,
              "#7201a8"
             ],
             [
              0.3333333333333333,
              "#9c179e"
             ],
             [
              0.4444444444444444,
              "#bd3786"
             ],
             [
              0.5555555555555556,
              "#d8576b"
             ],
             [
              0.6666666666666666,
              "#ed7953"
             ],
             [
              0.7777777777777778,
              "#fb9f3a"
             ],
             [
              0.8888888888888888,
              "#fdca26"
             ],
             [
              1,
              "#f0f921"
             ]
            ],
            "type": "surface"
           }
          ],
          "table": [
           {
            "cells": {
             "fill": {
              "color": "#EBF0F8"
             },
             "line": {
              "color": "white"
             }
            },
            "header": {
             "fill": {
              "color": "#C8D4E3"
             },
             "line": {
              "color": "white"
             }
            },
            "type": "table"
           }
          ]
         },
         "layout": {
          "annotationdefaults": {
           "arrowcolor": "#2a3f5f",
           "arrowhead": 0,
           "arrowwidth": 1
          },
          "autotypenumbers": "strict",
          "coloraxis": {
           "colorbar": {
            "outlinewidth": 0,
            "ticks": ""
           }
          },
          "colorscale": {
           "diverging": [
            [
             0,
             "#8e0152"
            ],
            [
             0.1,
             "#c51b7d"
            ],
            [
             0.2,
             "#de77ae"
            ],
            [
             0.3,
             "#f1b6da"
            ],
            [
             0.4,
             "#fde0ef"
            ],
            [
             0.5,
             "#f7f7f7"
            ],
            [
             0.6,
             "#e6f5d0"
            ],
            [
             0.7,
             "#b8e186"
            ],
            [
             0.8,
             "#7fbc41"
            ],
            [
             0.9,
             "#4d9221"
            ],
            [
             1,
             "#276419"
            ]
           ],
           "sequential": [
            [
             0,
             "#0d0887"
            ],
            [
             0.1111111111111111,
             "#46039f"
            ],
            [
             0.2222222222222222,
             "#7201a8"
            ],
            [
             0.3333333333333333,
             "#9c179e"
            ],
            [
             0.4444444444444444,
             "#bd3786"
            ],
            [
             0.5555555555555556,
             "#d8576b"
            ],
            [
             0.6666666666666666,
             "#ed7953"
            ],
            [
             0.7777777777777778,
             "#fb9f3a"
            ],
            [
             0.8888888888888888,
             "#fdca26"
            ],
            [
             1,
             "#f0f921"
            ]
           ],
           "sequentialminus": [
            [
             0,
             "#0d0887"
            ],
            [
             0.1111111111111111,
             "#46039f"
            ],
            [
             0.2222222222222222,
             "#7201a8"
            ],
            [
             0.3333333333333333,
             "#9c179e"
            ],
            [
             0.4444444444444444,
             "#bd3786"
            ],
            [
             0.5555555555555556,
             "#d8576b"
            ],
            [
             0.6666666666666666,
             "#ed7953"
            ],
            [
             0.7777777777777778,
             "#fb9f3a"
            ],
            [
             0.8888888888888888,
             "#fdca26"
            ],
            [
             1,
             "#f0f921"
            ]
           ]
          },
          "colorway": [
           "#636efa",
           "#EF553B",
           "#00cc96",
           "#ab63fa",
           "#FFA15A",
           "#19d3f3",
           "#FF6692",
           "#B6E880",
           "#FF97FF",
           "#FECB52"
          ],
          "font": {
           "color": "#2a3f5f"
          },
          "geo": {
           "bgcolor": "white",
           "lakecolor": "white",
           "landcolor": "#E5ECF6",
           "showlakes": true,
           "showland": true,
           "subunitcolor": "white"
          },
          "hoverlabel": {
           "align": "left"
          },
          "hovermode": "closest",
          "mapbox": {
           "style": "light"
          },
          "paper_bgcolor": "white",
          "plot_bgcolor": "#E5ECF6",
          "polar": {
           "angularaxis": {
            "gridcolor": "white",
            "linecolor": "white",
            "ticks": ""
           },
           "bgcolor": "#E5ECF6",
           "radialaxis": {
            "gridcolor": "white",
            "linecolor": "white",
            "ticks": ""
           }
          },
          "scene": {
           "xaxis": {
            "backgroundcolor": "#E5ECF6",
            "gridcolor": "white",
            "gridwidth": 2,
            "linecolor": "white",
            "showbackground": true,
            "ticks": "",
            "zerolinecolor": "white"
           },
           "yaxis": {
            "backgroundcolor": "#E5ECF6",
            "gridcolor": "white",
            "gridwidth": 2,
            "linecolor": "white",
            "showbackground": true,
            "ticks": "",
            "zerolinecolor": "white"
           },
           "zaxis": {
            "backgroundcolor": "#E5ECF6",
            "gridcolor": "white",
            "gridwidth": 2,
            "linecolor": "white",
            "showbackground": true,
            "ticks": "",
            "zerolinecolor": "white"
           }
          },
          "shapedefaults": {
           "line": {
            "color": "#2a3f5f"
           }
          },
          "ternary": {
           "aaxis": {
            "gridcolor": "white",
            "linecolor": "white",
            "ticks": ""
           },
           "baxis": {
            "gridcolor": "white",
            "linecolor": "white",
            "ticks": ""
           },
           "bgcolor": "#E5ECF6",
           "caxis": {
            "gridcolor": "white",
            "linecolor": "white",
            "ticks": ""
           }
          },
          "title": {
           "x": 0.05
          },
          "xaxis": {
           "automargin": true,
           "gridcolor": "white",
           "linecolor": "white",
           "ticks": "",
           "title": {
            "standoff": 15
           },
           "zerolinecolor": "white",
           "zerolinewidth": 2
          },
          "yaxis": {
           "automargin": true,
           "gridcolor": "white",
           "linecolor": "white",
           "ticks": "",
           "title": {
            "standoff": 15
           },
           "zerolinecolor": "white",
           "zerolinewidth": 2
          }
         }
        },
        "title": {
         "text": "Slice Plot"
        },
        "width": 1200,
        "xaxis": {
         "anchor": "y",
         "domain": [
          0,
          0.2125
         ],
         "title": {
          "text": "max_depth"
         }
        },
        "xaxis2": {
         "anchor": "y2",
         "domain": [
          0.2625,
          0.475
         ],
         "title": {
          "text": "min_samples_leaf"
         }
        },
        "xaxis3": {
         "anchor": "y3",
         "domain": [
          0.525,
          0.7375
         ],
         "title": {
          "text": "min_samples_split"
         }
        },
        "xaxis4": {
         "anchor": "y4",
         "domain": [
          0.7875,
          1
         ],
         "title": {
          "text": "n_estimators"
         }
        },
        "yaxis": {
         "anchor": "x",
         "domain": [
          0,
          1
         ],
         "title": {
          "text": "Objective Value"
         }
        },
        "yaxis2": {
         "anchor": "x2",
         "domain": [
          0,
          1
         ],
         "matches": "y",
         "showticklabels": false
        },
        "yaxis3": {
         "anchor": "x3",
         "domain": [
          0,
          1
         ],
         "matches": "y",
         "showticklabels": false
        },
        "yaxis4": {
         "anchor": "x4",
         "domain": [
          0,
          1
         ],
         "matches": "y",
         "showticklabels": false
        }
       }
      }
     },
     "metadata": {},
     "output_type": "display_data"
    }
   ],
   "source": [
    "optuna.visualization.plot_slice(study, params=['n_estimators', 'max_depth', 'min_samples_leaf', 'min_samples_split'])"
   ]
  },
  {
   "cell_type": "code",
   "execution_count": 41,
   "id": "7f0e9036",
   "metadata": {},
   "outputs": [
    {
     "data": {
      "application/vnd.plotly.v1+json": {
       "config": {
        "plotlyServerURL": "https://plot.ly"
       },
       "data": [
        {
         "cliponaxis": false,
         "hovertemplate": [
          "max_depth (IntDistribution): 0.000188096499518622<extra></extra>",
          "n_estimators (IntDistribution): 0.0011320408916120897<extra></extra>",
          "min_samples_split (IntDistribution): 0.006824088461970946<extra></extra>",
          "min_samples_leaf (IntDistribution): 0.9918557741468983<extra></extra>"
         ],
         "name": "Objective Value",
         "orientation": "h",
         "text": [
          "<0.01",
          "<0.01",
          "<0.01",
          "0.99"
         ],
         "textposition": "outside",
         "type": "bar",
         "x": [
          0.000188096499518622,
          0.0011320408916120897,
          0.006824088461970946,
          0.9918557741468983
         ],
         "y": [
          "max_depth",
          "n_estimators",
          "min_samples_split",
          "min_samples_leaf"
         ]
        }
       ],
       "layout": {
        "template": {
         "data": {
          "bar": [
           {
            "error_x": {
             "color": "#2a3f5f"
            },
            "error_y": {
             "color": "#2a3f5f"
            },
            "marker": {
             "line": {
              "color": "#E5ECF6",
              "width": 0.5
             },
             "pattern": {
              "fillmode": "overlay",
              "size": 10,
              "solidity": 0.2
             }
            },
            "type": "bar"
           }
          ],
          "barpolar": [
           {
            "marker": {
             "line": {
              "color": "#E5ECF6",
              "width": 0.5
             },
             "pattern": {
              "fillmode": "overlay",
              "size": 10,
              "solidity": 0.2
             }
            },
            "type": "barpolar"
           }
          ],
          "carpet": [
           {
            "aaxis": {
             "endlinecolor": "#2a3f5f",
             "gridcolor": "white",
             "linecolor": "white",
             "minorgridcolor": "white",
             "startlinecolor": "#2a3f5f"
            },
            "baxis": {
             "endlinecolor": "#2a3f5f",
             "gridcolor": "white",
             "linecolor": "white",
             "minorgridcolor": "white",
             "startlinecolor": "#2a3f5f"
            },
            "type": "carpet"
           }
          ],
          "choropleth": [
           {
            "colorbar": {
             "outlinewidth": 0,
             "ticks": ""
            },
            "type": "choropleth"
           }
          ],
          "contour": [
           {
            "colorbar": {
             "outlinewidth": 0,
             "ticks": ""
            },
            "colorscale": [
             [
              0,
              "#0d0887"
             ],
             [
              0.1111111111111111,
              "#46039f"
             ],
             [
              0.2222222222222222,
              "#7201a8"
             ],
             [
              0.3333333333333333,
              "#9c179e"
             ],
             [
              0.4444444444444444,
              "#bd3786"
             ],
             [
              0.5555555555555556,
              "#d8576b"
             ],
             [
              0.6666666666666666,
              "#ed7953"
             ],
             [
              0.7777777777777778,
              "#fb9f3a"
             ],
             [
              0.8888888888888888,
              "#fdca26"
             ],
             [
              1,
              "#f0f921"
             ]
            ],
            "type": "contour"
           }
          ],
          "contourcarpet": [
           {
            "colorbar": {
             "outlinewidth": 0,
             "ticks": ""
            },
            "type": "contourcarpet"
           }
          ],
          "heatmap": [
           {
            "colorbar": {
             "outlinewidth": 0,
             "ticks": ""
            },
            "colorscale": [
             [
              0,
              "#0d0887"
             ],
             [
              0.1111111111111111,
              "#46039f"
             ],
             [
              0.2222222222222222,
              "#7201a8"
             ],
             [
              0.3333333333333333,
              "#9c179e"
             ],
             [
              0.4444444444444444,
              "#bd3786"
             ],
             [
              0.5555555555555556,
              "#d8576b"
             ],
             [
              0.6666666666666666,
              "#ed7953"
             ],
             [
              0.7777777777777778,
              "#fb9f3a"
             ],
             [
              0.8888888888888888,
              "#fdca26"
             ],
             [
              1,
              "#f0f921"
             ]
            ],
            "type": "heatmap"
           }
          ],
          "histogram": [
           {
            "marker": {
             "pattern": {
              "fillmode": "overlay",
              "size": 10,
              "solidity": 0.2
             }
            },
            "type": "histogram"
           }
          ],
          "histogram2d": [
           {
            "colorbar": {
             "outlinewidth": 0,
             "ticks": ""
            },
            "colorscale": [
             [
              0,
              "#0d0887"
             ],
             [
              0.1111111111111111,
              "#46039f"
             ],
             [
              0.2222222222222222,
              "#7201a8"
             ],
             [
              0.3333333333333333,
              "#9c179e"
             ],
             [
              0.4444444444444444,
              "#bd3786"
             ],
             [
              0.5555555555555556,
              "#d8576b"
             ],
             [
              0.6666666666666666,
              "#ed7953"
             ],
             [
              0.7777777777777778,
              "#fb9f3a"
             ],
             [
              0.8888888888888888,
              "#fdca26"
             ],
             [
              1,
              "#f0f921"
             ]
            ],
            "type": "histogram2d"
           }
          ],
          "histogram2dcontour": [
           {
            "colorbar": {
             "outlinewidth": 0,
             "ticks": ""
            },
            "colorscale": [
             [
              0,
              "#0d0887"
             ],
             [
              0.1111111111111111,
              "#46039f"
             ],
             [
              0.2222222222222222,
              "#7201a8"
             ],
             [
              0.3333333333333333,
              "#9c179e"
             ],
             [
              0.4444444444444444,
              "#bd3786"
             ],
             [
              0.5555555555555556,
              "#d8576b"
             ],
             [
              0.6666666666666666,
              "#ed7953"
             ],
             [
              0.7777777777777778,
              "#fb9f3a"
             ],
             [
              0.8888888888888888,
              "#fdca26"
             ],
             [
              1,
              "#f0f921"
             ]
            ],
            "type": "histogram2dcontour"
           }
          ],
          "mesh3d": [
           {
            "colorbar": {
             "outlinewidth": 0,
             "ticks": ""
            },
            "type": "mesh3d"
           }
          ],
          "parcoords": [
           {
            "line": {
             "colorbar": {
              "outlinewidth": 0,
              "ticks": ""
             }
            },
            "type": "parcoords"
           }
          ],
          "pie": [
           {
            "automargin": true,
            "type": "pie"
           }
          ],
          "scatter": [
           {
            "fillpattern": {
             "fillmode": "overlay",
             "size": 10,
             "solidity": 0.2
            },
            "type": "scatter"
           }
          ],
          "scatter3d": [
           {
            "line": {
             "colorbar": {
              "outlinewidth": 0,
              "ticks": ""
             }
            },
            "marker": {
             "colorbar": {
              "outlinewidth": 0,
              "ticks": ""
             }
            },
            "type": "scatter3d"
           }
          ],
          "scattercarpet": [
           {
            "marker": {
             "colorbar": {
              "outlinewidth": 0,
              "ticks": ""
             }
            },
            "type": "scattercarpet"
           }
          ],
          "scattergeo": [
           {
            "marker": {
             "colorbar": {
              "outlinewidth": 0,
              "ticks": ""
             }
            },
            "type": "scattergeo"
           }
          ],
          "scattergl": [
           {
            "marker": {
             "colorbar": {
              "outlinewidth": 0,
              "ticks": ""
             }
            },
            "type": "scattergl"
           }
          ],
          "scattermap": [
           {
            "marker": {
             "colorbar": {
              "outlinewidth": 0,
              "ticks": ""
             }
            },
            "type": "scattermap"
           }
          ],
          "scattermapbox": [
           {
            "marker": {
             "colorbar": {
              "outlinewidth": 0,
              "ticks": ""
             }
            },
            "type": "scattermapbox"
           }
          ],
          "scatterpolar": [
           {
            "marker": {
             "colorbar": {
              "outlinewidth": 0,
              "ticks": ""
             }
            },
            "type": "scatterpolar"
           }
          ],
          "scatterpolargl": [
           {
            "marker": {
             "colorbar": {
              "outlinewidth": 0,
              "ticks": ""
             }
            },
            "type": "scatterpolargl"
           }
          ],
          "scatterternary": [
           {
            "marker": {
             "colorbar": {
              "outlinewidth": 0,
              "ticks": ""
             }
            },
            "type": "scatterternary"
           }
          ],
          "surface": [
           {
            "colorbar": {
             "outlinewidth": 0,
             "ticks": ""
            },
            "colorscale": [
             [
              0,
              "#0d0887"
             ],
             [
              0.1111111111111111,
              "#46039f"
             ],
             [
              0.2222222222222222,
              "#7201a8"
             ],
             [
              0.3333333333333333,
              "#9c179e"
             ],
             [
              0.4444444444444444,
              "#bd3786"
             ],
             [
              0.5555555555555556,
              "#d8576b"
             ],
             [
              0.6666666666666666,
              "#ed7953"
             ],
             [
              0.7777777777777778,
              "#fb9f3a"
             ],
             [
              0.8888888888888888,
              "#fdca26"
             ],
             [
              1,
              "#f0f921"
             ]
            ],
            "type": "surface"
           }
          ],
          "table": [
           {
            "cells": {
             "fill": {
              "color": "#EBF0F8"
             },
             "line": {
              "color": "white"
             }
            },
            "header": {
             "fill": {
              "color": "#C8D4E3"
             },
             "line": {
              "color": "white"
             }
            },
            "type": "table"
           }
          ]
         },
         "layout": {
          "annotationdefaults": {
           "arrowcolor": "#2a3f5f",
           "arrowhead": 0,
           "arrowwidth": 1
          },
          "autotypenumbers": "strict",
          "coloraxis": {
           "colorbar": {
            "outlinewidth": 0,
            "ticks": ""
           }
          },
          "colorscale": {
           "diverging": [
            [
             0,
             "#8e0152"
            ],
            [
             0.1,
             "#c51b7d"
            ],
            [
             0.2,
             "#de77ae"
            ],
            [
             0.3,
             "#f1b6da"
            ],
            [
             0.4,
             "#fde0ef"
            ],
            [
             0.5,
             "#f7f7f7"
            ],
            [
             0.6,
             "#e6f5d0"
            ],
            [
             0.7,
             "#b8e186"
            ],
            [
             0.8,
             "#7fbc41"
            ],
            [
             0.9,
             "#4d9221"
            ],
            [
             1,
             "#276419"
            ]
           ],
           "sequential": [
            [
             0,
             "#0d0887"
            ],
            [
             0.1111111111111111,
             "#46039f"
            ],
            [
             0.2222222222222222,
             "#7201a8"
            ],
            [
             0.3333333333333333,
             "#9c179e"
            ],
            [
             0.4444444444444444,
             "#bd3786"
            ],
            [
             0.5555555555555556,
             "#d8576b"
            ],
            [
             0.6666666666666666,
             "#ed7953"
            ],
            [
             0.7777777777777778,
             "#fb9f3a"
            ],
            [
             0.8888888888888888,
             "#fdca26"
            ],
            [
             1,
             "#f0f921"
            ]
           ],
           "sequentialminus": [
            [
             0,
             "#0d0887"
            ],
            [
             0.1111111111111111,
             "#46039f"
            ],
            [
             0.2222222222222222,
             "#7201a8"
            ],
            [
             0.3333333333333333,
             "#9c179e"
            ],
            [
             0.4444444444444444,
             "#bd3786"
            ],
            [
             0.5555555555555556,
             "#d8576b"
            ],
            [
             0.6666666666666666,
             "#ed7953"
            ],
            [
             0.7777777777777778,
             "#fb9f3a"
            ],
            [
             0.8888888888888888,
             "#fdca26"
            ],
            [
             1,
             "#f0f921"
            ]
           ]
          },
          "colorway": [
           "#636efa",
           "#EF553B",
           "#00cc96",
           "#ab63fa",
           "#FFA15A",
           "#19d3f3",
           "#FF6692",
           "#B6E880",
           "#FF97FF",
           "#FECB52"
          ],
          "font": {
           "color": "#2a3f5f"
          },
          "geo": {
           "bgcolor": "white",
           "lakecolor": "white",
           "landcolor": "#E5ECF6",
           "showlakes": true,
           "showland": true,
           "subunitcolor": "white"
          },
          "hoverlabel": {
           "align": "left"
          },
          "hovermode": "closest",
          "mapbox": {
           "style": "light"
          },
          "paper_bgcolor": "white",
          "plot_bgcolor": "#E5ECF6",
          "polar": {
           "angularaxis": {
            "gridcolor": "white",
            "linecolor": "white",
            "ticks": ""
           },
           "bgcolor": "#E5ECF6",
           "radialaxis": {
            "gridcolor": "white",
            "linecolor": "white",
            "ticks": ""
           }
          },
          "scene": {
           "xaxis": {
            "backgroundcolor": "#E5ECF6",
            "gridcolor": "white",
            "gridwidth": 2,
            "linecolor": "white",
            "showbackground": true,
            "ticks": "",
            "zerolinecolor": "white"
           },
           "yaxis": {
            "backgroundcolor": "#E5ECF6",
            "gridcolor": "white",
            "gridwidth": 2,
            "linecolor": "white",
            "showbackground": true,
            "ticks": "",
            "zerolinecolor": "white"
           },
           "zaxis": {
            "backgroundcolor": "#E5ECF6",
            "gridcolor": "white",
            "gridwidth": 2,
            "linecolor": "white",
            "showbackground": true,
            "ticks": "",
            "zerolinecolor": "white"
           }
          },
          "shapedefaults": {
           "line": {
            "color": "#2a3f5f"
           }
          },
          "ternary": {
           "aaxis": {
            "gridcolor": "white",
            "linecolor": "white",
            "ticks": ""
           },
           "baxis": {
            "gridcolor": "white",
            "linecolor": "white",
            "ticks": ""
           },
           "bgcolor": "#E5ECF6",
           "caxis": {
            "gridcolor": "white",
            "linecolor": "white",
            "ticks": ""
           }
          },
          "title": {
           "x": 0.05
          },
          "xaxis": {
           "automargin": true,
           "gridcolor": "white",
           "linecolor": "white",
           "ticks": "",
           "title": {
            "standoff": 15
           },
           "zerolinecolor": "white",
           "zerolinewidth": 2
          },
          "yaxis": {
           "automargin": true,
           "gridcolor": "white",
           "linecolor": "white",
           "ticks": "",
           "title": {
            "standoff": 15
           },
           "zerolinecolor": "white",
           "zerolinewidth": 2
          }
         }
        },
        "title": {
         "text": "Hyperparameter Importances"
        },
        "xaxis": {
         "title": {
          "text": "Hyperparameter Importance"
         }
        },
        "yaxis": {
         "title": {
          "text": "Hyperparameter"
         }
        }
       }
      }
     },
     "metadata": {},
     "output_type": "display_data"
    }
   ],
   "source": [
    "optuna.visualization.plot_param_importances(study)"
   ]
  },
  {
   "cell_type": "code",
   "execution_count": 42,
   "id": "cae64082",
   "metadata": {},
   "outputs": [],
   "source": [
    "best_n_estimators = best_params['n_estimators']\n",
    "best_max_depth = best_params['max_depth']\n",
    "best_min_samples_split = best_params['min_samples_split']\n",
    "best_min_samples_leaf = best_params['min_samples_leaf']"
   ]
  },
  {
   "cell_type": "code",
   "execution_count": 51,
   "id": "f079ea00",
   "metadata": {},
   "outputs": [
    {
     "data": {
      "text/html": [
       "<style>#sk-container-id-4 {\n",
       "  /* Definition of color scheme common for light and dark mode */\n",
       "  --sklearn-color-text: #000;\n",
       "  --sklearn-color-text-muted: #666;\n",
       "  --sklearn-color-line: gray;\n",
       "  /* Definition of color scheme for unfitted estimators */\n",
       "  --sklearn-color-unfitted-level-0: #fff5e6;\n",
       "  --sklearn-color-unfitted-level-1: #f6e4d2;\n",
       "  --sklearn-color-unfitted-level-2: #ffe0b3;\n",
       "  --sklearn-color-unfitted-level-3: chocolate;\n",
       "  /* Definition of color scheme for fitted estimators */\n",
       "  --sklearn-color-fitted-level-0: #f0f8ff;\n",
       "  --sklearn-color-fitted-level-1: #d4ebff;\n",
       "  --sklearn-color-fitted-level-2: #b3dbfd;\n",
       "  --sklearn-color-fitted-level-3: cornflowerblue;\n",
       "\n",
       "  /* Specific color for light theme */\n",
       "  --sklearn-color-text-on-default-background: var(--sg-text-color, var(--theme-code-foreground, var(--jp-content-font-color1, black)));\n",
       "  --sklearn-color-background: var(--sg-background-color, var(--theme-background, var(--jp-layout-color0, white)));\n",
       "  --sklearn-color-border-box: var(--sg-text-color, var(--theme-code-foreground, var(--jp-content-font-color1, black)));\n",
       "  --sklearn-color-icon: #696969;\n",
       "\n",
       "  @media (prefers-color-scheme: dark) {\n",
       "    /* Redefinition of color scheme for dark theme */\n",
       "    --sklearn-color-text-on-default-background: var(--sg-text-color, var(--theme-code-foreground, var(--jp-content-font-color1, white)));\n",
       "    --sklearn-color-background: var(--sg-background-color, var(--theme-background, var(--jp-layout-color0, #111)));\n",
       "    --sklearn-color-border-box: var(--sg-text-color, var(--theme-code-foreground, var(--jp-content-font-color1, white)));\n",
       "    --sklearn-color-icon: #878787;\n",
       "  }\n",
       "}\n",
       "\n",
       "#sk-container-id-4 {\n",
       "  color: var(--sklearn-color-text);\n",
       "}\n",
       "\n",
       "#sk-container-id-4 pre {\n",
       "  padding: 0;\n",
       "}\n",
       "\n",
       "#sk-container-id-4 input.sk-hidden--visually {\n",
       "  border: 0;\n",
       "  clip: rect(1px 1px 1px 1px);\n",
       "  clip: rect(1px, 1px, 1px, 1px);\n",
       "  height: 1px;\n",
       "  margin: -1px;\n",
       "  overflow: hidden;\n",
       "  padding: 0;\n",
       "  position: absolute;\n",
       "  width: 1px;\n",
       "}\n",
       "\n",
       "#sk-container-id-4 div.sk-dashed-wrapped {\n",
       "  border: 1px dashed var(--sklearn-color-line);\n",
       "  margin: 0 0.4em 0.5em 0.4em;\n",
       "  box-sizing: border-box;\n",
       "  padding-bottom: 0.4em;\n",
       "  background-color: var(--sklearn-color-background);\n",
       "}\n",
       "\n",
       "#sk-container-id-4 div.sk-container {\n",
       "  /* jupyter's `normalize.less` sets `[hidden] { display: none; }`\n",
       "     but bootstrap.min.css set `[hidden] { display: none !important; }`\n",
       "     so we also need the `!important` here to be able to override the\n",
       "     default hidden behavior on the sphinx rendered scikit-learn.org.\n",
       "     See: https://github.com/scikit-learn/scikit-learn/issues/21755 */\n",
       "  display: inline-block !important;\n",
       "  position: relative;\n",
       "}\n",
       "\n",
       "#sk-container-id-4 div.sk-text-repr-fallback {\n",
       "  display: none;\n",
       "}\n",
       "\n",
       "div.sk-parallel-item,\n",
       "div.sk-serial,\n",
       "div.sk-item {\n",
       "  /* draw centered vertical line to link estimators */\n",
       "  background-image: linear-gradient(var(--sklearn-color-text-on-default-background), var(--sklearn-color-text-on-default-background));\n",
       "  background-size: 2px 100%;\n",
       "  background-repeat: no-repeat;\n",
       "  background-position: center center;\n",
       "}\n",
       "\n",
       "/* Parallel-specific style estimator block */\n",
       "\n",
       "#sk-container-id-4 div.sk-parallel-item::after {\n",
       "  content: \"\";\n",
       "  width: 100%;\n",
       "  border-bottom: 2px solid var(--sklearn-color-text-on-default-background);\n",
       "  flex-grow: 1;\n",
       "}\n",
       "\n",
       "#sk-container-id-4 div.sk-parallel {\n",
       "  display: flex;\n",
       "  align-items: stretch;\n",
       "  justify-content: center;\n",
       "  background-color: var(--sklearn-color-background);\n",
       "  position: relative;\n",
       "}\n",
       "\n",
       "#sk-container-id-4 div.sk-parallel-item {\n",
       "  display: flex;\n",
       "  flex-direction: column;\n",
       "}\n",
       "\n",
       "#sk-container-id-4 div.sk-parallel-item:first-child::after {\n",
       "  align-self: flex-end;\n",
       "  width: 50%;\n",
       "}\n",
       "\n",
       "#sk-container-id-4 div.sk-parallel-item:last-child::after {\n",
       "  align-self: flex-start;\n",
       "  width: 50%;\n",
       "}\n",
       "\n",
       "#sk-container-id-4 div.sk-parallel-item:only-child::after {\n",
       "  width: 0;\n",
       "}\n",
       "\n",
       "/* Serial-specific style estimator block */\n",
       "\n",
       "#sk-container-id-4 div.sk-serial {\n",
       "  display: flex;\n",
       "  flex-direction: column;\n",
       "  align-items: center;\n",
       "  background-color: var(--sklearn-color-background);\n",
       "  padding-right: 1em;\n",
       "  padding-left: 1em;\n",
       "}\n",
       "\n",
       "\n",
       "/* Toggleable style: style used for estimator/Pipeline/ColumnTransformer box that is\n",
       "clickable and can be expanded/collapsed.\n",
       "- Pipeline and ColumnTransformer use this feature and define the default style\n",
       "- Estimators will overwrite some part of the style using the `sk-estimator` class\n",
       "*/\n",
       "\n",
       "/* Pipeline and ColumnTransformer style (default) */\n",
       "\n",
       "#sk-container-id-4 div.sk-toggleable {\n",
       "  /* Default theme specific background. It is overwritten whether we have a\n",
       "  specific estimator or a Pipeline/ColumnTransformer */\n",
       "  background-color: var(--sklearn-color-background);\n",
       "}\n",
       "\n",
       "/* Toggleable label */\n",
       "#sk-container-id-4 label.sk-toggleable__label {\n",
       "  cursor: pointer;\n",
       "  display: flex;\n",
       "  width: 100%;\n",
       "  margin-bottom: 0;\n",
       "  padding: 0.5em;\n",
       "  box-sizing: border-box;\n",
       "  text-align: center;\n",
       "  align-items: start;\n",
       "  justify-content: space-between;\n",
       "  gap: 0.5em;\n",
       "}\n",
       "\n",
       "#sk-container-id-4 label.sk-toggleable__label .caption {\n",
       "  font-size: 0.6rem;\n",
       "  font-weight: lighter;\n",
       "  color: var(--sklearn-color-text-muted);\n",
       "}\n",
       "\n",
       "#sk-container-id-4 label.sk-toggleable__label-arrow:before {\n",
       "  /* Arrow on the left of the label */\n",
       "  content: \"▸\";\n",
       "  float: left;\n",
       "  margin-right: 0.25em;\n",
       "  color: var(--sklearn-color-icon);\n",
       "}\n",
       "\n",
       "#sk-container-id-4 label.sk-toggleable__label-arrow:hover:before {\n",
       "  color: var(--sklearn-color-text);\n",
       "}\n",
       "\n",
       "/* Toggleable content - dropdown */\n",
       "\n",
       "#sk-container-id-4 div.sk-toggleable__content {\n",
       "  max-height: 0;\n",
       "  max-width: 0;\n",
       "  overflow: hidden;\n",
       "  text-align: left;\n",
       "  /* unfitted */\n",
       "  background-color: var(--sklearn-color-unfitted-level-0);\n",
       "}\n",
       "\n",
       "#sk-container-id-4 div.sk-toggleable__content.fitted {\n",
       "  /* fitted */\n",
       "  background-color: var(--sklearn-color-fitted-level-0);\n",
       "}\n",
       "\n",
       "#sk-container-id-4 div.sk-toggleable__content pre {\n",
       "  margin: 0.2em;\n",
       "  border-radius: 0.25em;\n",
       "  color: var(--sklearn-color-text);\n",
       "  /* unfitted */\n",
       "  background-color: var(--sklearn-color-unfitted-level-0);\n",
       "}\n",
       "\n",
       "#sk-container-id-4 div.sk-toggleable__content.fitted pre {\n",
       "  /* unfitted */\n",
       "  background-color: var(--sklearn-color-fitted-level-0);\n",
       "}\n",
       "\n",
       "#sk-container-id-4 input.sk-toggleable__control:checked~div.sk-toggleable__content {\n",
       "  /* Expand drop-down */\n",
       "  max-height: 200px;\n",
       "  max-width: 100%;\n",
       "  overflow: auto;\n",
       "}\n",
       "\n",
       "#sk-container-id-4 input.sk-toggleable__control:checked~label.sk-toggleable__label-arrow:before {\n",
       "  content: \"▾\";\n",
       "}\n",
       "\n",
       "/* Pipeline/ColumnTransformer-specific style */\n",
       "\n",
       "#sk-container-id-4 div.sk-label input.sk-toggleable__control:checked~label.sk-toggleable__label {\n",
       "  color: var(--sklearn-color-text);\n",
       "  background-color: var(--sklearn-color-unfitted-level-2);\n",
       "}\n",
       "\n",
       "#sk-container-id-4 div.sk-label.fitted input.sk-toggleable__control:checked~label.sk-toggleable__label {\n",
       "  background-color: var(--sklearn-color-fitted-level-2);\n",
       "}\n",
       "\n",
       "/* Estimator-specific style */\n",
       "\n",
       "/* Colorize estimator box */\n",
       "#sk-container-id-4 div.sk-estimator input.sk-toggleable__control:checked~label.sk-toggleable__label {\n",
       "  /* unfitted */\n",
       "  background-color: var(--sklearn-color-unfitted-level-2);\n",
       "}\n",
       "\n",
       "#sk-container-id-4 div.sk-estimator.fitted input.sk-toggleable__control:checked~label.sk-toggleable__label {\n",
       "  /* fitted */\n",
       "  background-color: var(--sklearn-color-fitted-level-2);\n",
       "}\n",
       "\n",
       "#sk-container-id-4 div.sk-label label.sk-toggleable__label,\n",
       "#sk-container-id-4 div.sk-label label {\n",
       "  /* The background is the default theme color */\n",
       "  color: var(--sklearn-color-text-on-default-background);\n",
       "}\n",
       "\n",
       "/* On hover, darken the color of the background */\n",
       "#sk-container-id-4 div.sk-label:hover label.sk-toggleable__label {\n",
       "  color: var(--sklearn-color-text);\n",
       "  background-color: var(--sklearn-color-unfitted-level-2);\n",
       "}\n",
       "\n",
       "/* Label box, darken color on hover, fitted */\n",
       "#sk-container-id-4 div.sk-label.fitted:hover label.sk-toggleable__label.fitted {\n",
       "  color: var(--sklearn-color-text);\n",
       "  background-color: var(--sklearn-color-fitted-level-2);\n",
       "}\n",
       "\n",
       "/* Estimator label */\n",
       "\n",
       "#sk-container-id-4 div.sk-label label {\n",
       "  font-family: monospace;\n",
       "  font-weight: bold;\n",
       "  display: inline-block;\n",
       "  line-height: 1.2em;\n",
       "}\n",
       "\n",
       "#sk-container-id-4 div.sk-label-container {\n",
       "  text-align: center;\n",
       "}\n",
       "\n",
       "/* Estimator-specific */\n",
       "#sk-container-id-4 div.sk-estimator {\n",
       "  font-family: monospace;\n",
       "  border: 1px dotted var(--sklearn-color-border-box);\n",
       "  border-radius: 0.25em;\n",
       "  box-sizing: border-box;\n",
       "  margin-bottom: 0.5em;\n",
       "  /* unfitted */\n",
       "  background-color: var(--sklearn-color-unfitted-level-0);\n",
       "}\n",
       "\n",
       "#sk-container-id-4 div.sk-estimator.fitted {\n",
       "  /* fitted */\n",
       "  background-color: var(--sklearn-color-fitted-level-0);\n",
       "}\n",
       "\n",
       "/* on hover */\n",
       "#sk-container-id-4 div.sk-estimator:hover {\n",
       "  /* unfitted */\n",
       "  background-color: var(--sklearn-color-unfitted-level-2);\n",
       "}\n",
       "\n",
       "#sk-container-id-4 div.sk-estimator.fitted:hover {\n",
       "  /* fitted */\n",
       "  background-color: var(--sklearn-color-fitted-level-2);\n",
       "}\n",
       "\n",
       "/* Specification for estimator info (e.g. \"i\" and \"?\") */\n",
       "\n",
       "/* Common style for \"i\" and \"?\" */\n",
       "\n",
       ".sk-estimator-doc-link,\n",
       "a:link.sk-estimator-doc-link,\n",
       "a:visited.sk-estimator-doc-link {\n",
       "  float: right;\n",
       "  font-size: smaller;\n",
       "  line-height: 1em;\n",
       "  font-family: monospace;\n",
       "  background-color: var(--sklearn-color-background);\n",
       "  border-radius: 1em;\n",
       "  height: 1em;\n",
       "  width: 1em;\n",
       "  text-decoration: none !important;\n",
       "  margin-left: 0.5em;\n",
       "  text-align: center;\n",
       "  /* unfitted */\n",
       "  border: var(--sklearn-color-unfitted-level-1) 1pt solid;\n",
       "  color: var(--sklearn-color-unfitted-level-1);\n",
       "}\n",
       "\n",
       ".sk-estimator-doc-link.fitted,\n",
       "a:link.sk-estimator-doc-link.fitted,\n",
       "a:visited.sk-estimator-doc-link.fitted {\n",
       "  /* fitted */\n",
       "  border: var(--sklearn-color-fitted-level-1) 1pt solid;\n",
       "  color: var(--sklearn-color-fitted-level-1);\n",
       "}\n",
       "\n",
       "/* On hover */\n",
       "div.sk-estimator:hover .sk-estimator-doc-link:hover,\n",
       ".sk-estimator-doc-link:hover,\n",
       "div.sk-label-container:hover .sk-estimator-doc-link:hover,\n",
       ".sk-estimator-doc-link:hover {\n",
       "  /* unfitted */\n",
       "  background-color: var(--sklearn-color-unfitted-level-3);\n",
       "  color: var(--sklearn-color-background);\n",
       "  text-decoration: none;\n",
       "}\n",
       "\n",
       "div.sk-estimator.fitted:hover .sk-estimator-doc-link.fitted:hover,\n",
       ".sk-estimator-doc-link.fitted:hover,\n",
       "div.sk-label-container:hover .sk-estimator-doc-link.fitted:hover,\n",
       ".sk-estimator-doc-link.fitted:hover {\n",
       "  /* fitted */\n",
       "  background-color: var(--sklearn-color-fitted-level-3);\n",
       "  color: var(--sklearn-color-background);\n",
       "  text-decoration: none;\n",
       "}\n",
       "\n",
       "/* Span, style for the box shown on hovering the info icon */\n",
       ".sk-estimator-doc-link span {\n",
       "  display: none;\n",
       "  z-index: 9999;\n",
       "  position: relative;\n",
       "  font-weight: normal;\n",
       "  right: .2ex;\n",
       "  padding: .5ex;\n",
       "  margin: .5ex;\n",
       "  width: min-content;\n",
       "  min-width: 20ex;\n",
       "  max-width: 50ex;\n",
       "  color: var(--sklearn-color-text);\n",
       "  box-shadow: 2pt 2pt 4pt #999;\n",
       "  /* unfitted */\n",
       "  background: var(--sklearn-color-unfitted-level-0);\n",
       "  border: .5pt solid var(--sklearn-color-unfitted-level-3);\n",
       "}\n",
       "\n",
       ".sk-estimator-doc-link.fitted span {\n",
       "  /* fitted */\n",
       "  background: var(--sklearn-color-fitted-level-0);\n",
       "  border: var(--sklearn-color-fitted-level-3);\n",
       "}\n",
       "\n",
       ".sk-estimator-doc-link:hover span {\n",
       "  display: block;\n",
       "}\n",
       "\n",
       "/* \"?\"-specific style due to the `<a>` HTML tag */\n",
       "\n",
       "#sk-container-id-4 a.estimator_doc_link {\n",
       "  float: right;\n",
       "  font-size: 1rem;\n",
       "  line-height: 1em;\n",
       "  font-family: monospace;\n",
       "  background-color: var(--sklearn-color-background);\n",
       "  border-radius: 1rem;\n",
       "  height: 1rem;\n",
       "  width: 1rem;\n",
       "  text-decoration: none;\n",
       "  /* unfitted */\n",
       "  color: var(--sklearn-color-unfitted-level-1);\n",
       "  border: var(--sklearn-color-unfitted-level-1) 1pt solid;\n",
       "}\n",
       "\n",
       "#sk-container-id-4 a.estimator_doc_link.fitted {\n",
       "  /* fitted */\n",
       "  border: var(--sklearn-color-fitted-level-1) 1pt solid;\n",
       "  color: var(--sklearn-color-fitted-level-1);\n",
       "}\n",
       "\n",
       "/* On hover */\n",
       "#sk-container-id-4 a.estimator_doc_link:hover {\n",
       "  /* unfitted */\n",
       "  background-color: var(--sklearn-color-unfitted-level-3);\n",
       "  color: var(--sklearn-color-background);\n",
       "  text-decoration: none;\n",
       "}\n",
       "\n",
       "#sk-container-id-4 a.estimator_doc_link.fitted:hover {\n",
       "  /* fitted */\n",
       "  background-color: var(--sklearn-color-fitted-level-3);\n",
       "}\n",
       "</style><div id=\"sk-container-id-4\" class=\"sk-top-container\"><div class=\"sk-text-repr-fallback\"><pre>RandomForestRegressor(max_depth=14, min_samples_leaf=2, min_samples_split=3,\n",
       "                      n_estimators=112)</pre><b>In a Jupyter environment, please rerun this cell to show the HTML representation or trust the notebook. <br />On GitHub, the HTML representation is unable to render, please try loading this page with nbviewer.org.</b></div><div class=\"sk-container\" hidden><div class=\"sk-item\"><div class=\"sk-estimator fitted sk-toggleable\"><input class=\"sk-toggleable__control sk-hidden--visually\" id=\"sk-estimator-id-4\" type=\"checkbox\" checked><label for=\"sk-estimator-id-4\" class=\"sk-toggleable__label fitted sk-toggleable__label-arrow\"><div><div>RandomForestRegressor</div></div><div><a class=\"sk-estimator-doc-link fitted\" rel=\"noreferrer\" target=\"_blank\" href=\"https://scikit-learn.org/1.6/modules/generated/sklearn.ensemble.RandomForestRegressor.html\">?<span>Documentation for RandomForestRegressor</span></a><span class=\"sk-estimator-doc-link fitted\">i<span>Fitted</span></span></div></label><div class=\"sk-toggleable__content fitted\"><pre>RandomForestRegressor(max_depth=14, min_samples_leaf=2, min_samples_split=3,\n",
       "                      n_estimators=112)</pre></div> </div></div></div></div>"
      ],
      "text/plain": [
       "RandomForestRegressor(max_depth=14, min_samples_leaf=2, min_samples_split=3,\n",
       "                      n_estimators=112)"
      ]
     },
     "execution_count": 51,
     "metadata": {},
     "output_type": "execute_result"
    }
   ],
   "source": [
    "best_model = RandomForestRegressor(n_estimators=best_n_estimators,\n",
    "max_depth=best_max_depth,\n",
    "min_samples_split=best_min_samples_split,\n",
    "min_samples_leaf=best_min_samples_leaf)\n",
    "best_model.fit(X_train, y_train)"
   ]
  },
  {
   "cell_type": "code",
   "execution_count": 52,
   "id": "0ac6d058",
   "metadata": {},
   "outputs": [],
   "source": [
    "y_pred = best_model.predict(X_test)"
   ]
  },
  {
   "cell_type": "code",
   "execution_count": 53,
   "id": "77f37b0f",
   "metadata": {},
   "outputs": [
    {
     "data": {
      "text/plain": [
       "0.13160346261091369"
      ]
     },
     "execution_count": 53,
     "metadata": {},
     "output_type": "execute_result"
    }
   ],
   "source": [
    "mean_squared_error(y_test, y_pred)"
   ]
  },
  {
   "cell_type": "code",
   "execution_count": 54,
   "id": "b14f01c3",
   "metadata": {},
   "outputs": [
    {
     "data": {
      "text/plain": [
       "0.9884708677798059"
      ]
     },
     "execution_count": 54,
     "metadata": {},
     "output_type": "execute_result"
    }
   ],
   "source": [
    "r2_score(y_test, y_pred)"
   ]
  },
  {
   "cell_type": "code",
   "execution_count": null,
   "id": "e4d8e6a8",
   "metadata": {},
   "outputs": [],
   "source": []
  },
  {
   "cell_type": "code",
   "execution_count": null,
   "id": "9602ed2b",
   "metadata": {},
   "outputs": [],
   "source": []
  }
 ],
 "metadata": {
  "kernelspec": {
   "display_name": "ai_env",
   "language": "python",
   "name": "python3"
  },
  "language_info": {
   "codemirror_mode": {
    "name": "ipython",
    "version": 3
   },
   "file_extension": ".py",
   "mimetype": "text/x-python",
   "name": "python",
   "nbconvert_exporter": "python",
   "pygments_lexer": "ipython3",
   "version": "3.10.18"
  }
 },
 "nbformat": 4,
 "nbformat_minor": 5
}
