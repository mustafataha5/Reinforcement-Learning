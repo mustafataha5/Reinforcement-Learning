{
 "cells": [
  {
   "cell_type": "code",
   "execution_count": 1,
   "id": "c92608c7",
   "metadata": {},
   "outputs": [],
   "source": [
    "import gymnasium as gym\n",
    "from gymnasium import spaces\n",
    "import numpy as np\n",
    "import matplotlib.pyplot as plt"
   ]
  },
  {
   "cell_type": "code",
   "execution_count": 22,
   "id": "4129b53a",
   "metadata": {},
   "outputs": [],
   "source": [
    "class CustomEnv(gym.Env):\n",
    "    metadata = {\n",
    "        \"render_modes\": [\"human\", \"ansi\"],\n",
    "        \"render_fps\": 4\n",
    "    }\n",
    "\n",
    "    def __init__(self, n_rows=10, n_cols=10, goal_state=None, render_mode=None):\n",
    "        super(CustomEnv, self).__init__()\n",
    "\n",
    "        self.n_rows = n_rows\n",
    "        self.n_cols = n_cols\n",
    "        self.n_states = n_rows * n_cols\n",
    "        self.n_actions = 4\n",
    "\n",
    "        self.observation_space = spaces.Discrete(self.n_states)\n",
    "        self.action_space = spaces.Discrete(self.n_actions)\n",
    "\n",
    "        if goal_state is None:\n",
    "            self.goal_state = (n_rows - 1, n_cols - 1)\n",
    "        else:\n",
    "            self.goal_state = goal_state\n",
    "\n",
    "        self.state = 0\n",
    "        self.render_mode = render_mode\n",
    "\n",
    "\n",
    "    def reset(self,seed=None, options=None):\n",
    "        super().reset(seed=seed)\n",
    "        if options is not None:\n",
    "            self.goal_state = options.get('goal_state', self.goal_state)\n",
    "        self.state = 0\n",
    "        return self.state,{}\n",
    "\n",
    "    def step(self, action):\n",
    "        row,col = divmod(self.state, self.n_cols)\n",
    "        if action == 0:\n",
    "            row = max(0, row - 1)\n",
    "        elif action == 1:\n",
    "            row = min(self.n_rows - 1, row + 1)\n",
    "        elif action == 2:\n",
    "            col = max(0, col - 1)\n",
    "        elif action == 3:\n",
    "            col = min(self.n_cols - 1, col + 1)\n",
    "        self.state = row * self.n_cols + col\n",
    "\n",
    "        if self.state == self.goal_state[0] * self.n_cols + self.goal_state[1] :\n",
    "            reward = 100\n",
    "            done = True\n",
    "        else:\n",
    "            reward = -1\n",
    "            done = False\n",
    "\n",
    "        return self.state, reward, done, False, {}\n",
    "\n",
    "    def render(self):\n",
    "        if self.render_mode == \"human\":\n",
    "            fig,ax = plt.subplots()\n",
    "            ax.set_title(\"Custom Environment\")\n",
    "            ax.set_xlabel(\"Columns\")\n",
    "            ax.set_ylabel(\"Rows\")\n",
    "            ax.set_xticks(np.arange(self.n_cols+1)-0.5, minor=True)\n",
    "            ax.set_yticks(np.arange(self.n_rows+1)-0.5, minor=True)\n",
    "            ax.grid(which='minor', color='black', linestyle='-', linewidth=2)\n",
    "\n",
    "            for i in range(self.n_rows):\n",
    "                for j in range(self.n_cols):\n",
    "                    if (i, j) == self.goal_state:\n",
    "                        ax.text(j, i, 'G', ha='center', va='center', color='green')\n",
    "                    elif i * self.n_cols + j == self.state:\n",
    "                        ax.text(j, i, 'A', ha='center', va='center', color='red')\n",
    "                    else:\n",
    "                        ax.text(j, i, '.', ha='center', va='center', color='black')\n",
    "            plt.gca().invert_yaxis()\n",
    "            plt.show()\n",
    "        else: # self.render_mode == \"ansi\"\n",
    "            grid = np.full((self.n_rows, self.n_cols), '.',dtype=str)\n",
    "            # Convert goal_state tuple to linear index for comparison with self.state\n",
    "            goal_linear_state = self.goal_state[0] * self.n_cols + self.goal_state[1]\n",
    "            goal_row, goal_col = divmod(goal_linear_state, self.n_cols)\n",
    "            grid[goal_row, goal_col] = 'G'\n",
    "\n",
    "            agent_row, agent_col = divmod(self.state, self.n_cols)\n",
    "            grid[agent_row, agent_col] = 'A'\n",
    "\n",
    "            output_str = \"\"\n",
    "            for row in range(self.n_rows):\n",
    "                output_str += (\"+\" + \"---\" * self.n_cols + \"+\\n\")\n",
    "                output_str += (\"|\" + \"\".join([f\" {grid[row, col]} |\" for col in range(self.n_cols)]) + \"\\n\")\n",
    "            output_str += (\"+\" + \"---\" * self.n_cols + \"+\")\n",
    "            print(output_str)"
   ]
  },
  {
   "cell_type": "code",
   "execution_count": 23,
   "id": "5b55442a",
   "metadata": {},
   "outputs": [
    {
     "name": "stderr",
     "output_type": "stream",
     "text": [
      "c:\\Users\\user\\anaconda3\\envs\\ai_env\\lib\\site-packages\\gymnasium\\envs\\registration.py:636: UserWarning: \u001b[33mWARN: Overriding environment CustomEnv-v0 already in registry.\u001b[0m\n",
      "  logger.warn(f\"Overriding environment {new_spec.id} already in registry.\")\n"
     ]
    }
   ],
   "source": [
    "gym.register(\"CustomEnv-v0\", entry_point=CustomEnv,max_episode_steps=25)\n"
   ]
  },
  {
   "cell_type": "code",
   "execution_count": null,
   "id": "50a2fb5c",
   "metadata": {},
   "outputs": [
    {
     "name": "stdout",
     "output_type": "stream",
     "text": [
      "Initial Observation: 0\n"
     ]
    },
    {
     "data": {
      "image/png": "[encoded data removed]",
      "text/plain": [
       "<Figure size 640x480 with 1 Axes>"
      ]
     },
     "metadata": {},
     "output_type": "display_data"
    }
   ],
   "source": [
    "# --- Example Usage ---\n",
    "# Create the environment with 5x5 grid and goal at (3,3)\n",
    "env = gym.make(\"CustomEnv-v0\", n_rows=5, n_cols=5, render_mode=\"human\")\n",
    "obs, info = env.reset()\n",
    "\n",
    "print(f\"Initial Observation: {obs}\")\n",
    "env.render() # Render the initial state"
   ]
  },
  {
   "cell_type": "code",
   "execution_count": 25,
   "id": "4956d21d",
   "metadata": {},
   "outputs": [],
   "source": [
    "def get_action_name(action):\n",
    "    if action == 0:\n",
    "        return \"UP\"\n",
    "    elif action == 1:\n",
    "        return \"DOWN\"\n",
    "    elif action == 2:\n",
    "        return \"LEFT\"\n",
    "    elif action == 3:\n",
    "        return \"RIGHT\"\n",
    "    else:\n",
    "        return \"UNKNOWN\""
   ]
  },
  {
   "cell_type": "code",
   "execution_count": 27,
   "id": "2456e0b7",
   "metadata": {},
   "outputs": [
    {
     "name": "stdout",
     "output_type": "stream",
     "text": [
      "Initial Observation: 0\n",
      "+---------------+\n",
      "| A | . | . | . | . |\n",
      "+---------------+\n",
      "| . | . | . | . | . |\n",
      "+---------------+\n",
      "| . | . | . | . | . |\n",
      "+---------------+\n",
      "| . | . | . | . | . |\n",
      "+---------------+\n",
      "| . | . | . | . | G |\n",
      "+---------------+\n"
     ]
    }
   ],
   "source": [
    "env = gym.make(\"CustomEnv-v0\", n_rows=5, n_cols=5)\n",
    "obs, info = env.reset()\n",
    "\n",
    "print(f\"Initial Observation: {obs}\")\n",
    "env.render() # Render the initial state"
   ]
  },
  {
   "cell_type": "code",
   "execution_count": 29,
   "id": "81e25459",
   "metadata": {},
   "outputs": [
    {
     "name": "stdout",
     "output_type": "stream",
     "text": [
      "Action: RIGHT, Observation: 22, Reward: -1\n",
      "+---------------+\n",
      "| . | . | . | . | . |\n",
      "+---------------+\n",
      "| . | . | . | . | . |\n",
      "+---------------+\n",
      "| . | . | . | . | . |\n",
      "+---------------+\n",
      "| . | . | . | . | . |\n",
      "+---------------+\n",
      "| . | . | A | . | G |\n",
      "+---------------+\n",
      "Episode finished.\n"
     ]
    }
   ],
   "source": [
    "\n",
    "terminated = False\n",
    "truncated = False\n",
    "while not terminated and not truncated:\n",
    "\n",
    "    action = env.action_space.sample()  # Random action\n",
    "    obs, reward, terminated, truncated, info = env.step(action)\n",
    "    print(f\"Action: {get_action_name(action)}, Observation: {obs}, Reward: {reward}\")\n",
    "    \n",
    "    env.render()  # Render the current state\n",
    "\n",
    "env.close()\n",
    "print(\"Episode finished.\")   "
   ]
  },
  {
   "cell_type": "code",
   "execution_count": null,
   "id": "5146b919",
   "metadata": {},
   "outputs": [],
   "source": []
  }
 ],
 "metadata": {
  "kernelspec": {
   "display_name": "ai_env",
   "language": "python",
   "name": "python3"
  },
  "language_info": {
   "codemirror_mode": {
    "name": "ipython",
    "version": 3
   },
   "file_extension": ".py",
   "mimetype": "text/x-python",
   "name": "python",
   "nbconvert_exporter": "python",
   "pygments_lexer": "ipython3",
   "version": "3.10.18"
  }
 },
 "nbformat": 4,
 "nbformat_minor": 5
}
