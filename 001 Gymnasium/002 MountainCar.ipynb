{
 "cells": [
  {
   "cell_type": "code",
   "execution_count": 11,
   "id": "2f18cb2d",
   "metadata": {},
   "outputs": [
    {
     "name": "stderr",
     "output_type": "stream",
     "text": [
      "c:\\Users\\user\\anaconda3\\envs\\ai_env\\lib\\site-packages\\gymnasium\\envs\\registration.py:520: UserWarning: \u001b[33mWARN: Using the latest versioned environment `MountainCar-v0` instead of the unversioned environment `MountainCar`.\u001b[0m\n",
      "  logger.warn(\n"
     ]
    }
   ],
   "source": [
    "import gymnasium as gym\n",
    "import numpy as np\n",
    "\n",
    "\n",
    "\n",
    "env = gym.make(\"MountainCar\", render_mode=\"human\")\n",
    "state , _ = env.reset()\n",
    "# env.render()"
   ]
  },
  {
   "cell_type": "code",
   "execution_count": 12,
   "id": "48361bb2",
   "metadata": {},
   "outputs": [
    {
     "name": "stdout",
     "output_type": "stream",
     "text": [
      "Total Reward: -200.0\n"
     ]
    }
   ],
   "source": [
    "done = False\n",
    "total_reward = 0    \n",
    "while not done:\n",
    "    action = env.action_space.sample()  # Random action\n",
    "    next_state, reward, terminated, truncated, info = env.step(action)\n",
    "    env.render()\n",
    "    total_reward += reward\n",
    "    done = terminated or truncated\n",
    "    # print(f\"State: {next_state}, Reward: {reward}, Done: {done}\")\n",
    "    state = next_state\n",
    "print(f\"Total Reward: {total_reward}\")\n",
    "# env.close()\n"
   ]
  },
  {
   "cell_type": "code",
   "execution_count": 13,
   "id": "199a98f9",
   "metadata": {},
   "outputs": [
    {
     "data": {
      "image/png": "[encoded data removed]",
      "text/plain": [
       "<Figure size 1000x500 with 1 Axes>"
      ]
     },
     "metadata": {},
     "output_type": "display_data"
    }
   ],
   "source": [
    "import matplotlib.pyplot as plt\n",
    "from IPython.display import clear_output\n",
    "\n",
    "fig, ax = plt.subplots(figsize=(10, 5))\n",
    "\n",
    "\n",
    "state,info = env.reset()\n",
    "terminated = False\n",
    "truncated = False\n",
    "\n",
    "while not (terminated or truncated):\n",
    "    action = env.action_space.sample()  # Random action\n",
    "    next_state, reward, terminated, truncated, info = env.step(action)\n",
    "    \n",
    "    ax.clear()\n",
    "    ax.plot(state[0], state[1], 'ro')  # Plot the car position\n",
    "    ax.set_xlim(-1.2, 0.6)\n",
    "    ax.set_ylim(-0.07, 0.07)\n",
    "    ax.set_title(\"Mountain Car State\")\n",
    "    \n",
    "    clear_output(wait=True)\n",
    "    plt.pause(0.01)  # Pause to update the plot\n",
    "    \n",
    "    state = next_state\n",
    "\n"
   ]
  },
  {
   "cell_type": "code",
   "execution_count": null,
   "id": "cd84f4e0",
   "metadata": {},
   "outputs": [],
   "source": []
  }
 ],
 "metadata": {
  "kernelspec": {
   "display_name": "ai_env",
   "language": "python",
   "name": "python3"
  },
  "language_info": {
   "codemirror_mode": {
    "name": "ipython",
    "version": 3
   },
   "file_extension": ".py",
   "mimetype": "text/x-python",
   "name": "python",
   "nbconvert_exporter": "python",
   "pygments_lexer": "ipython3",
   "version": "3.10.18"
  }
 },
 "nbformat": 4,
 "nbformat_minor": 5
}
