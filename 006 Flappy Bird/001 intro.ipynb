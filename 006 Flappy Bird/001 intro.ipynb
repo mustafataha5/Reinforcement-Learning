{
 "cells": [
  {
   "cell_type": "code",
   "execution_count": 1,
   "id": "4820f342",
   "metadata": {},
   "outputs": [
    {
     "name": "stdout",
     "output_type": "stream",
     "text": [
      "Requirement already satisfied: flappy-bird-gymnasium in c:\\users\\user\\anaconda3\\envs\\ai_env\\lib\\site-packages (0.4.0)\n",
      "Requirement already satisfied: gymnasium in c:\\users\\user\\anaconda3\\envs\\ai_env\\lib\\site-packages (from flappy-bird-gymnasium) (1.2.0)\n",
      "Requirement already satisfied: numpy in c:\\users\\user\\anaconda3\\envs\\ai_env\\lib\\site-packages (from flappy-bird-gymnasium) (2.2.6)\n",
      "Requirement already satisfied: pygame in c:\\users\\user\\anaconda3\\envs\\ai_env\\lib\\site-packages (from flappy-bird-gymnasium) (2.6.1)\n",
      "Requirement already satisfied: matplotlib in c:\\users\\user\\anaconda3\\envs\\ai_env\\lib\\site-packages (from flappy-bird-gymnasium) (3.10.3)\n",
      "Requirement already satisfied: cloudpickle>=1.2.0 in c:\\users\\user\\anaconda3\\envs\\ai_env\\lib\\site-packages (from gymnasium->flappy-bird-gymnasium) (3.1.1)\n",
      "Requirement already satisfied: typing-extensions>=4.3.0 in c:\\users\\user\\anaconda3\\envs\\ai_env\\lib\\site-packages (from gymnasium->flappy-bird-gymnasium) (4.14.1)\n",
      "Requirement already satisfied: farama-notifications>=0.0.1 in c:\\users\\user\\anaconda3\\envs\\ai_env\\lib\\site-packages (from gymnasium->flappy-bird-gymnasium) (0.0.4)\n",
      "Requirement already satisfied: contourpy>=1.0.1 in c:\\users\\user\\anaconda3\\envs\\ai_env\\lib\\site-packages (from matplotlib->flappy-bird-gymnasium) (1.3.2)\n",
      "Requirement already satisfied: cycler>=0.10 in c:\\users\\user\\anaconda3\\envs\\ai_env\\lib\\site-packages (from matplotlib->flappy-bird-gymnasium) (0.12.1)\n",
      "Requirement already satisfied: fonttools>=4.22.0 in c:\\users\\user\\anaconda3\\envs\\ai_env\\lib\\site-packages (from matplotlib->flappy-bird-gymnasium) (4.59.0)\n",
      "Requirement already satisfied: kiwisolver>=1.3.1 in c:\\users\\user\\anaconda3\\envs\\ai_env\\lib\\site-packages (from matplotlib->flappy-bird-gymnasium) (1.4.8)\n",
      "Requirement already satisfied: packaging>=20.0 in c:\\users\\user\\anaconda3\\envs\\ai_env\\lib\\site-packages (from matplotlib->flappy-bird-gymnasium) (25.0)\n",
      "Requirement already satisfied: pillow>=8 in c:\\users\\user\\anaconda3\\envs\\ai_env\\lib\\site-packages (from matplotlib->flappy-bird-gymnasium) (11.3.0)\n",
      "Requirement already satisfied: pyparsing>=2.3.1 in c:\\users\\user\\anaconda3\\envs\\ai_env\\lib\\site-packages (from matplotlib->flappy-bird-gymnasium) (3.2.3)\n",
      "Requirement already satisfied: python-dateutil>=2.7 in c:\\users\\user\\anaconda3\\envs\\ai_env\\lib\\site-packages (from matplotlib->flappy-bird-gymnasium) (2.9.0.post0)\n",
      "Requirement already satisfied: six>=1.5 in c:\\users\\user\\anaconda3\\envs\\ai_env\\lib\\site-packages (from python-dateutil>=2.7->matplotlib->flappy-bird-gymnasium) (1.17.0)\n"
     ]
    }
   ],
   "source": [
    "!pip install flappy-bird-gymnasium"
   ]
  },
  {
   "cell_type": "code",
   "execution_count": 9,
   "id": "0a18af48",
   "metadata": {},
   "outputs": [
    {
     "name": "stdout",
     "output_type": "stream",
     "text": [
      "[1.         1.         1.         1.         1.         1.\n",
      " 1.         1.         1.         1.         1.         1.\n",
      " 1.         1.         1.         1.         1.         1.\n",
      " 1.         1.         1.         1.         1.         1.\n",
      " 1.         1.         1.         1.         1.         1.\n",
      " 1.         1.         1.         1.         1.         1.\n",
      " 1.         1.         1.         1.         1.         1.\n",
      " 1.         1.         1.         1.         1.         1.\n",
      " 1.         1.         1.         1.         1.         1.\n",
      " 1.         1.         1.         1.         1.         1.\n",
      " 1.         1.         1.         1.         1.         1.\n",
      " 1.         1.         1.         1.         1.         1.\n",
      " 1.         1.         1.         1.         1.         1.\n",
      " 1.         1.         1.         1.         1.         1.\n",
      " 1.         1.         1.         1.         1.         1.\n",
      " 1.         1.         1.         1.         1.         1.\n",
      " 1.         1.         1.         1.         1.         1.\n",
      " 1.         1.         1.         1.         1.         1.\n",
      " 1.         1.         1.         1.         1.         1.\n",
      " 1.         1.         1.         1.         1.         1.\n",
      " 1.         1.         1.         1.         1.         1.\n",
      " 1.         1.         1.         1.         1.         1.\n",
      " 1.         1.         1.         1.         1.         1.\n",
      " 1.         1.         1.         1.         1.         1.\n",
      " 1.         1.         1.         1.         1.         1.\n",
      " 1.         1.         1.         1.         1.         1.\n",
      " 1.         1.         1.         1.         0.9818347  0.96891772\n",
      " 0.95626183 0.94387755 0.9317757  0.91996743 0.90846418 0.89727769\n",
      " 0.88641994 0.87849972 0.87077653 0.86325566 0.85355176 0.84422975\n",
      " 0.83749654 0.83099074 0.82471771 0.81868282 0.81289137 0.80734859]\n"
     ]
    },
    {
     "name": "stderr",
     "output_type": "stream",
     "text": [
      "c:\\Users\\user\\anaconda3\\envs\\ai_env\\lib\\site-packages\\gymnasium\\utils\\passive_env_checker.py:158: UserWarning: \u001b[33mWARN: The obs returned by the `reset()` method is not within the observation space.\u001b[0m\n",
      "  logger.warn(f\"{pre} is not within the observation space.\")\n",
      "c:\\Users\\user\\anaconda3\\envs\\ai_env\\lib\\site-packages\\gymnasium\\utils\\passive_env_checker.py:158: UserWarning: \u001b[33mWARN: The obs returned by the `step()` method is not within the observation space.\u001b[0m\n",
      "  logger.warn(f\"{pre} is not within the observation space.\")\n"
     ]
    }
   ],
   "source": [
    "import flappy_bird_gymnasium\n",
    "import gymnasium\n",
    "env = gymnasium.make(\"FlappyBird-v0\", render_mode=\"rgb_array\", use_lidar=True)\n",
    "\n",
    "obs, _ = env.reset()\n",
    "print(obs)\n",
    "while True:\n",
    "    # Next action:\n",
    "    # (feed the observation to your agent here)\n",
    "    action = env.action_space.sample()\n",
    "\n",
    "    # Processing:\n",
    "    obs, reward, terminated, _, info = env.step(action)\n",
    "    \n",
    "    # Checking if the player is still alive\n",
    "    if terminated:\n",
    "        break\n",
    "\n"
   ]
  },
  {
   "cell_type": "code",
   "execution_count": 10,
   "id": "07dd750b",
   "metadata": {},
   "outputs": [],
   "source": [
    "from moviepy import ImageSequenceClip"
   ]
  },
  {
   "cell_type": "code",
   "execution_count": 11,
   "id": "a9f7d2e3",
   "metadata": {},
   "outputs": [
    {
     "name": "stdout",
     "output_type": "stream",
     "text": [
      "Episode: 0 - Total Reward: -8.099999999999998\n",
      "Episode: 1 - Total Reward: -6.299999999999999\n",
      "Episode: 2 - Total Reward: -5.699999999999998\n",
      "Episode: 3 - Total Reward: -8.7\n",
      "Episode: 4 - Total Reward: -6.299999999999999\n",
      "Episode: 5 - Total Reward: -8.099999999999998\n",
      "Episode: 6 - Total Reward: -5.699999999999998\n",
      "Episode: 7 - Total Reward: -8.7\n",
      "Episode: 8 - Total Reward: -6.899999999999999\n",
      "Episode: 9 - Total Reward: -7.499999999999998\n"
     ]
    }
   ],
   "source": [
    "frames  = [] \n",
    "episodes = 10 \n",
    "total_reward_episodes = 0 \n",
    "\n",
    "for episod in range(episodes): \n",
    "    done = False  \n",
    "    total_reward = 0 \n",
    "    state,_ = env.reset() \n",
    "    frames.append(env.render())\n",
    "    while not done : \n",
    "        action =  env.action_space.sample()\n",
    "\n",
    "        # Processing:\n",
    "        obs, reward, terminated, truncated, info = env.step(action)\n",
    "\n",
    "        done = terminated or truncated \n",
    "        total_reward += reward \n",
    "        frames.append(env.render())\n",
    "    print(f\"Episode: {episod} - Total Reward: {total_reward}\")    \n",
    "    total_reward_episodes +=total_reward       \n"
   ]
  },
  {
   "cell_type": "code",
   "execution_count": 12,
   "id": "f4a32b8f",
   "metadata": {},
   "outputs": [
    {
     "name": "stdout",
     "output_type": "stream",
     "text": [
      "MoviePy - Building video flappy_bird_random_agent.mp4.\n",
      "MoviePy - Writing video flappy_bird_random_agent.mp4\n",
      "\n"
     ]
    },
    {
     "name": "stderr",
     "output_type": "stream",
     "text": [
      "                                                                         \r"
     ]
    },
    {
     "name": "stdout",
     "output_type": "stream",
     "text": [
      "MoviePy - Done !\n",
      "MoviePy - video ready flappy_bird_random_agent.mp4\n"
     ]
    }
   ],
   "source": [
    "env.close()\n",
    "\n",
    "# Create video from frames\n",
    "clip = ImageSequenceClip(frames, fps=30)\n",
    "clip.write_videofile(\"flappy_bird_random_agent.mp4\")"
   ]
  },
  {
   "cell_type": "code",
   "execution_count": null,
   "id": "4432f61a",
   "metadata": {},
   "outputs": [],
   "source": []
  }
 ],
 "metadata": {
  "kernelspec": {
   "display_name": "ai_env",
   "language": "python",
   "name": "python3"
  },
  "language_info": {
   "codemirror_mode": {
    "name": "ipython",
    "version": 3
   },
   "file_extension": ".py",
   "mimetype": "text/x-python",
   "name": "python",
   "nbconvert_exporter": "python",
   "pygments_lexer": "ipython3",
   "version": "3.10.18"
  }
 },
 "nbformat": 4,
 "nbformat_minor": 5
}
